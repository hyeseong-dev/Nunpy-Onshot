{
  "nbformat": 4,
  "nbformat_minor": 0,
  "metadata": {
    "colab": {
      "name": "Numpy 한방에 배우기",
      "provenance": [],
      "include_colab_link": true
    },
    "kernelspec": {
      "name": "python3",
      "display_name": "Python 3"
    }
  },
  "cells": [
    {
      "cell_type": "markdown",
      "metadata": {
        "id": "view-in-github",
        "colab_type": "text"
      },
      "source": [
        "<a href=\"https://colab.research.google.com/github/osori-magu/Nunpy-Onshot/blob/master/Numpy_%ED%95%9C%EB%B0%A9%EC%97%90_%EB%B0%B0%EC%9A%B0%EA%B8%B0.ipynb\" target=\"_parent\"><img src=\"https://colab.research.google.com/assets/colab-badge.svg\" alt=\"Open In Colab\"/></a>"
      ]
    },
    {
      "cell_type": "markdown",
      "metadata": {
        "id": "Rspfoc0oe-nn",
        "colab_type": "text"
      },
      "source": [
        "# Numpy 제대로 배우기\n"
      ]
    },
    {
      "cell_type": "code",
      "metadata": {
        "id": "2LfOfvh2vbhK",
        "colab_type": "code",
        "colab": {}
      },
      "source": [
        "import numpy as np"
      ],
      "execution_count": null,
      "outputs": []
    },
    {
      "cell_type": "markdown",
      "metadata": {
        "id": "755jWmqSfJk-",
        "colab_type": "text"
      },
      "source": [
        "## NumPy 특징"
      ]
    },
    {
      "cell_type": "markdown",
      "metadata": {
        "id": "ShJsCPcafQjV",
        "colab_type": "text"
      },
      "source": [
        "## 배열생성"
      ]
    },
    {
      "cell_type": "markdown",
      "metadata": {
        "id": "IJDocv5dfcsN",
        "colab_type": "text"
      },
      "source": [
        "### 리스트로 배열 만들기"
      ]
    },
    {
      "cell_type": "markdown",
      "metadata": {
        "id": "u4p65V16exxZ",
        "colab_type": "text"
      },
      "source": [
        "### 배열 생성 및 초기화\n",
        "- zeros(): 모든 요소를 0으로 초기화"
      ]
    },
    {
      "cell_type": "code",
      "metadata": {
        "id": "0xvHkRRNe65z",
        "colab_type": "code",
        "colab": {
          "base_uri": "https://localhost:8080/",
          "height": 35
        },
        "outputId": "ee69049b-4214-44cd-c36e-7f8aca9da082"
      },
      "source": [
        "np.zeros(10)"
      ],
      "execution_count": null,
      "outputs": [
        {
          "output_type": "execute_result",
          "data": {
            "text/plain": [
              "array([0., 0., 0., 0., 0., 0., 0., 0., 0., 0.])"
            ]
          },
          "metadata": {
            "tags": []
          },
          "execution_count": 5
        }
      ]
    },
    {
      "cell_type": "code",
      "metadata": {
        "id": "vUHtHOVeflhA",
        "colab_type": "code",
        "colab": {}
      },
      "source": [
        ""
      ],
      "execution_count": null,
      "outputs": []
    }
  ]
}