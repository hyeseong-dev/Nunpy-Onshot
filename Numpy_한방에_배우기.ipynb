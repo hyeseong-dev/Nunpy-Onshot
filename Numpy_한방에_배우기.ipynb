{
  "nbformat": 4,
  "nbformat_minor": 0,
  "metadata": {
    "colab": {
      "name": "Numpy 한방에 배우기",
      "provenance": [],
      "collapsed_sections": [],
      "toc_visible": true,
      "include_colab_link": true
    },
    "kernelspec": {
      "name": "python3",
      "display_name": "Python 3"
    }
  },
  "cells": [
    {
      "cell_type": "markdown",
      "metadata": {
        "id": "view-in-github",
        "colab_type": "text"
      },
      "source": [
        "<a href=\"https://colab.research.google.com/github/osori-magu/Nunpy-Onshot/blob/master/Numpy_%ED%95%9C%EB%B0%A9%EC%97%90_%EB%B0%B0%EC%9A%B0%EA%B8%B0.ipynb\" target=\"_parent\"><img src=\"https://colab.research.google.com/assets/colab-badge.svg\" alt=\"Open In Colab\"/></a>"
      ]
    },
    {
      "cell_type": "markdown",
      "metadata": {
        "id": "Rspfoc0oe-nn",
        "colab_type": "text"
      },
      "source": [
        "# Numpy 제대로 배우기\n"
      ]
    },
    {
      "cell_type": "code",
      "metadata": {
        "id": "2LfOfvh2vbhK",
        "colab_type": "code",
        "colab": {}
      },
      "source": [
        "import numpy as np"
      ],
      "execution_count": null,
      "outputs": []
    },
    {
      "cell_type": "markdown",
      "metadata": {
        "id": "755jWmqSfJk-",
        "colab_type": "text"
      },
      "source": [
        "## NumPy 특징"
      ]
    },
    {
      "cell_type": "markdown",
      "metadata": {
        "id": "ShJsCPcafQjV",
        "colab_type": "text"
      },
      "source": [
        "## 배열생성"
      ]
    },
    {
      "cell_type": "markdown",
      "metadata": {
        "id": "IJDocv5dfcsN",
        "colab_type": "text"
      },
      "source": [
        "### 리스트로 배열 만들기"
      ]
    },
    {
      "cell_type": "markdown",
      "metadata": {
        "id": "u4p65V16exxZ",
        "colab_type": "text"
      },
      "source": [
        "### 배열 생성 및 초기화\n",
        "- zeros(): 모든 요소를 0으로 초기화"
      ]
    },
    {
      "cell_type": "code",
      "metadata": {
        "id": "0xvHkRRNe65z",
        "colab_type": "code",
        "colab": {
          "base_uri": "https://localhost:8080/",
          "height": 34
        },
        "outputId": "7a5181f5-e8a7-41f4-a7a2-21041e9f61f7"
      },
      "source": [
        "np.zeros(10)"
      ],
      "execution_count": null,
      "outputs": [
        {
          "output_type": "execute_result",
          "data": {
            "text/plain": [
              "array([0., 0., 0., 0., 0., 0., 0., 0., 0., 0.])"
            ]
          },
          "metadata": {
            "tags": []
          },
          "execution_count": 2
        }
      ]
    },
    {
      "cell_type": "markdown",
      "metadata": {
        "id": "vUHtHOVeflhA",
        "colab_type": "text"
      },
      "source": [
        "- ones(): 모든 요소를 1로 초기화"
      ]
    },
    {
      "cell_type": "code",
      "metadata": {
        "id": "iGkvrMBLOs-y",
        "colab_type": "code",
        "colab": {
          "base_uri": "https://localhost:8080/",
          "height": 70
        },
        "outputId": "5dd63bb1-448c-4de6-a185-813fce3be6ff"
      },
      "source": [
        "np.ones((3,3))"
      ],
      "execution_count": null,
      "outputs": [
        {
          "output_type": "execute_result",
          "data": {
            "text/plain": [
              "array([[1., 1., 1.],\n",
              "       [1., 1., 1.],\n",
              "       [1., 1., 1.]])"
            ]
          },
          "metadata": {
            "tags": []
          },
          "execution_count": 3
        }
      ]
    },
    {
      "cell_type": "markdown",
      "metadata": {
        "id": "6aJx0lgFPB9D",
        "colab_type": "text"
      },
      "source": [
        "- full(): 모든 요소를 지정한 값으로 초기"
      ]
    },
    {
      "cell_type": "code",
      "metadata": {
        "id": "l3YjFp6MPH0R",
        "colab_type": "code",
        "colab": {
          "base_uri": "https://localhost:8080/",
          "height": 70
        },
        "outputId": "b1b32111-26b6-4216-ca4b-ea37025cfd79"
      },
      "source": [
        "np.full((3,3),1.23)"
      ],
      "execution_count": null,
      "outputs": [
        {
          "output_type": "execute_result",
          "data": {
            "text/plain": [
              "array([[1.23, 1.23, 1.23],\n",
              "       [1.23, 1.23, 1.23],\n",
              "       [1.23, 1.23, 1.23]])"
            ]
          },
          "metadata": {
            "tags": []
          },
          "execution_count": 4
        }
      ]
    },
    {
      "cell_type": "markdown",
      "metadata": {
        "id": "U32cFMrUPgi8",
        "colab_type": "text"
      },
      "source": [
        "- eye(): 단위행렬(identity matrix)생성\n",
        "  - 주대각선의 원소가 모두 1이고 나머지 원소는 모두 0인 정사각 행렬"
      ]
    },
    {
      "cell_type": "code",
      "metadata": {
        "id": "Ss0IX31UPqOo",
        "colab_type": "code",
        "colab": {
          "base_uri": "https://localhost:8080/",
          "height": 70
        },
        "outputId": "769216e2-ee8b-4ee7-f088-cbdd87f89144"
      },
      "source": [
        "np.eye(3)"
      ],
      "execution_count": null,
      "outputs": [
        {
          "output_type": "execute_result",
          "data": {
            "text/plain": [
              "array([[1., 0., 0.],\n",
              "       [0., 1., 0.],\n",
              "       [0., 0., 1.]])"
            ]
          },
          "metadata": {
            "tags": []
          },
          "execution_count": 5
        }
      ]
    },
    {
      "cell_type": "markdown",
      "metadata": {
        "id": "PNJPMaxpPsgv",
        "colab_type": "text"
      },
      "source": [
        " - empty(): 초기화 되지 않은 배열 생성\n",
        "  - 초기화가 없어서 배열 생성 비용이 저렴하고 빠름\n",
        "  - 초기화되지 않아서 기존 메모리 위치에 존재하는 값이 있"
      ]
    },
    {
      "cell_type": "code",
      "metadata": {
        "id": "FM7M4-VUP8xI",
        "colab_type": "code",
        "colab": {
          "base_uri": "https://localhost:8080/",
          "height": 34
        },
        "outputId": "51c662ae-b34a-48d2-c18f-663c7ff12494"
      },
      "source": [
        "np.empty(10)"
      ],
      "execution_count": null,
      "outputs": [
        {
          "output_type": "execute_result",
          "data": {
            "text/plain": [
              "array([0., 0., 0., 0., 0., 0., 0., 0., 0., 0.])"
            ]
          },
          "metadata": {
            "tags": []
          },
          "execution_count": 6
        }
      ]
    },
    {
      "cell_type": "markdown",
      "metadata": {
        "id": "qQxwGwTvQC3R",
        "colab_type": "text"
      },
      "source": [
        "- _like(): 지정된 배열과 shape가 같은 행렬 생성 \n",
        "\n",
        "   - np.zeros_like()\n",
        "   - np.ones_like()\n",
        "   - np.full_like()\n",
        "   - np.empty_like()\n",
        "\n"
      ]
    },
    {
      "cell_type": "code",
      "metadata": {
        "id": "mUr6Np3mQjgU",
        "colab_type": "code",
        "colab": {
          "base_uri": "https://localhost:8080/",
          "height": 34
        },
        "outputId": "a3ecc133-705b-4137-f771-52c9ed66e8f6"
      },
      "source": [
        "a1 = np.array([4,5,6,4,5])\n",
        "np.zeros_like(a1)"
      ],
      "execution_count": null,
      "outputs": [
        {
          "output_type": "execute_result",
          "data": {
            "text/plain": [
              "array([0, 0, 0, 0, 0])"
            ]
          },
          "metadata": {
            "tags": []
          },
          "execution_count": 7
        }
      ]
    },
    {
      "cell_type": "code",
      "metadata": {
        "id": "y5tzivkZQw69",
        "colab_type": "code",
        "colab": {
          "base_uri": "https://localhost:8080/",
          "height": 123
        },
        "outputId": "859803a1-2e8a-433b-8997-b8cdf2afc950"
      },
      "source": [
        "a2 = np.array([[1,2,3],[4,5,6],[7,8,9]])\n",
        "print(a2)\n",
        "\n",
        "np.ones_like(a2)"
      ],
      "execution_count": null,
      "outputs": [
        {
          "output_type": "stream",
          "text": [
            "[[1 2 3]\n",
            " [4 5 6]\n",
            " [7 8 9]]\n"
          ],
          "name": "stdout"
        },
        {
          "output_type": "execute_result",
          "data": {
            "text/plain": [
              "array([[1, 1, 1],\n",
              "       [1, 1, 1],\n",
              "       [1, 1, 1]])"
            ]
          },
          "metadata": {
            "tags": []
          },
          "execution_count": 8
        }
      ]
    },
    {
      "cell_type": "code",
      "metadata": {
        "id": "mv7hl0HdRqBc",
        "colab_type": "code",
        "colab": {
          "base_uri": "https://localhost:8080/",
          "height": 212
        },
        "outputId": "86292e4f-fa07-472f-c7d2-cae006e78073"
      },
      "source": [
        "a3 = np.array([\n",
        "               [[1,2,3,], [4,5,6,], [7,8,9] ],\n",
        "               [[1,2,3,], [4,5,6,], [7,8,9] ],\n",
        "               [[1,2,3,], [4,5,6,], [7,8,9] ]\n",
        "               ])\n",
        "\n",
        "np.full_like(a3, 10)"
      ],
      "execution_count": null,
      "outputs": [
        {
          "output_type": "execute_result",
          "data": {
            "text/plain": [
              "array([[[10, 10, 10],\n",
              "        [10, 10, 10],\n",
              "        [10, 10, 10]],\n",
              "\n",
              "       [[10, 10, 10],\n",
              "        [10, 10, 10],\n",
              "        [10, 10, 10]],\n",
              "\n",
              "       [[10, 10, 10],\n",
              "        [10, 10, 10],\n",
              "        [10, 10, 10]]])"
            ]
          },
          "metadata": {
            "tags": []
          },
          "execution_count": 9
        }
      ]
    },
    {
      "cell_type": "markdown",
      "metadata": {
        "id": "2rnRPzS-Rn9z",
        "colab_type": "text"
      },
      "source": [
        "벡터화 연산은 비교 연산과 논리 연산을 포함한 모든 종류의 수학 연산에 대해 적용된다. 선형 대수에 적용되는 벡터화 연산에 대해서는 나중에 보다 자세히 설명한다."
      ]
    },
    {
      "cell_type": "code",
      "metadata": {
        "id": "ta_jn6-cRi01",
        "colab_type": "code",
        "colab": {}
      },
      "source": [
        ""
      ],
      "execution_count": null,
      "outputs": []
    },
    {
      "cell_type": "code",
      "metadata": {
        "id": "b29e6mPgQUeD",
        "colab_type": "code",
        "colab": {}
      },
      "source": [
        ""
      ],
      "execution_count": null,
      "outputs": []
    },
    {
      "cell_type": "markdown",
      "metadata": {
        "id": "FoVJ8Xj-QJsx",
        "colab_type": "text"
      },
      "source": [
        "### 생성한 값으로 배열 생성"
      ]
    },
    {
      "cell_type": "markdown",
      "metadata": {
        "id": "WHNQ1Zk_CE6F",
        "colab_type": "text"
      },
      "source": [
        "- arange(): 정수 범위로 배열 생성"
      ]
    },
    {
      "cell_type": "code",
      "metadata": {
        "id": "PtZBDFzRCt9m",
        "colab_type": "code",
        "colab": {
          "base_uri": "https://localhost:8080/",
          "height": 34
        },
        "outputId": "8fd04f51-ed36-4285-f099-6f145097d6d1"
      },
      "source": [
        "np.arange(0, 30, 2)"
      ],
      "execution_count": null,
      "outputs": [
        {
          "output_type": "execute_result",
          "data": {
            "text/plain": [
              "array([ 0,  2,  4,  6,  8, 10, 12, 14, 16, 18, 20, 22, 24, 26, 28])"
            ]
          },
          "metadata": {
            "tags": []
          },
          "execution_count": 10
        }
      ]
    },
    {
      "cell_type": "markdown",
      "metadata": {
        "id": "elCNt1ICCIoU",
        "colab_type": "text"
      },
      "source": [
        " - linspace(): 범위 내에서 균등 간격의 배열 생성\n"
      ]
    },
    {
      "cell_type": "code",
      "metadata": {
        "id": "cHP796rECuOf",
        "colab_type": "code",
        "colab": {
          "base_uri": "https://localhost:8080/",
          "height": 34
        },
        "outputId": "df4e81a4-496f-40ab-b5ff-eac616b53b6b"
      },
      "source": [
        "np.linspace(0, 1, 5)"
      ],
      "execution_count": null,
      "outputs": [
        {
          "output_type": "execute_result",
          "data": {
            "text/plain": [
              "array([0.  , 0.25, 0.5 , 0.75, 1.  ])"
            ]
          },
          "metadata": {
            "tags": []
          },
          "execution_count": 11
        }
      ]
    },
    {
      "cell_type": "markdown",
      "metadata": {
        "id": "jivVpf7yCnV_",
        "colab_type": "text"
      },
      "source": [
        " - logspace(): 범위 내에서 균등간격으로 로그 스케일로 배열 생성\n"
      ]
    },
    {
      "cell_type": "code",
      "metadata": {
        "id": "dLrAy_9NCs9Y",
        "colab_type": "code",
        "colab": {
          "base_uri": "https://localhost:8080/",
          "height": 87
        },
        "outputId": "ca551bfd-f394-4035-e4ff-34a693e3ada8"
      },
      "source": [
        "np.logspace(0.1, 1, 20)"
      ],
      "execution_count": null,
      "outputs": [
        {
          "output_type": "execute_result",
          "data": {
            "text/plain": [
              "array([ 1.25892541,  1.40400425,  1.565802  ,  1.74624535,  1.94748304,\n",
              "        2.1719114 ,  2.42220294,  2.70133812,  3.0126409 ,  3.35981829,\n",
              "        3.74700446,  4.17881006,  4.66037703,  5.19743987,  5.79639395,\n",
              "        6.46437163,  7.2093272 ,  8.04013161,  8.9666781 , 10.        ])"
            ]
          },
          "metadata": {
            "tags": []
          },
          "execution_count": 12
        }
      ]
    },
    {
      "cell_type": "markdown",
      "metadata": {
        "id": "waWnGIiWQTWI",
        "colab_type": "text"
      },
      "source": [
        "### 랜덤값으로 배열 생성 \n",
        "\n",
        "|함수|설명   |\n",
        "|---|---|\n",
        "|seed|난수 발생을 위한 시드 지정|\n",
        "|permutation|순서를 임의로 바꾸거나 임의의 순열 반환|\n",
        "|shuffle   |리스트나 배열의 순서를 뒤썩음   |\n",
        "|random   |랜덤한 수의 배열 생성   |\n",
        "|rand   |균등분포에서 표본 추출   |\n",
        "|randint   |주어진 최소/최대 범위의 난수 추출   |\n",
        "|bionomial|표준편차가1, 평균값 0인 정규분포의 표본 추출|\n",
        "|normal   |정규분포(가우시안)에서 표본추출   |\n",
        "|beta   |베타분포에서 표본 추출   |\n",
        "|chisquare   |카이제곱분포에서 표본 추출   |\n",
        "|gamma   |감마분포에서 표본 추출  |\n",
        "|uniform   |균등(0,1)분포에서 포본추출  |"
      ]
    },
    {
      "cell_type": "markdown",
      "metadata": {
        "id": "oRud1_1IFBuI",
        "colab_type": "text"
      },
      "source": [
        " - random.random(): 랜덤한 수의 배열 생성"
      ]
    },
    {
      "cell_type": "code",
      "metadata": {
        "id": "uY94T5aAFKIh",
        "colab_type": "code",
        "colab": {
          "base_uri": "https://localhost:8080/",
          "height": 70
        },
        "outputId": "931f48da-b143-468b-d1ca-54264f83501b"
      },
      "source": [
        "np.random.random((3,3))"
      ],
      "execution_count": null,
      "outputs": [
        {
          "output_type": "execute_result",
          "data": {
            "text/plain": [
              "array([[0.69042284, 0.061884  , 0.22256309],\n",
              "       [0.7125539 , 0.50958   , 0.85172066],\n",
              "       [0.59976871, 0.81775006, 0.18537027]])"
            ]
          },
          "metadata": {
            "tags": []
          },
          "execution_count": 13
        }
      ]
    },
    {
      "cell_type": "markdown",
      "metadata": {
        "id": "WnxctapaFNEv",
        "colab_type": "text"
      },
      "source": [
        " - np.random.randint(): 일정한 구간의 랜덤 정수의 배열 생성"
      ]
    },
    {
      "cell_type": "code",
      "metadata": {
        "id": "ouBGtK7EFbMe",
        "colab_type": "code",
        "colab": {
          "base_uri": "https://localhost:8080/",
          "height": 70
        },
        "outputId": "d3b00f92-1739-42d5-a864-3a3dc8d3fb08"
      },
      "source": [
        "np.random.randint(0,10, (3,3))"
      ],
      "execution_count": null,
      "outputs": [
        {
          "output_type": "execute_result",
          "data": {
            "text/plain": [
              "array([[3, 6, 2],\n",
              "       [3, 7, 9],\n",
              "       [3, 9, 6]])"
            ]
          },
          "metadata": {
            "tags": []
          },
          "execution_count": 14
        }
      ]
    },
    {
      "cell_type": "markdown",
      "metadata": {
        "id": "249akXv4FfBO",
        "colab_type": "text"
      },
      "source": [
        ""
      ]
    },
    {
      "cell_type": "markdown",
      "metadata": {
        "id": "FpoQOjnbFZY5",
        "colab_type": "text"
      },
      "source": [
        " - random.normal(): 정규분포(normal distribution)를 고려한 랜덤한 수의 배열 생성 \n",
        " - 평균 = 0, 표준편차=1, 3 x 3 배열\n",
        " "
      ]
    },
    {
      "cell_type": "code",
      "metadata": {
        "id": "0yQ_EIf1Fzi5",
        "colab_type": "code",
        "colab": {
          "base_uri": "https://localhost:8080/",
          "height": 70
        },
        "outputId": "59f15a31-eda1-4569-95a8-4674c26d3dfc"
      },
      "source": [
        "#np.random.normal(0,1, (3,3))\n",
        "np.random.normal(0,1, size=(3,3))"
      ],
      "execution_count": null,
      "outputs": [
        {
          "output_type": "execute_result",
          "data": {
            "text/plain": [
              "array([[-1.13610845, -0.98515166, -0.38009469],\n",
              "       [ 0.88730634, -1.73374156, -0.64965403],\n",
              "       [-1.7255768 ,  0.14725066, -1.32273086]])"
            ]
          },
          "metadata": {
            "tags": []
          },
          "execution_count": 15
        }
      ]
    },
    {
      "cell_type": "markdown",
      "metadata": {
        "id": "0Y6XlvsoGBcu",
        "colab_type": "text"
      },
      "source": [
        " - random.rand(): 균등분포(uniform distribution)를 고려한 랜덤한 수의 배열 생"
      ]
    },
    {
      "cell_type": "code",
      "metadata": {
        "id": "-tH1hz6wGVnj",
        "colab_type": "code",
        "colab": {
          "base_uri": "https://localhost:8080/",
          "height": 70
        },
        "outputId": "c60a4876-d98c-4cd5-b622-802778825f03"
      },
      "source": [
        "np.random.rand(3,3)"
      ],
      "execution_count": null,
      "outputs": [
        {
          "output_type": "execute_result",
          "data": {
            "text/plain": [
              "array([[0.98369829, 0.07436331, 0.29996361],\n",
              "       [0.99537375, 0.96106931, 0.6499512 ],\n",
              "       [0.04833778, 0.04992918, 0.59937316]])"
            ]
          },
          "metadata": {
            "tags": []
          },
          "execution_count": 16
        }
      ]
    },
    {
      "cell_type": "markdown",
      "metadata": {
        "id": "Q_IBS0vUGZKW",
        "colab_type": "text"
      },
      "source": [
        " - random.rand():표준정규분포(standard normal distribution)를 고려한 랜덤한 수의 배열 생성\n",
        " "
      ]
    },
    {
      "cell_type": "code",
      "metadata": {
        "id": "W45BnJ1JGkGb",
        "colab_type": "code",
        "colab": {
          "base_uri": "https://localhost:8080/",
          "height": 70
        },
        "outputId": "df91428d-4685-40e5-c314-5d2d0e1d3eb3"
      },
      "source": [
        "np.random.randn(3,3)"
      ],
      "execution_count": null,
      "outputs": [
        {
          "output_type": "execute_result",
          "data": {
            "text/plain": [
              "array([[ 0.80737039,  1.02131233,  0.90727482],\n",
              "       [-0.86455741,  0.0998733 ,  0.34942583],\n",
              "       [ 1.84541007,  0.78900804,  1.49238612]])"
            ]
          },
          "metadata": {
            "tags": []
          },
          "execution_count": 17
        }
      ]
    },
    {
      "cell_type": "markdown",
      "metadata": {
        "id": "KpQ9_RvjGqEn",
        "colab_type": "text"
      },
      "source": [
        "### 표준 데이터 타입\n",
        "\n",
        "|데이터타입|설명|\n",
        "|---|---|\n",
        "|bool_|바이트로 저장된 Boolean으로 True or False값을 가짐|\n",
        "|int_|Integer type|\n",
        "|intc|C언어에서 사용되는 int와 동일(일반적으로 int32 또는 int64)|\n",
        "|intp|인덱싱에 사용되는 정수(C언어에서 sszie_t와 동일; 일반적으로 int32 또는 int64)|\n",
        "|int8|Byte(-128 to127)|\n",
        "|int16|Integer(-32768 to 32767)|\n",
        "|int32|Integer(-2147483648 to 2147483647)\n",
        "|int64|Integer(-9223372036854775808 to 9223372036854775807)|\n",
        "|uint8|부호 없는 정수/Unsigned integer (0 to 255)|\n",
        "|uint16|부호 없는 정수/Unsigned integer (0 to 65535)|\n",
        "|uint32|부호 없는 정수/Unsigned integer (0 to 4294967295)|\n",
        "|uint64|부호 없는 정수/Unsigned integer (0 to 18446744073709551615)|\n",
        "|float16|반정밀 부동 소수점(Half precision float):부호비트, 5비트 지수, 10비트 가수|\n",
        "|float32|단정밀 부동 소수점(Single precision float):부호비트 8비트 지수, 23비트 가수|\n",
        "|float64|배정밀 부동 소수점(Double precision float): 부호비트, 11비트 지수, 52비트 가수|\n",
        "|float_|float64를 줄여서 표현|\n",
        "|complex64|복소수(Complex number), 두 개의 32비트 부동 소수점으로 표현|\n",
        "|complex128|복소, 두 개의 64비트 부동 소수점으로 표현|\n",
        "|complex_|complex128를 줄여서 표현|\n"
      ]
    },
    {
      "cell_type": "code",
      "metadata": {
        "id": "PJJTFk1lMOfP",
        "colab_type": "code",
        "colab": {
          "base_uri": "https://localhost:8080/",
          "height": 34
        },
        "outputId": "ee17ae39-945a-4272-9bb0-3642e0f5f34d"
      },
      "source": [
        "np.zeros(20, dtype=int)"
      ],
      "execution_count": null,
      "outputs": [
        {
          "output_type": "execute_result",
          "data": {
            "text/plain": [
              "array([0, 0, 0, 0, 0, 0, 0, 0, 0, 0, 0, 0, 0, 0, 0, 0, 0, 0, 0, 0])"
            ]
          },
          "metadata": {
            "tags": []
          },
          "execution_count": 18
        }
      ]
    },
    {
      "cell_type": "code",
      "metadata": {
        "id": "ZFanoFLmMUeP",
        "colab_type": "code",
        "colab": {
          "base_uri": "https://localhost:8080/",
          "height": 70
        },
        "outputId": "6965e18b-5432-4687-b388-d34af69bbc51"
      },
      "source": [
        "np.ones((3,3), dtype=bool)"
      ],
      "execution_count": null,
      "outputs": [
        {
          "output_type": "execute_result",
          "data": {
            "text/plain": [
              "array([[ True,  True,  True],\n",
              "       [ True,  True,  True],\n",
              "       [ True,  True,  True]])"
            ]
          },
          "metadata": {
            "tags": []
          },
          "execution_count": 19
        }
      ]
    },
    {
      "cell_type": "code",
      "metadata": {
        "id": "r9QuKC_jMaPl",
        "colab_type": "code",
        "colab": {
          "base_uri": "https://localhost:8080/",
          "height": 70
        },
        "outputId": "74ca9d69-997a-40c6-e05d-5efb9c8e1a49"
      },
      "source": [
        "np.full((3,3), 1.0, dtype=float)"
      ],
      "execution_count": null,
      "outputs": [
        {
          "output_type": "execute_result",
          "data": {
            "text/plain": [
              "array([[1., 1., 1.],\n",
              "       [1., 1., 1.],\n",
              "       [1., 1., 1.]])"
            ]
          },
          "metadata": {
            "tags": []
          },
          "execution_count": 20
        }
      ]
    },
    {
      "cell_type": "markdown",
      "metadata": {
        "id": "zgEpV81sMhvn",
        "colab_type": "text"
      },
      "source": [
        "### 날짜/시간 배열 생성 \n",
        "\n",
        "|코드|의미|상대적 시간범위|절대적 시간범위|\n",
        "|---|---|---|---|\n",
        "|```Y``` |연     |±9.2e18 years    |[9.2e18 BC, 9.2e18 AD]    |\n",
        "|```M``` |월     |±7.6e17 years    |[7.6e17 BC, 7.6e17 AD]    |\n",
        "|```W``` |주     |±1.7e17 years    |[1.7e17 BC, 1.7e17 AD]    |\n",
        "|```D``` |일     |±2.5e16 years    |[2.5e16 BC, 2.5e16 AD]    |\n",
        "|```h``` |시     |±1.0e15 years    |[1.0e15 BC, 1.0e15 AD]    |\n",
        "|```m``` |분     |±1.7e13 years    |[1.7e13 BC, 1.7e13 AD]    |\n",
        "|```s``` |초     |±2.9e11 years    |[2.9e11 BC, 2.9e11 AD]    |\n",
        "|```ms```|밀리초|±2.9e8 years   |[ 2.9e8 BC, 2.9e8 AD]    |\n",
        "|```us```|마이크로초|±2.9e5 years    |[ 290301 BC, 294241 AD]    |\n",
        "|```ns```|나노초|±292 years    |[ 1678 AD, 2262 AD]    |\n",
        "|```ps```|피코초|±106 days    |[ 1969 AD, 1970 AD]    |\n",
        "|```fc```|펨토초|±2.6 hours    |[ 1969 AD, 1970 AD]    |\n",
        "|```as```|아토초|±9.2 seconds    |[ 1969 AD, 1970 AD]   |"
      ]
    },
    {
      "cell_type": "code",
      "metadata": {
        "id": "fgB08eRaRozu",
        "colab_type": "code",
        "colab": {
          "base_uri": "https://localhost:8080/",
          "height": 34
        },
        "outputId": "3713ebd2-ca61-4439-fd2a-827bed9b806e"
      },
      "source": [
        "date = np.array('2020-01-01', dtype=np.datetime64)\n",
        "date"
      ],
      "execution_count": null,
      "outputs": [
        {
          "output_type": "execute_result",
          "data": {
            "text/plain": [
              "array('2020-01-01', dtype='datetime64[D]')"
            ]
          },
          "metadata": {
            "tags": []
          },
          "execution_count": 21
        }
      ]
    },
    {
      "cell_type": "code",
      "metadata": {
        "id": "DkP5r5vNSBXw",
        "colab_type": "code",
        "colab": {
          "base_uri": "https://localhost:8080/",
          "height": 34
        },
        "outputId": "d3760001-da87-4eb2-e9d3-364411efb0d1"
      },
      "source": [
        "date + np.arange(3)"
      ],
      "execution_count": null,
      "outputs": [
        {
          "output_type": "execute_result",
          "data": {
            "text/plain": [
              "array(['2020-01-01', '2020-01-02', '2020-01-03'], dtype='datetime64[D]')"
            ]
          },
          "metadata": {
            "tags": []
          },
          "execution_count": 22
        }
      ]
    },
    {
      "cell_type": "code",
      "metadata": {
        "id": "FpHQPe99SWL-",
        "colab_type": "code",
        "colab": {
          "base_uri": "https://localhost:8080/",
          "height": 34
        },
        "outputId": "278b68db-eed4-410c-9fdd-28a8a4820426"
      },
      "source": [
        "datetime = np.datetime64('2020-06-01 12:00')\n",
        "datetime"
      ],
      "execution_count": null,
      "outputs": [
        {
          "output_type": "execute_result",
          "data": {
            "text/plain": [
              "numpy.datetime64('2020-06-01T12:00')"
            ]
          },
          "metadata": {
            "tags": []
          },
          "execution_count": 23
        }
      ]
    },
    {
      "cell_type": "code",
      "metadata": {
        "id": "IvkQRO-HSfbP",
        "colab_type": "code",
        "colab": {
          "base_uri": "https://localhost:8080/",
          "height": 34
        },
        "outputId": "552e9724-9f82-4446-97b0-a32eca2b400d"
      },
      "source": [
        "datetime = np.datetime64('2020-01-01 12:00:12.34', 'ns')\n",
        "datetime"
      ],
      "execution_count": null,
      "outputs": [
        {
          "output_type": "execute_result",
          "data": {
            "text/plain": [
              "numpy.datetime64('2020-01-01T12:00:12.340000000')"
            ]
          },
          "metadata": {
            "tags": []
          },
          "execution_count": 24
        }
      ]
    },
    {
      "cell_type": "markdown",
      "metadata": {
        "id": "-QB4b2saS-SS",
        "colab_type": "text"
      },
      "source": [
        "## 배열조희\n"
      ]
    },
    {
      "cell_type": "markdown",
      "metadata": {
        "id": "Ag9SJkD4WBNj",
        "colab_type": "text"
      },
      "source": [
        "### 배열 속성 정보 "
      ]
    },
    {
      "cell_type": "code",
      "metadata": {
        "id": "06djkrtVTTme",
        "colab_type": "code",
        "colab": {}
      },
      "source": [
        "def array_info(array):\n",
        "  print(array)\n",
        "  print('ndim:', array.ndim)\n",
        "  print('shape:', array.shape)\n",
        "  print('dtype:', array.dtype)\n",
        "  print('size:', array.size)\n",
        "  print('itemsize:', array.itemsize)\n",
        "  print('nbytes:', array.nbytes)\n",
        "  print('strides:', array.strides)"
      ],
      "execution_count": null,
      "outputs": []
    },
    {
      "cell_type": "code",
      "metadata": {
        "id": "8ZKR6pTITn8O",
        "colab_type": "code",
        "colab": {
          "base_uri": "https://localhost:8080/",
          "height": 158
        },
        "outputId": "46f24325-efa6-4939-e9ae-fcaf807e282b"
      },
      "source": [
        "a1 = np.array([4,5,6,4,5])\n",
        "array_info(a1)\n",
        "# ndim은 차원의 개수\n",
        "# shape은 5개의 element가 있다는것/ 1행 5열(1row 5columns)\n",
        "# dtype int인 정수값 사용\n",
        "# size는 5개의 element를 말하조.\n",
        "# itemsize는 각 하나의 item의 byte크기를 말함 즉, 8byte\n",
        "# nbytes는 40의미가 각 itemsize 8 * 5개\n",
        "# 한개 elements를 넘어가기 위해서는 8byte가 필요함 / 3차원->2차원->1차원 넘어갈때 필요한 bytes크기"
      ],
      "execution_count": null,
      "outputs": [
        {
          "output_type": "stream",
          "text": [
            "[4 5 6 4 5]\n",
            "ndim: 1\n",
            "shape: (5,)\n",
            "dtype: int64\n",
            "size: 5\n",
            "itemsize: 8\n",
            "nbytes: 40\n",
            "strides: (8,)\n"
          ],
          "name": "stdout"
        }
      ]
    },
    {
      "cell_type": "code",
      "metadata": {
        "id": "0rFn_-RDUA_Q",
        "colab_type": "code",
        "colab": {
          "base_uri": "https://localhost:8080/",
          "height": 194
        },
        "outputId": "3e1fbb13-edf7-4a17-df70-5cb40a3da7be"
      },
      "source": [
        "array_info(a2)\n",
        "# strides 다음 row로 넘어갈때 필요한게 24bytes\n",
        "# 3차원->2차원->1차원 넘어갈때 필요한 bytes크기"
      ],
      "execution_count": null,
      "outputs": [
        {
          "output_type": "stream",
          "text": [
            "[[1 2 3]\n",
            " [4 5 6]\n",
            " [7 8 9]]\n",
            "ndim: 2\n",
            "shape: (3, 3)\n",
            "dtype: int64\n",
            "size: 9\n",
            "itemsize: 8\n",
            "nbytes: 72\n",
            "strides: (24, 8)\n"
          ],
          "name": "stdout"
        }
      ]
    },
    {
      "cell_type": "code",
      "metadata": {
        "id": "d8RwKxInT7Dw",
        "colab_type": "code",
        "colab": {
          "base_uri": "https://localhost:8080/",
          "height": 336
        },
        "outputId": "447161ee-386f-4ba7-e4ab-2ddf68d968eb"
      },
      "source": [
        "array_info(a3)"
      ],
      "execution_count": null,
      "outputs": [
        {
          "output_type": "stream",
          "text": [
            "[[[1 2 3]\n",
            "  [4 5 6]\n",
            "  [7 8 9]]\n",
            "\n",
            " [[1 2 3]\n",
            "  [4 5 6]\n",
            "  [7 8 9]]\n",
            "\n",
            " [[1 2 3]\n",
            "  [4 5 6]\n",
            "  [7 8 9]]]\n",
            "ndim: 3\n",
            "shape: (3, 3, 3)\n",
            "dtype: int64\n",
            "size: 27\n",
            "itemsize: 8\n",
            "nbytes: 216\n",
            "strides: (72, 24, 8)\n"
          ],
          "name": "stdout"
        }
      ]
    },
    {
      "cell_type": "markdown",
      "metadata": {
        "id": "4xAJnIAzTwge",
        "colab_type": "text"
      },
      "source": [
        "### 인덱싱(Indexing)"
      ]
    },
    {
      "cell_type": "code",
      "metadata": {
        "id": "bgYmn7BTTq7-",
        "colab_type": "code",
        "colab": {
          "base_uri": "https://localhost:8080/",
          "height": 105
        },
        "outputId": "a8eb3b6f-dbc4-433f-8210-e10712c2095e"
      },
      "source": [
        "print(a1)\n",
        "print(a1[0])\n",
        "print(a1[2])\n",
        "print(a1[-1])\n",
        "print(a1[-2])"
      ],
      "execution_count": null,
      "outputs": [
        {
          "output_type": "stream",
          "text": [
            "[4 5 6 4 5]\n",
            "4\n",
            "6\n",
            "5\n",
            "4\n"
          ],
          "name": "stdout"
        }
      ]
    },
    {
      "cell_type": "code",
      "metadata": {
        "id": "g6YxY494TRlU",
        "colab_type": "code",
        "colab": {
          "base_uri": "https://localhost:8080/",
          "height": 141
        },
        "outputId": "db05f08f-108d-4c99-e214-315af7d38184"
      },
      "source": [
        "print(a2)\n",
        "print(a2[0,0])\n",
        "print(a2[0,2])\n",
        "print(a2[1,-1])\n",
        "print(a2[2,-2])"
      ],
      "execution_count": null,
      "outputs": [
        {
          "output_type": "stream",
          "text": [
            "[[1 2 3]\n",
            " [4 5 6]\n",
            " [7 8 9]]\n",
            "1\n",
            "3\n",
            "6\n",
            "8\n"
          ],
          "name": "stdout"
        }
      ]
    },
    {
      "cell_type": "code",
      "metadata": {
        "id": "zckCOP3iWav0",
        "colab_type": "code",
        "colab": {
          "base_uri": "https://localhost:8080/",
          "height": 283
        },
        "outputId": "c6b8612e-3874-4102-8662-eec95a41dcb9"
      },
      "source": [
        "print(a3)\n",
        "print(a3[0,0,0])\n",
        "print(a3[1,1,1])\n",
        "print(a3[1,2,2])\n",
        "print(a3[1,-1,-2])"
      ],
      "execution_count": null,
      "outputs": [
        {
          "output_type": "stream",
          "text": [
            "[[[1 2 3]\n",
            "  [4 5 6]\n",
            "  [7 8 9]]\n",
            "\n",
            " [[1 2 3]\n",
            "  [4 5 6]\n",
            "  [7 8 9]]\n",
            "\n",
            " [[1 2 3]\n",
            "  [4 5 6]\n",
            "  [7 8 9]]]\n",
            "1\n",
            "5\n",
            "9\n",
            "8\n"
          ],
          "name": "stdout"
        }
      ]
    },
    {
      "cell_type": "markdown",
      "metadata": {
        "id": "a4ozF7F_TNEm",
        "colab_type": "text"
      },
      "source": [
        "### 슬라이싱(Slicing)"
      ]
    },
    {
      "cell_type": "markdown",
      "metadata": {
        "id": "jsLCJfgpS6_m",
        "colab_type": "text"
      },
      "source": [
        " - 슬라이싱 구문: **```a[start:stop:step]```**\n",
        " - 기본값: start =0, stop =ndim, step=1\n"
      ]
    },
    {
      "cell_type": "code",
      "metadata": {
        "id": "jtAIgxE1SxH2",
        "colab_type": "code",
        "colab": {
          "base_uri": "https://localhost:8080/",
          "height": 123
        },
        "outputId": "ef03c62b-9fea-4238-ffc4-30e05ebc5ea6"
      },
      "source": [
        "print(a1)\n",
        "print(a1[0:2])\n",
        "print(a1[0:])\n",
        "print(a1[:1])\n",
        "print(a1[::2])\n",
        "print(a1[::-1])"
      ],
      "execution_count": null,
      "outputs": [
        {
          "output_type": "stream",
          "text": [
            "[4 5 6 4 5]\n",
            "[4 5]\n",
            "[4 5 6 4 5]\n",
            "[4]\n",
            "[4 6 5]\n",
            "[5 4 6 5 4]\n"
          ],
          "name": "stdout"
        }
      ]
    },
    {
      "cell_type": "code",
      "metadata": {
        "id": "4-Yyhp6SSn2O",
        "colab_type": "code",
        "colab": {
          "base_uri": "https://localhost:8080/",
          "height": 318
        },
        "outputId": "9735bab4-0ab6-4aef-e74b-a5be8f4c283b"
      },
      "source": [
        "print(a2)\n",
        "print('-----')\n",
        "print(a2[1])\n",
        "print('-----')\n",
        "\n",
        "print(a2[1, :])\n",
        "\n",
        "print('-----')\n",
        "print(a2[:2, :2])\n",
        "\n",
        "print('-----')\n",
        "print(a2[1:,  ::-1])\n",
        "\n",
        "print('-----')\n",
        "print(a2[::-1, ::-1])"
      ],
      "execution_count": null,
      "outputs": [
        {
          "output_type": "stream",
          "text": [
            "[[1 2 3]\n",
            " [4 5 6]\n",
            " [7 8 9]]\n",
            "-----\n",
            "[4 5 6]\n",
            "-----\n",
            "[4 5 6]\n",
            "-----\n",
            "[[1 2]\n",
            " [4 5]]\n",
            "-----\n",
            "[[6 5 4]\n",
            " [9 8 7]]\n",
            "-----\n",
            "[[9 8 7]\n",
            " [6 5 4]\n",
            " [3 2 1]]\n"
          ],
          "name": "stdout"
        }
      ]
    },
    {
      "cell_type": "markdown",
      "metadata": {
        "id": "wlk63YOzSNp5",
        "colab_type": "text"
      },
      "source": [
        "### Boolean Indexing\n",
        "- 배열 각 요소의 선택 여부를 True or False로 지정\n",
        "- True 값인 인덱스의 값만 조회"
      ]
    },
    {
      "cell_type": "code",
      "metadata": {
        "id": "2ACJ8msnSLX3",
        "colab_type": "code",
        "colab": {
          "base_uri": "https://localhost:8080/",
          "height": 70
        },
        "outputId": "41c8293c-24cf-473e-dab3-c814fb73680c"
      },
      "source": [
        "print(a1)\n",
        "bi = [False, True, True, False, True]\n",
        "print(a1[bi])\n",
        "bi = [True, False, True, True, False]\n",
        "print(a1[bi])"
      ],
      "execution_count": null,
      "outputs": [
        {
          "output_type": "stream",
          "text": [
            "[4 5 6 4 5]\n",
            "[5 6 5]\n",
            "[4 6 4]\n"
          ],
          "name": "stdout"
        }
      ]
    },
    {
      "cell_type": "code",
      "metadata": {
        "id": "AhWVir9QZKqG",
        "colab_type": "code",
        "colab": {
          "base_uri": "https://localhost:8080/",
          "height": 141
        },
        "outputId": "1640db29-91a4-45c8-c6f2-22364df9c0ac"
      },
      "source": [
        "print(a2)\n",
        "bi = np.random.randint(0,2, (3,3), dtype=bool)\n",
        "print(bi)\n",
        "print(a2[bi])"
      ],
      "execution_count": null,
      "outputs": [
        {
          "output_type": "stream",
          "text": [
            "[[1 2 3]\n",
            " [4 5 6]\n",
            " [7 8 9]]\n",
            "[[False False  True]\n",
            " [ True False False]\n",
            " [ True False  True]]\n",
            "[3 4 7 9]\n"
          ],
          "name": "stdout"
        }
      ]
    },
    {
      "cell_type": "markdown",
      "metadata": {
        "id": "PN2LEVS6jYQP",
        "colab_type": "text"
      },
      "source": [
        "### Fancy Indexing"
      ]
    },
    {
      "cell_type": "code",
      "metadata": {
        "id": "doQFXCJEZdsO",
        "colab_type": "code",
        "colab": {
          "base_uri": "https://localhost:8080/",
          "height": 105
        },
        "outputId": "81fb2ed0-cebe-47cd-d67f-2954171194b0"
      },
      "source": [
        "print(a1)\n",
        "print(a1[0],a1[2])\n",
        "ind = [0,2]\n",
        "print(a1[ind])\n",
        "ind = np.array([\n",
        "                [0,1],\n",
        "                [2,0]\n",
        "              ])\n",
        "print(a1[ind])"
      ],
      "execution_count": null,
      "outputs": [
        {
          "output_type": "stream",
          "text": [
            "[4 5 6 4 5]\n",
            "4 6\n",
            "[4 6]\n",
            "[[4 5]\n",
            " [6 4]]\n"
          ],
          "name": "stdout"
        }
      ]
    },
    {
      "cell_type": "code",
      "metadata": {
        "id": "Yn13BKBsm88V",
        "colab_type": "code",
        "colab": {
          "base_uri": "https://localhost:8080/",
          "height": 407
        },
        "outputId": "c7291fe5-b4c7-40a1-8f85-c45d0c6cad74"
      },
      "source": [
        "print(a2)\n",
        "row = np.array([0,2])\n",
        "col = np.array([1,2])\n",
        "print('=======')\n",
        "\n",
        "print(a2[row, col])\n",
        "\n",
        "print('=======')\n",
        "print(a2[row, :])\n",
        "print('=======')\n",
        "print(a2[:, col])\n",
        "print('=======')\n",
        "\n",
        "\n",
        "print(a2[row, 1])\n",
        "\n",
        "print('=======')\n",
        "print(a2[2, col])\n",
        "print('=======')\n",
        "print(a2[row, 1:])\n",
        "print('=======')\n",
        "print(a2[1:, col])"
      ],
      "execution_count": null,
      "outputs": [
        {
          "output_type": "stream",
          "text": [
            "[[1 2 3]\n",
            " [4 5 6]\n",
            " [7 8 9]]\n",
            "=======\n",
            "[2 9]\n",
            "=======\n",
            "[[1 2 3]\n",
            " [7 8 9]]\n",
            "=======\n",
            "[[2 3]\n",
            " [5 6]\n",
            " [8 9]]\n",
            "=======\n",
            "[2 8]\n",
            "=======\n",
            "[8 9]\n",
            "=======\n",
            "[[2 3]\n",
            " [8 9]]\n",
            "=======\n",
            "[[5 6]\n",
            " [8 9]]\n"
          ],
          "name": "stdout"
        }
      ]
    },
    {
      "cell_type": "markdown",
      "metadata": {
        "id": "GCURbZKVpF2H",
        "colab_type": "text"
      },
      "source": [
        "## 배열 값 삽입/수정/삭제/복사 \n",
        "\n"
      ]
    },
    {
      "cell_type": "code",
      "metadata": {
        "id": "c6LXkf2AlnEw",
        "colab_type": "code",
        "colab": {}
      },
      "source": [
        ""
      ],
      "execution_count": null,
      "outputs": []
    },
    {
      "cell_type": "markdown",
      "metadata": {
        "id": "zprrNcUBppXU",
        "colab_type": "text"
      },
      "source": [
        "### 배열 값 삽입 "
      ]
    },
    {
      "cell_type": "markdown",
      "metadata": {
        "id": "koNEhDTHpuxN",
        "colab_type": "text"
      },
      "source": [
        " - ```insert():```: 배열의 특정 위치에 값 삽입 \n",
        " - axis를 지정하지 않으면 1차원 배열로 변환\n",
        " - 추가할 방향을 axis로 지정\n",
        " - 원본 배열 변경없이 새로운 배열 반환\n",
        " "
      ]
    },
    {
      "cell_type": "code",
      "metadata": {
        "id": "5ahT6gYNqA1F",
        "colab_type": "code",
        "colab": {
          "base_uri": "https://localhost:8080/",
          "height": 87
        },
        "outputId": "9b782d90-09b9-4607-a2c4-f3144187c5ae"
      },
      "source": [
        "print(a1)\n",
        "b1 = np.insert(a1, 0, 10)\n",
        "print(b1)\n",
        "print(a1)\n",
        "c1 = np.insert(a1, 2, 10)\n",
        "print(c1)"
      ],
      "execution_count": null,
      "outputs": [
        {
          "output_type": "stream",
          "text": [
            "[4 5 6 4 5]\n",
            "[10  4  5  6  4  5]\n",
            "[4 5 6 4 5]\n",
            "[ 4  5 10  6  4  5]\n"
          ],
          "name": "stdout"
        }
      ]
    },
    {
      "cell_type": "code",
      "metadata": {
        "id": "W23I8EsOqMYX",
        "colab_type": "code",
        "colab": {
          "base_uri": "https://localhost:8080/",
          "height": 230
        },
        "outputId": "18a3c7c3-3988-4f21-ff3f-ef3624190377"
      },
      "source": [
        "print(a2)\n",
        "print('===')\n",
        "b2 = np.insert(a2, 1,10, axis=0)\n",
        "print(b2)\n",
        "print('===')\n",
        "c2 = np.insert(a2,1, 10, axis=1)\n",
        "print(c2)"
      ],
      "execution_count": null,
      "outputs": [
        {
          "output_type": "stream",
          "text": [
            "[[1 2 3]\n",
            " [4 5 6]\n",
            " [7 8 9]]\n",
            "===\n",
            "[[ 1  2  3]\n",
            " [10 10 10]\n",
            " [ 4  5  6]\n",
            " [ 7  8  9]]\n",
            "===\n",
            "[[ 1 10  2  3]\n",
            " [ 4 10  5  6]\n",
            " [ 7 10  8  9]]\n"
          ],
          "name": "stdout"
        }
      ]
    },
    {
      "cell_type": "markdown",
      "metadata": {
        "id": "63lLJ54isaHN",
        "colab_type": "text"
      },
      "source": [
        "### 배열 값 수정 \n",
        " - 배열의 인덱싱으로 접근하여 값 수정"
      ]
    },
    {
      "cell_type": "code",
      "metadata": {
        "id": "UqmN7Idjp3kN",
        "colab_type": "code",
        "colab": {
          "base_uri": "https://localhost:8080/",
          "height": 70
        },
        "outputId": "ec3f379b-3a49-429e-dc49-68f6ae8c35d6"
      },
      "source": [
        "print(a1)\n",
        "a1[0] = 1\n",
        "a1[1] = 2\n",
        "a1[2] = 3\n",
        "print(a1)\n",
        "a1[:1] = 9\n",
        "print(a1)\n"
      ],
      "execution_count": null,
      "outputs": [
        {
          "output_type": "stream",
          "text": [
            "[4 5 6 4 5]\n",
            "[1 2 3 4 5]\n",
            "[9 2 3 4 5]\n"
          ],
          "name": "stdout"
        }
      ]
    },
    {
      "cell_type": "code",
      "metadata": {
        "id": "u_f2McjvpsS1",
        "colab_type": "code",
        "colab": {
          "base_uri": "https://localhost:8080/",
          "height": 34
        },
        "outputId": "c545beec-9d81-482d-96f9-942f6a4a68b9"
      },
      "source": [
        "i = np.array([1,3,4])\n",
        "a1[i] = 0\n",
        "a1[i] += 4\n",
        "\n",
        "print(a1)"
      ],
      "execution_count": null,
      "outputs": [
        {
          "output_type": "stream",
          "text": [
            "[9 4 3 4 4]\n"
          ],
          "name": "stdout"
        }
      ]
    },
    {
      "cell_type": "code",
      "metadata": {
        "id": "BzjcvkkQzVC8",
        "colab_type": "code",
        "colab": {
          "base_uri": "https://localhost:8080/",
          "height": 354
        },
        "outputId": "201333b2-09a8-43a7-99e6-043c6539a9fb"
      },
      "source": [
        "a2 = np.array([[1,2,3],[4,5,6],[7,8,9]])\n",
        "print(a2)\n",
        "a2[0,0]=1\n",
        "print('===')\n",
        "a2[1,1]=2\n",
        "print(a2)\n",
        "a2[2,2]=3\n",
        "print('===')\n",
        "\n",
        "a2[0]=1\n",
        "print(a2)\n",
        "print('===')\n",
        "a2[1:, 2] = 9\n",
        "print(a2)\n",
        "print('===')\n",
        "a2[row, col] = 0\n",
        "print(a2)"
      ],
      "execution_count": null,
      "outputs": [
        {
          "output_type": "stream",
          "text": [
            "[[1 2 3]\n",
            " [4 5 6]\n",
            " [7 8 9]]\n",
            "===\n",
            "[[1 2 3]\n",
            " [4 2 6]\n",
            " [7 8 9]]\n",
            "===\n",
            "[[1 1 1]\n",
            " [4 2 6]\n",
            " [7 8 3]]\n",
            "===\n",
            "[[1 1 1]\n",
            " [4 2 9]\n",
            " [7 8 9]]\n",
            "===\n",
            "[[1 0 1]\n",
            " [4 2 9]\n",
            " [7 8 0]]\n"
          ],
          "name": "stdout"
        }
      ]
    },
    {
      "cell_type": "markdown",
      "metadata": {
        "id": "9kzFq2SnzP2L",
        "colab_type": "text"
      },
      "source": [
        "### 배열 값 삭제 \n",
        "- delete(): 배열의 특정 위치에 값 삭제\n",
        "- axis를 지정하지 않으면 1차원 배열로 변환\n",
        "- 삭제할 방향을 axis로 지정\n",
        "- 원본 배열 변경없이 새로운 배열 반환\n"
      ]
    },
    {
      "cell_type": "code",
      "metadata": {
        "id": "d1dwjq3Wy8Fa",
        "colab_type": "code",
        "colab": {
          "base_uri": "https://localhost:8080/",
          "height": 70
        },
        "outputId": "ac4dd80d-f3e5-4ac6-b790-af339e1defa6"
      },
      "source": [
        "print(a1)\n",
        "b1 = np.delete(a1,1)\n",
        "print(b1)\n",
        "print(a1)"
      ],
      "execution_count": null,
      "outputs": [
        {
          "output_type": "stream",
          "text": [
            "[9 4 3 4 4]\n",
            "[9 3 4 4]\n",
            "[9 4 3 4 4]\n"
          ],
          "name": "stdout"
        }
      ]
    },
    {
      "cell_type": "code",
      "metadata": {
        "id": "n8YnW1e8n3W8",
        "colab_type": "code",
        "colab": {
          "base_uri": "https://localhost:8080/",
          "height": 212
        },
        "outputId": "ed64c23e-bdfa-4ab5-d3be-19da3165076c"
      },
      "source": [
        "print(a2)\n",
        "print('===')\n",
        "print()\n",
        "b2 = np.delete(a2, 1, axis=0)\n",
        "print(b2)\n",
        "print('===')\n",
        "c2 = np.delete(a2, 1, axis=1)\n",
        "print(c2)"
      ],
      "execution_count": null,
      "outputs": [
        {
          "output_type": "stream",
          "text": [
            "[[1 0 1]\n",
            " [4 2 9]\n",
            " [7 8 0]]\n",
            "===\n",
            "\n",
            "[[1 0 1]\n",
            " [7 8 0]]\n",
            "===\n",
            "[[1 1]\n",
            " [4 9]\n",
            " [7 0]]\n"
          ],
          "name": "stdout"
        }
      ]
    },
    {
      "cell_type": "markdown",
      "metadata": {
        "id": "IH1wCRTmnv2C",
        "colab_type": "text"
      },
      "source": [
        "### 배열 복사\n",
        "- 리스트 자료형과 달리 배열의 슬라이스는 복사본이 아님 \n"
      ]
    },
    {
      "cell_type": "code",
      "metadata": {
        "id": "le-6N5Oj2tSD",
        "colab_type": "code",
        "colab": {
          "base_uri": "https://localhost:8080/",
          "height": 301
        },
        "outputId": "7a20ace9-f061-4ad0-c999-7d8190f5a9dd"
      },
      "source": [
        "print(a2)\n",
        "print('===')\n",
        "print(a2[:2, :2])\n",
        "a2_sub = a2[:2, :2]\n",
        "print('===')\n",
        "print(a2_sub)\n",
        "print('===')\n",
        "a2_sub[:, 1] = 0\n",
        "print(a2_sub)\n",
        "print('===')\n",
        "print(a2)\n"
      ],
      "execution_count": null,
      "outputs": [
        {
          "output_type": "stream",
          "text": [
            "[[1 0 1]\n",
            " [4 2 9]\n",
            " [7 8 0]]\n",
            "===\n",
            "[[1 0]\n",
            " [4 2]]\n",
            "===\n",
            "[[1 0]\n",
            " [4 2]]\n",
            "===\n",
            "[[1 0]\n",
            " [4 0]]\n",
            "===\n",
            "[[1 0 1]\n",
            " [4 0 9]\n",
            " [7 8 0]]\n"
          ],
          "name": "stdout"
        }
      ]
    },
    {
      "cell_type": "markdown",
      "metadata": {
        "id": "g-GGCsMOmp13",
        "colab_type": "text"
      },
      "source": [
        " - copy(): 배열이나 하위 배열 내의 값을 명시적으로 복사"
      ]
    },
    {
      "cell_type": "code",
      "metadata": {
        "id": "W84wU99HZa63",
        "colab_type": "code",
        "colab": {
          "base_uri": "https://localhost:8080/",
          "height": 230
        },
        "outputId": "83a8108b-34c0-48bd-9a1e-9049ec59ae7e"
      },
      "source": [
        "print(a2)\n",
        "print('===')\n",
        "a2_sub_copy = a2[:2, :2].copy()\n",
        "print(a2_sub_copy)\n",
        "a2_sub_copy[:, 1]=1\n",
        "print('===')\n",
        "print(a2_sub_copy)\n",
        "print(a2)"
      ],
      "execution_count": null,
      "outputs": [
        {
          "output_type": "stream",
          "text": [
            "[[1 0 1]\n",
            " [4 0 9]\n",
            " [7 8 0]]\n",
            "===\n",
            "[[1 0]\n",
            " [4 0]]\n",
            "===\n",
            "[[1 1]\n",
            " [4 1]]\n",
            "[[1 0 1]\n",
            " [4 0 9]\n",
            " [7 8 0]]\n"
          ],
          "name": "stdout"
        }
      ]
    },
    {
      "cell_type": "markdown",
      "metadata": {
        "id": "lIpqLDIsY_P2",
        "colab_type": "text"
      },
      "source": [
        "## 배열 변환 \n"
      ]
    },
    {
      "cell_type": "markdown",
      "metadata": {
        "id": "hOiYcxYfY4QA",
        "colab_type": "text"
      },
      "source": [
        "### 배열 전치 및 축 변경"
      ]
    },
    {
      "cell_type": "code",
      "metadata": {
        "id": "ta84EN1QR__y",
        "colab_type": "code",
        "colab": {
          "base_uri": "https://localhost:8080/",
          "height": 141
        },
        "outputId": "cdd951ba-1a56-4915-ad9b-c8bfb21751c2"
      },
      "source": [
        "print(a2)\n",
        "print('===')\n",
        "print(a2.T)"
      ],
      "execution_count": null,
      "outputs": [
        {
          "output_type": "stream",
          "text": [
            "[[1 0 1]\n",
            " [4 0 9]\n",
            " [7 8 0]]\n",
            "===\n",
            "[[1 4 7]\n",
            " [0 0 8]\n",
            " [1 9 0]]\n"
          ],
          "name": "stdout"
        }
      ]
    },
    {
      "cell_type": "code",
      "metadata": {
        "id": "fO8jcudgRiCk",
        "colab_type": "code",
        "colab": {
          "base_uri": "https://localhost:8080/",
          "height": 425
        },
        "outputId": "36353184-2f76-4b21-d341-baabfc7cf408"
      },
      "source": [
        "print(a3)\n",
        "print('==================')\n",
        "print(a3.T)"
      ],
      "execution_count": null,
      "outputs": [
        {
          "output_type": "stream",
          "text": [
            "[[[1 2 3]\n",
            "  [4 5 6]\n",
            "  [7 8 9]]\n",
            "\n",
            " [[1 2 3]\n",
            "  [4 5 6]\n",
            "  [7 8 9]]\n",
            "\n",
            " [[1 2 3]\n",
            "  [4 5 6]\n",
            "  [7 8 9]]]\n",
            "==================\n",
            "[[[1 1 1]\n",
            "  [4 4 4]\n",
            "  [7 7 7]]\n",
            "\n",
            " [[2 2 2]\n",
            "  [5 5 5]\n",
            "  [8 8 8]]\n",
            "\n",
            " [[3 3 3]\n",
            "  [6 6 6]\n",
            "  [9 9 9]]]\n"
          ],
          "name": "stdout"
        }
      ]
    },
    {
      "cell_type": "code",
      "metadata": {
        "id": "mg8EqUMXPq9y",
        "colab_type": "code",
        "colab": {
          "base_uri": "https://localhost:8080/",
          "height": 141
        },
        "outputId": "56204344-e3ea-42e1-bddd-a0827e0a0fde"
      },
      "source": [
        "print(a2)\n",
        "print('==================')\n",
        "print(a2.swapaxes(1,0))"
      ],
      "execution_count": null,
      "outputs": [
        {
          "output_type": "stream",
          "text": [
            "[[1 0 1]\n",
            " [4 0 9]\n",
            " [7 8 0]]\n",
            "==================\n",
            "[[1 4 7]\n",
            " [0 0 8]\n",
            " [1 9 0]]\n"
          ],
          "name": "stdout"
        }
      ]
    },
    {
      "cell_type": "code",
      "metadata": {
        "id": "YI-_qSJZO2yf",
        "colab_type": "code",
        "colab": {
          "base_uri": "https://localhost:8080/",
          "height": 638
        },
        "outputId": "1fed0458-ed80-4bd7-ea12-000da0a34b05"
      },
      "source": [
        "print(a3)\n",
        "print('==================')\n",
        "print(a3.swapaxes(0,1))\n",
        "print('==================')\n",
        "print(a3.swapaxes(1,2))"
      ],
      "execution_count": null,
      "outputs": [
        {
          "output_type": "stream",
          "text": [
            "[[[1 2 3]\n",
            "  [4 5 6]\n",
            "  [7 8 9]]\n",
            "\n",
            " [[1 2 3]\n",
            "  [4 5 6]\n",
            "  [7 8 9]]\n",
            "\n",
            " [[1 2 3]\n",
            "  [4 5 6]\n",
            "  [7 8 9]]]\n",
            "==================\n",
            "[[[1 2 3]\n",
            "  [1 2 3]\n",
            "  [1 2 3]]\n",
            "\n",
            " [[4 5 6]\n",
            "  [4 5 6]\n",
            "  [4 5 6]]\n",
            "\n",
            " [[7 8 9]\n",
            "  [7 8 9]\n",
            "  [7 8 9]]]\n",
            "==================\n",
            "[[[1 4 7]\n",
            "  [2 5 8]\n",
            "  [3 6 9]]\n",
            "\n",
            " [[1 4 7]\n",
            "  [2 5 8]\n",
            "  [3 6 9]]\n",
            "\n",
            " [[1 4 7]\n",
            "  [2 5 8]\n",
            "  [3 6 9]]]\n"
          ],
          "name": "stdout"
        }
      ]
    },
    {
      "cell_type": "markdown",
      "metadata": {
        "id": "7GfRk_64Mm0F",
        "colab_type": "text"
      },
      "source": [
        "### 배열 재구조화"
      ]
    },
    {
      "cell_type": "markdown",
      "metadata": {
        "id": "3WahpkxVMlJ9",
        "colab_type": "text"
      },
      "source": [
        "- reshape(): 배열의 형상을 변경"
      ]
    },
    {
      "cell_type": "code",
      "metadata": {
        "id": "RGDg3f-aMWue",
        "colab_type": "code",
        "colab": {
          "base_uri": "https://localhost:8080/",
          "height": 87
        },
        "outputId": "42bb73d4-9c68-4f57-b52a-473519f8facb"
      },
      "source": [
        "n1 = np.arange(1, 10)\n",
        "print(n1)\n",
        "print(n1.reshape(3,3))"
      ],
      "execution_count": null,
      "outputs": [
        {
          "output_type": "stream",
          "text": [
            "[1 2 3 4 5 6 7 8 9]\n",
            "[[1 2 3]\n",
            " [4 5 6]\n",
            " [7 8 9]]\n"
          ],
          "name": "stdout"
        }
      ]
    },
    {
      "cell_type": "markdown",
      "metadata": {
        "id": "bSpcgvxBK4dn",
        "colab_type": "text"
      },
      "source": [
        "- newaxis(): 새로운 축 추가"
      ]
    },
    {
      "cell_type": "code",
      "metadata": {
        "id": "Ej7mmiT6Fx6m",
        "colab_type": "code",
        "colab": {
          "base_uri": "https://localhost:8080/",
          "height": 176
        },
        "outputId": "f2467400-a126-4a52-d7ae-ed1efd3c8f54"
      },
      "source": [
        "print(n1)\n",
        "print('==================')\n",
        "\n",
        "print(n1[np.newaxis, :5])\n",
        "print('==================')\n",
        "\n",
        "print(n1[:5, np.newaxis])"
      ],
      "execution_count": null,
      "outputs": [
        {
          "output_type": "stream",
          "text": [
            "[1 2 3 4 5 6 7 8 9]\n",
            "==================\n",
            "[[1 2 3 4 5]]\n",
            "==================\n",
            "[[1]\n",
            " [2]\n",
            " [3]\n",
            " [4]\n",
            " [5]]\n"
          ],
          "name": "stdout"
        }
      ]
    },
    {
      "cell_type": "markdown",
      "metadata": {
        "id": "VIZtoVvDFwzJ",
        "colab_type": "text"
      },
      "source": [
        "### 배열 크기 변경"
      ]
    },
    {
      "cell_type": "markdown",
      "metadata": {
        "id": "ArGdifkhFqMh",
        "colab_type": "text"
      },
      "source": [
        "- 배열 모양만 변경"
      ]
    },
    {
      "cell_type": "code",
      "metadata": {
        "id": "Ggu-p4L8FI32",
        "colab_type": "code",
        "colab": {
          "base_uri": "https://localhost:8080/",
          "height": 158
        },
        "outputId": "eafb08b3-2913-40d1-b0b0-05c8d438e963"
      },
      "source": [
        "n2 = np.random.randint(0, 3, (2,5))\n",
        "print(n2)\n",
        "print('==================')\n",
        "n2.resize((5,2))\n",
        "print((n2))"
      ],
      "execution_count": null,
      "outputs": [
        {
          "output_type": "stream",
          "text": [
            "[[1 1 0 1 1]\n",
            " [2 1 0 1 2]]\n",
            "==================\n",
            "[[1 1]\n",
            " [0 1]\n",
            " [1 2]\n",
            " [1 0]\n",
            " [1 2]]\n"
          ],
          "name": "stdout"
        }
      ]
    },
    {
      "cell_type": "markdown",
      "metadata": {
        "id": "bv9Ju79qD6wu",
        "colab_type": "text"
      },
      "source": [
        " - 배열 크기 증가\n",
        " - 남은 공간은 0으로 채워짐"
      ]
    },
    {
      "cell_type": "code",
      "metadata": {
        "id": "H-wh7FNjcWDA",
        "colab_type": "code",
        "colab": {
          "base_uri": "https://localhost:8080/",
          "height": 105
        },
        "outputId": "43ba508e-243c-451a-e0b6-b65fbeb5c7c1"
      },
      "source": [
        "n2.resize((5,5))\n",
        "print((n2))"
      ],
      "execution_count": null,
      "outputs": [
        {
          "output_type": "stream",
          "text": [
            "[[1 1 0 1 1]\n",
            " [2 1 0 1 2]\n",
            " [0 0 0 0 0]\n",
            " [0 0 0 0 0]\n",
            " [0 0 0 0 0]]\n"
          ],
          "name": "stdout"
        }
      ]
    },
    {
      "cell_type": "markdown",
      "metadata": {
        "id": "wwPW4UuRc4Lm",
        "colab_type": "text"
      },
      "source": [
        "- 배열 크기 감소\n",
        "- 포함되지 않은 값은 삭제됨\n"
      ]
    },
    {
      "cell_type": "code",
      "metadata": {
        "id": "sjrtaxAVdCag",
        "colab_type": "code",
        "colab": {
          "base_uri": "https://localhost:8080/",
          "height": 158
        },
        "outputId": "6edef78a-e949-4660-920b-6589986d02f3"
      },
      "source": [
        "n2.resize((4,4))\n",
        "print(n2)\n",
        "print('==================')\n",
        "n2.resize((3,3))\n",
        "print(n2)"
      ],
      "execution_count": null,
      "outputs": [
        {
          "output_type": "stream",
          "text": [
            "[[1 1 0 1]\n",
            " [1 2 1 0]\n",
            " [1 2 0 0]\n",
            " [0 0 0 0]]\n",
            "==================\n",
            "[[1 1 0]\n",
            " [1 1 2]\n",
            " [1 0 1]]\n"
          ],
          "name": "stdout"
        }
      ]
    },
    {
      "cell_type": "markdown",
      "metadata": {
        "id": "B6jmuQ3hdHNQ",
        "colab_type": "text"
      },
      "source": [
        "### 배열추가"
      ]
    },
    {
      "cell_type": "markdown",
      "metadata": {
        "id": "RFnUmJeqd24r",
        "colab_type": "text"
      },
      "source": [
        "- append(): 배열의 끝에 값 추가"
      ]
    },
    {
      "cell_type": "code",
      "metadata": {
        "id": "V0IV2QPdd6_h",
        "colab_type": "code",
        "colab": {
          "base_uri": "https://localhost:8080/",
          "height": 141
        },
        "outputId": "b9e08225-7712-4430-9d42-4cd6abb3405f"
      },
      "source": [
        "a2 = np.arange(1,10).reshape(3,3)\n",
        "print(a2)\n",
        "print('==================')\n",
        "b2 = np.arange(10,19).reshape(3,3)\n",
        "print(b2)"
      ],
      "execution_count": null,
      "outputs": [
        {
          "output_type": "stream",
          "text": [
            "[[1 2 3]\n",
            " [4 5 6]\n",
            " [7 8 9]]\n",
            "==================\n",
            "[[10 11 12]\n",
            " [13 14 15]\n",
            " [16 17 18]]\n"
          ],
          "name": "stdout"
        }
      ]
    },
    {
      "cell_type": "markdown",
      "metadata": {
        "id": "ZdLRqL0feNBx",
        "colab_type": "text"
      },
      "source": [
        "- axis 지정이 없으면 1차원 배열 형태로 변형되어 결"
      ]
    },
    {
      "cell_type": "code",
      "metadata": {
        "id": "e-8NsXhueRO2",
        "colab_type": "code",
        "colab": {
          "base_uri": "https://localhost:8080/",
          "height": 52
        },
        "outputId": "53e38ecd-761e-4ddc-8a87-1a3ab6c984b9"
      },
      "source": [
        "c2 = np.append(a2, b2)\n",
        "print('==================')\n",
        "print(c2)"
      ],
      "execution_count": null,
      "outputs": [
        {
          "output_type": "stream",
          "text": [
            "==================\n",
            "[ 1  2  3  4  5  6  7  8  9 10 11 12 13 14 15 16 17 18]\n"
          ],
          "name": "stdout"
        }
      ]
    },
    {
      "cell_type": "markdown",
      "metadata": {
        "id": "c7g6cXEQeXOE",
        "colab_type": "text"
      },
      "source": [
        "- axis를 0으로 지정\n",
        "- shape[0]을 제외한 나머지 shape는 같아야 "
      ]
    },
    {
      "cell_type": "code",
      "metadata": {
        "id": "InZr3Q7GeqZ_",
        "colab_type": "code",
        "colab": {
          "base_uri": "https://localhost:8080/",
          "height": 123
        },
        "outputId": "a0d4d4ef-47cd-4692-a19d-5497b6612902"
      },
      "source": [
        "c2 = np.append(a2, b2, axis=0)\n",
        "print(c2)"
      ],
      "execution_count": null,
      "outputs": [
        {
          "output_type": "stream",
          "text": [
            "[[ 1  2  3]\n",
            " [ 4  5  6]\n",
            " [ 7  8  9]\n",
            " [10 11 12]\n",
            " [13 14 15]\n",
            " [16 17 18]]\n"
          ],
          "name": "stdout"
        }
      ]
    },
    {
      "cell_type": "markdown",
      "metadata": {
        "id": "C83oAdJue8jm",
        "colab_type": "text"
      },
      "source": [
        "- axis를 1로 지정\n",
        "- shape[1]을 제외한 나머지 shape은 같아야 함 "
      ]
    },
    {
      "cell_type": "code",
      "metadata": {
        "id": "QIzldfrCevCT",
        "colab_type": "code",
        "colab": {
          "base_uri": "https://localhost:8080/",
          "height": 70
        },
        "outputId": "36cd1691-3dc2-4652-a4cb-f25f7c43dd21"
      },
      "source": [
        "c2 = np.append(a2, b2, axis=1)\n",
        "print(c2)"
      ],
      "execution_count": null,
      "outputs": [
        {
          "output_type": "stream",
          "text": [
            "[[ 1  2  3 10 11 12]\n",
            " [ 4  5  6 13 14 15]\n",
            " [ 7  8  9 16 17 18]]\n"
          ],
          "name": "stdout"
        }
      ]
    },
    {
      "cell_type": "markdown",
      "metadata": {
        "id": "Cm2xpbyQen2k",
        "colab_type": "text"
      },
      "source": [
        "### 배열 연결 "
      ]
    },
    {
      "cell_type": "markdown",
      "metadata": {
        "id": "tOST8YP0fYXF",
        "colab_type": "text"
      },
      "source": [
        "- concatenate(): 튜플이나 배열의 리스트를 인수로 사용해 배열 연결"
      ]
    },
    {
      "cell_type": "code",
      "metadata": {
        "id": "MOGVAP4hffoq",
        "colab_type": "code",
        "colab": {
          "base_uri": "https://localhost:8080/",
          "height": 34
        },
        "outputId": "a7d569fe-3010-4c9c-dfb8-4ba3208f9bb0"
      },
      "source": [
        "a1 = np.array([1,3,5])\n",
        "b1 = np.array([2,4,6])\n",
        "np.concatenate([a1,b1])\n"
      ],
      "execution_count": null,
      "outputs": [
        {
          "output_type": "execute_result",
          "data": {
            "text/plain": [
              "array([1, 3, 5, 2, 4, 6])"
            ]
          },
          "metadata": {
            "tags": []
          },
          "execution_count": 60
        }
      ]
    },
    {
      "cell_type": "code",
      "metadata": {
        "id": "lau3dM3Pfuhi",
        "colab_type": "code",
        "colab": {
          "base_uri": "https://localhost:8080/",
          "height": 34
        },
        "outputId": "17222fa4-3eb1-46f6-f43b-7530344cb0ea"
      },
      "source": [
        "c1 = np.array([7,8,9])\n",
        "np.concatenate([a1,b1,c1])"
      ],
      "execution_count": null,
      "outputs": [
        {
          "output_type": "execute_result",
          "data": {
            "text/plain": [
              "array([1, 3, 5, 2, 4, 6, 7, 8, 9])"
            ]
          },
          "metadata": {
            "tags": []
          },
          "execution_count": 61
        }
      ]
    },
    {
      "cell_type": "code",
      "metadata": {
        "id": "vL_nu9lcgA-a",
        "colab_type": "code",
        "colab": {}
      },
      "source": [
        ""
      ],
      "execution_count": null,
      "outputs": []
    },
    {
      "cell_type": "code",
      "metadata": {
        "id": "IA-YBckif2KE",
        "colab_type": "code",
        "colab": {
          "base_uri": "https://localhost:8080/",
          "height": 105
        },
        "outputId": "40c3fe36-5f02-4f9b-891f-15a91b1e02d2"
      },
      "source": [
        "a2 = np.array([\n",
        "              [1,2,3],\n",
        "              [4,5,6]])\n",
        "np.concatenate([a2,b2], axis=0)"
      ],
      "execution_count": null,
      "outputs": [
        {
          "output_type": "execute_result",
          "data": {
            "text/plain": [
              "array([[ 1,  2,  3],\n",
              "       [ 4,  5,  6],\n",
              "       [10, 11, 12],\n",
              "       [13, 14, 15],\n",
              "       [16, 17, 18]])"
            ]
          },
          "metadata": {
            "tags": []
          },
          "execution_count": 62
        }
      ]
    },
    {
      "cell_type": "markdown",
      "metadata": {
        "id": "vPW9aa6jgOdb",
        "colab_type": "text"
      },
      "source": [
        "- vstack(): 수직 스택(vertical stack), 1차원으로 연결 "
      ]
    },
    {
      "cell_type": "code",
      "metadata": {
        "id": "tSzWHTppghMd",
        "colab_type": "code",
        "colab": {
          "base_uri": "https://localhost:8080/",
          "height": 87
        },
        "outputId": "723e4506-c89c-4c7b-a80a-6483a2ac2a6b"
      },
      "source": [
        "np.vstack([a2,a2])"
      ],
      "execution_count": null,
      "outputs": [
        {
          "output_type": "execute_result",
          "data": {
            "text/plain": [
              "array([[1, 2, 3],\n",
              "       [4, 5, 6],\n",
              "       [1, 2, 3],\n",
              "       [4, 5, 6]])"
            ]
          },
          "metadata": {
            "tags": []
          },
          "execution_count": 69
        }
      ]
    },
    {
      "cell_type": "markdown",
      "metadata": {
        "id": "C_JmJsQPgkQ9",
        "colab_type": "text"
      },
      "source": [
        "- hstack(): 수평 스택(horizontal stack), 2차원으로 연"
      ]
    },
    {
      "cell_type": "code",
      "metadata": {
        "id": "1E1fwVrugs4s",
        "colab_type": "code",
        "colab": {
          "base_uri": "https://localhost:8080/",
          "height": 52
        },
        "outputId": "dabf8115-a746-4eb9-f9d0-b98193db511a"
      },
      "source": [
        "np.hstack([a2,a2])"
      ],
      "execution_count": null,
      "outputs": [
        {
          "output_type": "execute_result",
          "data": {
            "text/plain": [
              "array([[1, 2, 3, 1, 2, 3],\n",
              "       [4, 5, 6, 4, 5, 6]])"
            ]
          },
          "metadata": {
            "tags": []
          },
          "execution_count": 70
        }
      ]
    },
    {
      "cell_type": "markdown",
      "metadata": {
        "id": "fTIiYDfYgv0D",
        "colab_type": "text"
      },
      "source": [
        "- dstack(): 깊이 스택(depth stack), 3차원으로 연결\n",
        "\n",
        "\n",
        "---\n",
        "\n"
      ]
    },
    {
      "cell_type": "code",
      "metadata": {
        "id": "e3x1Mrosg3wu",
        "colab_type": "code",
        "colab": {
          "base_uri": "https://localhost:8080/",
          "height": 141
        },
        "outputId": "184d0b37-d33f-4cc4-b21e-86c87b5f7585"
      },
      "source": [
        "np.dstack([a2, a2])"
      ],
      "execution_count": null,
      "outputs": [
        {
          "output_type": "execute_result",
          "data": {
            "text/plain": [
              "array([[[1, 1],\n",
              "        [2, 2],\n",
              "        [3, 3]],\n",
              "\n",
              "       [[4, 4],\n",
              "        [5, 5],\n",
              "        [6, 6]]])"
            ]
          },
          "metadata": {
            "tags": []
          },
          "execution_count": 71
        }
      ]
    },
    {
      "cell_type": "markdown",
      "metadata": {
        "id": "mDZ3vm0Dg6gx",
        "colab_type": "text"
      },
      "source": [
        "- stack(): 새로운 차원으로 연결 \n"
      ]
    },
    {
      "cell_type": "code",
      "metadata": {
        "id": "VJACS3t5hVaQ",
        "colab_type": "code",
        "colab": {
          "base_uri": "https://localhost:8080/",
          "height": 105
        },
        "outputId": "50de617e-e62c-4798-86d5-087e6336d703"
      },
      "source": [
        "np.stack([a2,a2])"
      ],
      "execution_count": null,
      "outputs": [
        {
          "output_type": "execute_result",
          "data": {
            "text/plain": [
              "array([[[1, 2, 3],\n",
              "        [4, 5, 6]],\n",
              "\n",
              "       [[1, 2, 3],\n",
              "        [4, 5, 6]]])"
            ]
          },
          "metadata": {
            "tags": []
          },
          "execution_count": 72
        }
      ]
    },
    {
      "cell_type": "markdown",
      "metadata": {
        "id": "zFo7qDeChYCc",
        "colab_type": "text"
      },
      "source": [
        "## 배열분할 "
      ]
    },
    {
      "cell_type": "markdown",
      "metadata": {
        "id": "hDRNG9qphgcf",
        "colab_type": "text"
      },
      "source": [
        "- split(): 배열분할 "
      ]
    },
    {
      "cell_type": "code",
      "metadata": {
        "id": "dYjrk3iDhkjK",
        "colab_type": "code",
        "colab": {
          "base_uri": "https://localhost:8080/",
          "height": 276
        },
        "outputId": "ac5054ef-4c8d-43b2-c06f-16023ef9682b"
      },
      "source": [
        "a1 = np.arange(0,10)\n",
        "print(a1)\n",
        "b1, c1 = np.split(a1, [5])\n",
        "print('---------------')\n",
        "print(b1,c1)\n",
        "print('---------------')\n",
        "b1, c1 = np.split(a1, [2,4,6,8])\n"
      ],
      "execution_count": null,
      "outputs": [
        {
          "output_type": "stream",
          "text": [
            "[0 1 2 3 4 5 6 7 8 9]\n",
            "---------------\n",
            "[0 1 2 3 4] [5 6 7 8 9]\n",
            "---------------\n"
          ],
          "name": "stdout"
        },
        {
          "output_type": "error",
          "ename": "ValueError",
          "evalue": "ignored",
          "traceback": [
            "\u001b[0;31m---------------------------------------------------------------------------\u001b[0m",
            "\u001b[0;31mValueError\u001b[0m                                Traceback (most recent call last)",
            "\u001b[0;32m<ipython-input-73-ac9d114e2784>\u001b[0m in \u001b[0;36m<module>\u001b[0;34m()\u001b[0m\n\u001b[1;32m      5\u001b[0m \u001b[0mprint\u001b[0m\u001b[0;34m(\u001b[0m\u001b[0mb1\u001b[0m\u001b[0;34m,\u001b[0m\u001b[0mc1\u001b[0m\u001b[0;34m)\u001b[0m\u001b[0;34m\u001b[0m\u001b[0;34m\u001b[0m\u001b[0m\n\u001b[1;32m      6\u001b[0m \u001b[0mprint\u001b[0m\u001b[0;34m(\u001b[0m\u001b[0;34m'---------------'\u001b[0m\u001b[0;34m)\u001b[0m\u001b[0;34m\u001b[0m\u001b[0;34m\u001b[0m\u001b[0m\n\u001b[0;32m----> 7\u001b[0;31m \u001b[0mb1\u001b[0m\u001b[0;34m,\u001b[0m \u001b[0mc1\u001b[0m \u001b[0;34m=\u001b[0m \u001b[0mnp\u001b[0m\u001b[0;34m.\u001b[0m\u001b[0msplit\u001b[0m\u001b[0;34m(\u001b[0m\u001b[0ma1\u001b[0m\u001b[0;34m,\u001b[0m \u001b[0;34m[\u001b[0m\u001b[0;36m2\u001b[0m\u001b[0;34m,\u001b[0m\u001b[0;36m4\u001b[0m\u001b[0;34m,\u001b[0m\u001b[0;36m6\u001b[0m\u001b[0;34m,\u001b[0m\u001b[0;36m8\u001b[0m\u001b[0;34m]\u001b[0m\u001b[0;34m)\u001b[0m\u001b[0;34m\u001b[0m\u001b[0;34m\u001b[0m\u001b[0m\n\u001b[0m",
            "\u001b[0;31mValueError\u001b[0m: too many values to unpack (expected 2)"
          ]
        }
      ]
    },
    {
      "cell_type": "markdown",
      "metadata": {
        "id": "Su2maH5UhmN9",
        "colab_type": "text"
      },
      "source": [
        "- vsplit(): 수직분할, 1차원으로 분"
      ]
    },
    {
      "cell_type": "code",
      "metadata": {
        "id": "Kd_btWYzhpoN",
        "colab_type": "code",
        "colab": {}
      },
      "source": [
        "a2 = np.arange(1,10).reshape(3,3)\n",
        "print(a2)\n",
        "b2, c2 = np.vsplit(a2, [2])\n",
        "print('---------------')\n",
        "print(b2)\n",
        "print('---------------')\n",
        "\n",
        "print(c2)"
      ],
      "execution_count": null,
      "outputs": []
    },
    {
      "cell_type": "markdown",
      "metadata": {
        "id": "FqZ6b_FwhqGx",
        "colab_type": "text"
      },
      "source": [
        "- hsplit(): 수평분할, 2차원으로 분"
      ]
    },
    {
      "cell_type": "code",
      "metadata": {
        "id": "4bY0BBU9hu6b",
        "colab_type": "code",
        "colab": {}
      },
      "source": [
        "a2 = np.arange(1,10).reshape(3,3)\n",
        "print(a2)\n",
        "b2, c2 = np.hsplit(a2, [2])\n",
        "print('---------------')\n",
        "print(b2)\n",
        "print('---------------')\n",
        "\n",
        "print(c2)"
      ],
      "execution_count": null,
      "outputs": []
    },
    {
      "cell_type": "markdown",
      "metadata": {
        "id": "I54IYsoIhvXN",
        "colab_type": "text"
      },
      "source": [
        "- dsplit(): 깊이 분할, 3차원으로 분할"
      ]
    },
    {
      "cell_type": "code",
      "metadata": {
        "id": "aPco2uq7hSHm",
        "colab_type": "code",
        "colab": {}
      },
      "source": [
        "a3 = np.arange(1,28).reshape(3,3,3)\n",
        "print(a3)\n",
        "print('---------------')\n",
        "\n",
        "b3, c3 = np.dsplit(a3, [2])\n",
        "print(b3)\n",
        "print('---------------')\n",
        "print(c3)"
      ],
      "execution_count": null,
      "outputs": []
    },
    {
      "cell_type": "markdown",
      "metadata": {
        "id": "D5H4JhM4lDdz",
        "colab_type": "text"
      },
      "source": [
        "## 배열 연산 "
      ]
    },
    {
      "cell_type": "markdown",
      "metadata": {
        "id": "7rr_5EjSlsRp",
        "colab_type": "text"
      },
      "source": [
        "- Numpy의 배열 연산은 벡터화(vectorized)연산을 사용\n",
        "- 일반적으로 Numpy의 범용 함수(universal functions)를 통해 구현 \n",
        "- 배열 요소에 대한 반복적인 계산을 효율적으로 수행 "
      ]
    },
    {
      "cell_type": "markdown",
      "metadata": {
        "id": "OTfYg-ILl6Ho",
        "colab_type": "text"
      },
      "source": [
        "### 브로드캐스팅(Broadcasting)"
      ]
    },
    {
      "cell_type": "code",
      "metadata": {
        "id": "UWLQSiAsl-h_",
        "colab_type": "code",
        "colab": {}
      },
      "source": [
        "a1 = np.array([1,2,3])\n",
        "print(a1)\n",
        "print('---------------')\n",
        "\n",
        "print(a1 + 5)\n",
        "print('---------------')\n",
        "\n",
        "a2 = np.arange(1,10).reshape(3,3)\n",
        "print(a2)\n",
        "print('---------------')\n",
        "print(a1+a2)\n",
        "\n",
        "b2 = np.array([1,2,3]).reshape(3,1)\n",
        "print(b2)\n",
        "print(a1 + b2)"
      ],
      "execution_count": null,
      "outputs": []
    },
    {
      "cell_type": "markdown",
      "metadata": {
        "id": "vzM2SUTQnZCR",
        "colab_type": "text"
      },
      "source": [
        "### 산술연산(Arithmetic Operators)"
      ]
    },
    {
      "cell_type": "markdown",
      "metadata": {
        "id": "CdPO4Z_KnhWI",
        "colab_type": "text"
      },
      "source": [
        "|연산자|범용 함수|설명|\n",
        "|---|---|---|\n",
        "|+|np.add|덧셈|\n",
        "|-|np.subtract|뺄셈|\n",
        "|-|np.negative|단항 음수|\n",
        "|*|np.multiply|곱셈|\n",
        "|/|np.divide|나눗셈|\n",
        "|//|np.floor_divide|나눗셈 내림|\n",
        "|**|np.power|지수 연산|\n",
        "|%|np.mod|나머지 연산|"
      ]
    },
    {
      "cell_type": "code",
      "metadata": {
        "id": "br6CKoDhoLvJ",
        "colab_type": "code",
        "colab": {}
      },
      "source": [
        "a1 = np.arange(1,10)\n",
        "print(a1)\n",
        "print('---------------\\n')\n",
        "\n",
        "print(a1 + 1)\n",
        "print('---------------')\n",
        "print(np.add(a1,10))\n",
        "print('---------------\\n')\n",
        "\n",
        "print(a1 - 2)\n",
        "print('---------------')\n",
        "print(np.subtract(a1,10))\n",
        "\n",
        "print('---------------\\n')\n",
        "print(a1 * 2)\n",
        "print(np.multiply(a1,2))\n",
        "print('---------------\\n')\n",
        "\n",
        "print(np.divide(a1,2))\n",
        "print('---------------')\n",
        "print(a1/2)\n",
        "\n",
        "print('---------------\\n')\n",
        "print(a1//2)\n",
        "print(np.floor_divide(a1,2))\n",
        "print('---------------\\n')\n",
        "\n",
        "print(a1 **2)\n",
        "print(np.power(a1,2))\n",
        "print('---------------\\n')\n",
        "\n",
        "print(a1 % 2)\n",
        "print(np.mod(a1,2))\n"
      ],
      "execution_count": null,
      "outputs": []
    },
    {
      "cell_type": "markdown",
      "metadata": {
        "id": "y0-RjkOfgMg3",
        "colab_type": "text"
      },
      "source": [
        ""
      ]
    },
    {
      "cell_type": "code",
      "metadata": {
        "id": "MmfsA5P_gJMu",
        "colab_type": "code",
        "colab": {
          "base_uri": "https://localhost:8080/",
          "height": 336
        },
        "outputId": "b724f275-ed51-4c2e-dcfe-5c67af4ba7ca"
      },
      "source": [
        "a1 = np.arange(1,10)\n",
        "print(a1)\n",
        "b1 = np.random.randint(1, 10, size=9)\n",
        "print(b1)\n",
        "print('---------------')\n",
        "\n",
        "print(a1 + b1)\n",
        "print('---------------')\n",
        "print(a1-b1)\n",
        "print('---------------')\n",
        "print(a1*b1)\n",
        "print('---------------')\n",
        "print(a1/b1)\n",
        "print('---------------')\n",
        "print(a1//b1)\n",
        "print('---------------')\n",
        "print(a1**b1)\n",
        "print('---------------')\n",
        "print(a1%b1)"
      ],
      "execution_count": null,
      "outputs": [
        {
          "output_type": "stream",
          "text": [
            "[1 2 3 4 5 6 7 8 9]\n",
            "[3 5 5 8 4 6 4 8 3]\n",
            "---------------\n",
            "[ 4  7  8 12  9 12 11 16 12]\n",
            "---------------\n",
            "[-2 -3 -2 -4  1  0  3  0  6]\n",
            "---------------\n",
            "[ 3 10 15 32 20 36 28 64 27]\n",
            "---------------\n",
            "[0.33333333 0.4        0.6        0.5        1.25       1.\n",
            " 1.75       1.         3.        ]\n",
            "---------------\n",
            "[0 0 0 0 1 1 1 1 3]\n",
            "---------------\n",
            "[       1       32      243    65536      625    46656     2401 16777216\n",
            "      729]\n",
            "---------------\n",
            "[1 2 3 4 1 0 3 0 0]\n"
          ],
          "name": "stdout"
        }
      ]
    },
    {
      "cell_type": "code",
      "metadata": {
        "id": "_EQBzhSifgYg",
        "colab_type": "code",
        "colab": {
          "base_uri": "https://localhost:8080/",
          "height": 638
        },
        "outputId": "997bf8a6-e620-41cb-b3fc-4c32fd6eef2f"
      },
      "source": [
        "a2 = np.arange(1,10).reshape(3,3)\n",
        "print(a2)\n",
        "b2 = np.random.randint(1,10, size=(3,3))\n",
        "print('---------------')\n",
        "print(b2)\n",
        "print('---------------')\n",
        "print(a2 + b2)\n",
        "print('---------------')\n",
        "\n",
        "print(a2 - b2)\n",
        "\n",
        "print('---------------')\n",
        "print(a2 * b2)\n",
        "\n",
        "print('---------------')\n",
        "print(a2 / b2)\n",
        "\n",
        "print('---------------')\n",
        "print(a2 // b2)\n",
        "\n",
        "print('---------------')\n",
        "print(a2 ** b2)\n",
        "\n",
        "print('---------------')\n",
        "print(a2 % b2)"
      ],
      "execution_count": null,
      "outputs": [
        {
          "output_type": "stream",
          "text": [
            "[[1 2 3]\n",
            " [4 5 6]\n",
            " [7 8 9]]\n",
            "---------------\n",
            "[[5 5 4]\n",
            " [2 6 2]\n",
            " [1 9 5]]\n",
            "---------------\n",
            "[[ 6  7  7]\n",
            " [ 6 11  8]\n",
            " [ 8 17 14]]\n",
            "---------------\n",
            "[[-4 -3 -1]\n",
            " [ 2 -1  4]\n",
            " [ 6 -1  4]]\n",
            "---------------\n",
            "[[ 5 10 12]\n",
            " [ 8 30 12]\n",
            " [ 7 72 45]]\n",
            "---------------\n",
            "[[0.2        0.4        0.75      ]\n",
            " [2.         0.83333333 3.        ]\n",
            " [7.         0.88888889 1.8       ]]\n",
            "---------------\n",
            "[[0 0 0]\n",
            " [2 0 3]\n",
            " [7 0 1]]\n",
            "---------------\n",
            "[[        1        32        81]\n",
            " [       16     15625        36]\n",
            " [        7 134217728     59049]]\n",
            "---------------\n",
            "[[1 2 3]\n",
            " [0 5 0]\n",
            " [0 8 4]]\n"
          ],
          "name": "stdout"
        }
      ]
    },
    {
      "cell_type": "markdown",
      "metadata": {
        "id": "nU1nEP2_rQlB",
        "colab_type": "text"
      },
      "source": [
        "#### 절대값 연산(Absolute Function)\n",
        "- absolute(), abs(): 내장된 절대값 함"
      ]
    },
    {
      "cell_type": "code",
      "metadata": {
        "id": "Io_Aj_6kri66",
        "colab_type": "code",
        "colab": {
          "base_uri": "https://localhost:8080/",
          "height": 87
        },
        "outputId": "913d6db5-69b1-44b8-de93-dcccf87483f1"
      },
      "source": [
        "a1 = np.random.randint(-10, 10, size=5)\n",
        "print(a1)\n",
        "print('---------------')\n",
        "print(np.absolute(a1))\n",
        "print(np.abs(a1))"
      ],
      "execution_count": null,
      "outputs": [
        {
          "output_type": "stream",
          "text": [
            "[5 6 9 7 1]\n",
            "---------------\n",
            "[5 6 9 7 1]\n",
            "[5 6 9 7 1]\n"
          ],
          "name": "stdout"
        }
      ]
    },
    {
      "cell_type": "markdown",
      "metadata": {
        "id": "4HgeCB-9rwOt",
        "colab_type": "text"
      },
      "source": [
        "#### 제곱/제곱근 함수\n",
        "- square, sqrt: 제곱, 제곱근 함수 "
      ]
    },
    {
      "cell_type": "code",
      "metadata": {
        "id": "fSDR-6rjr3N3",
        "colab_type": "code",
        "colab": {}
      },
      "source": [
        "print(a1)\n",
        "print('---------------')\n",
        "print(np.square(a1))\n",
        "print('---------------')\n",
        "print(np.sqrt(a1))"
      ],
      "execution_count": null,
      "outputs": []
    },
    {
      "cell_type": "markdown",
      "metadata": {
        "id": "0cbaUIKir_er",
        "colab_type": "text"
      },
      "source": [
        "#### 지수와 로그함수(Exponential and Log Function)"
      ]
    },
    {
      "cell_type": "code",
      "metadata": {
        "id": "jKYuWoczsSew",
        "colab_type": "code",
        "colab": {}
      },
      "source": [
        "a1 = np.random.randint(1,10,size=5)\n",
        "print(a1)\n",
        "print('---------------')\n",
        "print(np.exp(a1))  # exponential 값을 구합니다.\n",
        "print('---------------')\n",
        "\n",
        "print(np.exp2(a1)) #입력 Array값에 대해 2의 n 거듭제곱으로 계산\n",
        "print('---------------')\n",
        "\n",
        "print(np.power(a1, 2)) # 첫번째로 입력된 array의 값들을 두번째 입력된 배열의 값으로 거듭 제곱 계산"
      ],
      "execution_count": null,
      "outputs": []
    },
    {
      "cell_type": "code",
      "metadata": {
        "id": "GpII8UMw13aR",
        "colab_type": "code",
        "colab": {}
      },
      "source": [
        "print(a1)\n",
        "print(np.log(a1))\n",
        "print(np.log2(a1))\n",
        "print(np.log10(a1))"
      ],
      "execution_count": null,
      "outputs": []
    },
    {
      "cell_type": "markdown",
      "metadata": {
        "id": "1cZ8EOgHsirK",
        "colab_type": "text"
      },
      "source": [
        "#### 삼각함수(Trigonometrical Function)"
      ]
    },
    {
      "cell_type": "markdown",
      "metadata": {
        "id": "JAsu711k10uA",
        "colab_type": "text"
      },
      "source": [
        "|함수|설명|\n",
        "|---|---|\n",
        "|np.sin(array)|요소별 사인|\n",
        "|np.cos(array)|요소별 코사인|\n",
        "|np.tan(array)|요소별 탄젠트|\n",
        "|np.arcsin(array)|요소별 아크 사인|\n",
        "|np.arccos(array)|요소별 아크 사인|\n",
        "|np.arctan(array)|요소별 아크 탄젠트|\n",
        "|np.arctan2(array1, array2)|요소별 아크 탄젠트 array1/array2|\n",
        "|np.sinh(array)|요소별 하이퍼볼릭사인|\n",
        "|np.cosh(array)|요소별 하이퍼볼릭 코사인|\n",
        "|np.tanh(array)|요소별 하이퍼볼릭 탄젠트|\n",
        "|np.arcsinh(array)|요소별 하이퍼볼릭 아크 사인|\n",
        "|np.arccosh(array)|요소별 하이퍼볼릭 아크 코사인|\n",
        "|np.arctanh(array)|요소별 하이퍼볼릭 아크 탄젠트|\n",
        "|np.deg2rad(array)|요소별 각도에서 라디안 변환|\n",
        "|np.rad2deg(array)|요소별 라디안에서 각도 변환|\n",
        "|np.hypot(array, array2)|요소별 유클리드 거리계산|"
      ]
    },
    {
      "cell_type": "code",
      "metadata": {
        "id": "spoQShhxr57Y",
        "colab_type": "code",
        "colab": {
          "base_uri": "https://localhost:8080/",
          "height": 105
        },
        "outputId": "be8ec9de-a98c-4825-8c64-4592c169f32c"
      },
      "source": [
        "t = np.linspace(0, np.pi,3)\n",
        "print(t)\n",
        "print('==================')\n",
        "print(np.sin(t))\n",
        "print(np.cos(t))\n",
        "print(np.tan(t))"
      ],
      "execution_count": null,
      "outputs": [
        {
          "output_type": "stream",
          "text": [
            "[0.         1.57079633 3.14159265]\n",
            "==================\n",
            "[0.0000000e+00 1.0000000e+00 1.2246468e-16]\n",
            "[ 1.000000e+00  6.123234e-17 -1.000000e+00]\n",
            "[ 0.00000000e+00  1.63312394e+16 -1.22464680e-16]\n"
          ],
          "name": "stdout"
        }
      ]
    },
    {
      "cell_type": "code",
      "metadata": {
        "id": "u5bpQJVu3X_D",
        "colab_type": "code",
        "colab": {}
      },
      "source": [
        "x = [-1, 0, 1]\n",
        "print(x)\n",
        "print(np.arcsin(x))\n",
        "print(np.arccos(x))\n",
        "print(np.arctan(x))"
      ],
      "execution_count": null,
      "outputs": []
    },
    {
      "cell_type": "markdown",
      "metadata": {
        "id": "b5s2tQoL3jIt",
        "colab_type": "text"
      },
      "source": [
        "### 집계함수(Aggregate Functions)\n",
        "|함수|NaN안전모드|설명|\n",
        "|---|---|---|\n",
        "|np.sum|np.nansum|요소의합 계산|\n",
        "|np.cumsum|np.nancumsum|요소의 누적 합|\n",
        "|np.diff|N/A|요소의 차분|\n",
        "|np.prod|np.nanprod|요소의 곱 계산|\n",
        "|np.cumprod|np.nancumprod|요소의 누적 곱|\n",
        "|np.dot|N/A|점 곱(dot product)|\n",
        "|np.matmul|N/A|행렬 곱|\n",
        "|np.tensordot|N/A|텐서곱(tensor product)|\n",
        "|np.cross|N/A|벡터곱(cross product)|\n",
        "|np.inner|N/A|내적(inner product)|\n",
        "|np.outer|N/A|외적(outer product)|\n",
        "|np.mean|np.nanmean|요소의 평균 계산|\n",
        "|np.std|np.nanstd|표준 편차 계산|\n",
        "|np.var|np.nanvar|분산 계산|\n",
        "|np.min|np.nanmin|최소값|\n",
        "|np.max|np.nanmax|최대값|\n",
        "|np.argmin|np.nanargmin|최소값 인덱스|\n",
        "|np.argmax|np.nanargmax|최대값 인덱|"
      ]
    },
    {
      "cell_type": "markdown",
      "metadata": {
        "id": "vT5et5_UAbfr",
        "colab_type": "text"
      },
      "source": [
        ""
      ]
    },
    {
      "cell_type": "markdown",
      "metadata": {
        "id": "jMzwqdnC5nHa",
        "colab_type": "text"
      },
      "source": [
        "#### sum(): 합 계"
      ]
    },
    {
      "cell_type": "code",
      "metadata": {
        "id": "GOrLt3aT6CTU",
        "colab_type": "code",
        "colab": {
          "base_uri": "https://localhost:8080/",
          "height": 176
        },
        "outputId": "8bb02a35-3542-4a34-dfcf-f0445a9dc02b"
      },
      "source": [
        "a2 = np.random.randint(1,10,size=(3,3))\n",
        "print(a2)\n",
        "print('==============================')\n",
        "print(a2.sum(), np.sum(a2))\n",
        "print('==============================')\n",
        "print(a2.sum(axis=0), np.sum(a2, axis=0))\n",
        "print('==============================')\n",
        "print(a2.sum(axis=1), np.sum(a2, axis=1))\n"
      ],
      "execution_count": null,
      "outputs": [
        {
          "output_type": "stream",
          "text": [
            "[[7 9 5]\n",
            " [6 9 7]\n",
            " [7 1 6]]\n",
            "==============================\n",
            "57 57\n",
            "==============================\n",
            "[20 19 18] [20 19 18]\n",
            "==============================\n",
            "[21 22 14] [21 22 14]\n"
          ],
          "name": "stdout"
        }
      ]
    },
    {
      "cell_type": "markdown",
      "metadata": {
        "id": "Q_FgKKSa6W7o",
        "colab_type": "text"
      },
      "source": [
        "#### cumsum(): 누적합 계산 \n"
      ]
    },
    {
      "cell_type": "code",
      "metadata": {
        "id": "j82drCyY61uR",
        "colab_type": "code",
        "colab": {
          "base_uri": "https://localhost:8080/",
          "height": 247
        },
        "outputId": "7430a062-186f-4f38-a937-c1f2b80d4b6f"
      },
      "source": [
        "print(a2)\n",
        "print('==============================')\n",
        "print( np.cumsum(a2))\n",
        "print('==============================')\n",
        "print( np.cumsum(a2, axis=0))\n",
        "print('==============================')\n",
        "print(np.cumsum(a2, axis=1))"
      ],
      "execution_count": null,
      "outputs": [
        {
          "output_type": "stream",
          "text": [
            "[[7 9 5]\n",
            " [6 9 7]\n",
            " [7 1 6]]\n",
            "==============================\n",
            "[ 7 16 21 27 36 43 50 51 57]\n",
            "==============================\n",
            "[[ 7  9  5]\n",
            " [13 18 12]\n",
            " [20 19 18]]\n",
            "==============================\n",
            "[[ 7 16 21]\n",
            " [ 6 15 22]\n",
            " [ 7  8 14]]\n"
          ],
          "name": "stdout"
        }
      ]
    },
    {
      "cell_type": "code",
      "metadata": {
        "id": "TEhL4R7_6zlr",
        "colab_type": "code",
        "colab": {}
      },
      "source": [
        "#### diff(): 차분 계산"
      ],
      "execution_count": null,
      "outputs": []
    },
    {
      "cell_type": "code",
      "metadata": {
        "id": "krJza9vZ7vWJ",
        "colab_type": "code",
        "colab": {
          "base_uri": "https://localhost:8080/",
          "height": 265
        },
        "outputId": "b3149cba-5adb-42cb-b074-8923fa9a10db"
      },
      "source": [
        "print(a2)\n",
        "print('==============================')\n",
        "print( np.diff(a2))\n",
        "print('==============================')\n",
        "print( np.diff(a2, axis=0))\n",
        "print('==============================')\n",
        "print(np.diff(a2, axis=1))"
      ],
      "execution_count": null,
      "outputs": [
        {
          "output_type": "stream",
          "text": [
            "[[7 9 5]\n",
            " [6 9 7]\n",
            " [7 1 6]]\n",
            "==============================\n",
            "[[ 2 -4]\n",
            " [ 3 -2]\n",
            " [-6  5]]\n",
            "==============================\n",
            "[[-1  0  2]\n",
            " [ 1 -8 -1]]\n",
            "==============================\n",
            "[[ 2 -4]\n",
            " [ 3 -2]\n",
            " [-6  5]]\n"
          ],
          "name": "stdout"
        }
      ]
    },
    {
      "cell_type": "markdown",
      "metadata": {
        "id": "I_06_kZg72lp",
        "colab_type": "text"
      },
      "source": [
        "*이탤릭체 텍스트*#### prod(): 곱 계산 \n",
        "\n",
        "2차원 배열의 경우 axis=0 이면 같은 열(column)의 위*아래 방향으로 배열 원소 간 곱하며, axis=1 이면 같은 행(row)의 왼쪽*오른쪽 원소 간 곱을 합니다.\n",
        "\n"
      ]
    },
    {
      "cell_type": "code",
      "metadata": {
        "id": "dY8NdAKs8ftg",
        "colab_type": "code",
        "colab": {
          "base_uri": "https://localhost:8080/",
          "height": 176
        },
        "outputId": "977b6ebc-04b4-48c6-9c98-57cad5cbd8e2"
      },
      "source": [
        "print(a2,a2.shape)\n",
        "print('==============================')\n",
        "print(np.prod(a2))\n",
        "print('==============================')\n",
        "print( np.prod(a2, axis=0))\n",
        "print('==============================')\n",
        "print(np.prod(a2, axis=1))"
      ],
      "execution_count": null,
      "outputs": [
        {
          "output_type": "stream",
          "text": [
            "[[7 9 5]\n",
            " [6 9 7]\n",
            " [7 1 6]] (3, 3)\n",
            "==============================\n",
            "5000940\n",
            "==============================\n",
            "[294  81 210]\n",
            "==============================\n",
            "[315 378  42]\n"
          ],
          "name": "stdout"
        }
      ]
    },
    {
      "cell_type": "markdown",
      "metadata": {
        "id": "IyumFkha7y7O",
        "colab_type": "text"
      },
      "source": [
        "#### cumprod(): 누접곱 계산"
      ]
    },
    {
      "cell_type": "code",
      "metadata": {
        "id": "N_izPLh36U9A",
        "colab_type": "code",
        "colab": {
          "base_uri": "https://localhost:8080/",
          "height": 247
        },
        "outputId": "fd72d092-c3c8-4bbe-e7c4-2aba56b7b108"
      },
      "source": [
        "print(a2,a2.shape)\n",
        "print('==============================')\n",
        "print(np.cumprod(a2))\n",
        "print('==============================')\n",
        "print( np.cumprod(a2, axis=0))\n",
        "print('==============================')\n",
        "print(np.cumprod(a2, axis=1))"
      ],
      "execution_count": null,
      "outputs": [
        {
          "output_type": "stream",
          "text": [
            "[[7 9 5]\n",
            " [6 9 7]\n",
            " [7 1 6]] (3, 3)\n",
            "==============================\n",
            "[      7      63     315    1890   17010  119070  833490  833490 5000940]\n",
            "==============================\n",
            "[[  7   9   5]\n",
            " [ 42  81  35]\n",
            " [294  81 210]]\n",
            "==============================\n",
            "[[  7  63 315]\n",
            " [  6  54 378]\n",
            " [  7   7  42]]\n"
          ],
          "name": "stdout"
        }
      ]
    },
    {
      "cell_type": "markdown",
      "metadata": {
        "id": "jUZBovy9rNeH",
        "colab_type": "text"
      },
      "source": [
        "#### dot()/matmul(): 점곱/행렬곱 계산"
      ]
    },
    {
      "cell_type": "code",
      "metadata": {
        "id": "LxIuB08erCjy",
        "colab_type": "code",
        "colab": {
          "base_uri": "https://localhost:8080/",
          "height": 283
        },
        "outputId": "4477c242-bf78-432f-fbaf-9e68eff847fb"
      },
      "source": [
        "print(a2)\n",
        "b2 = np.ones_like(a2)\n",
        "print('==============')\n",
        "print(b2)\n",
        "print('==============')\n",
        "print(np.dot(a2,b2))\n",
        "print('==============')\n",
        "print(np.matmul(a2,b2))\n",
        "\n",
        "\n"
      ],
      "execution_count": null,
      "outputs": [
        {
          "output_type": "stream",
          "text": [
            "[[7 9 5]\n",
            " [6 9 7]\n",
            " [7 1 6]]\n",
            "==============\n",
            "[[1 1 1]\n",
            " [1 1 1]\n",
            " [1 1 1]]\n",
            "==============\n",
            "[[21 21 21]\n",
            " [22 22 22]\n",
            " [14 14 14]]\n",
            "==============\n",
            "[[21 21 21]\n",
            " [22 22 22]\n",
            " [14 14 14]]\n"
          ],
          "name": "stdout"
        }
      ]
    },
    {
      "cell_type": "markdown",
      "metadata": {
        "id": "pw_ViqoJfghk",
        "colab_type": "text"
      },
      "source": [
        "#### tensordot():텐서곱 계산"
      ]
    },
    {
      "cell_type": "code",
      "metadata": {
        "id": "OFxZwlXXfiBX",
        "colab_type": "code",
        "colab": {
          "base_uri": "https://localhost:8080/",
          "height": 923
        },
        "outputId": "18f88f45-895a-4c83-f138-ff4d659c4225"
      },
      "source": [
        "print(a2)\n",
        "print('==============')\n",
        "print(b2)\n",
        "print('==============')\n",
        "print(np.tensordot(a2,b2))\n",
        "print('==============')\n",
        "print(np.tensordot(a2,b2, axes=0))\n",
        "print('==============')\n",
        "print(np.tensordot(a2,b2, axes=1))\n",
        "\n",
        "\n"
      ],
      "execution_count": null,
      "outputs": [
        {
          "output_type": "stream",
          "text": [
            "[[7 9 5]\n",
            " [6 9 7]\n",
            " [7 1 6]]\n",
            "==============\n",
            "[[1 1 1]\n",
            " [1 1 1]\n",
            " [1 1 1]]\n",
            "==============\n",
            "57\n",
            "==============\n",
            "[[[[7 7 7]\n",
            "   [7 7 7]\n",
            "   [7 7 7]]\n",
            "\n",
            "  [[9 9 9]\n",
            "   [9 9 9]\n",
            "   [9 9 9]]\n",
            "\n",
            "  [[5 5 5]\n",
            "   [5 5 5]\n",
            "   [5 5 5]]]\n",
            "\n",
            "\n",
            " [[[6 6 6]\n",
            "   [6 6 6]\n",
            "   [6 6 6]]\n",
            "\n",
            "  [[9 9 9]\n",
            "   [9 9 9]\n",
            "   [9 9 9]]\n",
            "\n",
            "  [[7 7 7]\n",
            "   [7 7 7]\n",
            "   [7 7 7]]]\n",
            "\n",
            "\n",
            " [[[7 7 7]\n",
            "   [7 7 7]\n",
            "   [7 7 7]]\n",
            "\n",
            "  [[1 1 1]\n",
            "   [1 1 1]\n",
            "   [1 1 1]]\n",
            "\n",
            "  [[6 6 6]\n",
            "   [6 6 6]\n",
            "   [6 6 6]]]]\n",
            "==============\n",
            "[[21 21 21]\n",
            " [22 22 22]\n",
            " [14 14 14]]\n"
          ],
          "name": "stdout"
        }
      ]
    },
    {
      "cell_type": "markdown",
      "metadata": {
        "id": "St1N8Dx8mi9j",
        "colab_type": "text"
      },
      "source": [
        "#### cross(): 벡터곱"
      ]
    },
    {
      "cell_type": "code",
      "metadata": {
        "id": "Gcv3dFEwn4aQ",
        "colab_type": "code",
        "colab": {
          "base_uri": "https://localhost:8080/",
          "height": 34
        },
        "outputId": "a57151ac-2119-41a6-f11f-ab88d8a66165"
      },
      "source": [
        "x = [1,2,3]\n",
        "y = [4,5,6]\n",
        "print(np.cross(x,y))"
      ],
      "execution_count": null,
      "outputs": [
        {
          "output_type": "stream",
          "text": [
            "[-3  6 -3]\n"
          ],
          "name": "stdout"
        }
      ]
    },
    {
      "cell_type": "markdown",
      "metadata": {
        "id": "Tv7U2JbyoAtk",
        "colab_type": "text"
      },
      "source": [
        "#### inner() / outer(): 내적/ 외적 "
      ]
    },
    {
      "cell_type": "code",
      "metadata": {
        "id": "ptCLtiQXuxYa",
        "colab_type": "code",
        "colab": {
          "base_uri": "https://localhost:8080/",
          "height": 407
        },
        "outputId": "cf20d8fd-9c8b-456a-ff59-d13b754aa7a8"
      },
      "source": [
        "print(a2)\n",
        "print('==============')\n",
        "print(b2)\n",
        "print('==============')\n",
        "print(np.inner(a2,b2)) # dot product와 동일한 결과 \n",
        "print('==============')\n",
        "print(np.outer(a2,b2))\n",
        "print('==============')\n",
        "\n",
        "\n",
        "\n"
      ],
      "execution_count": null,
      "outputs": [
        {
          "output_type": "stream",
          "text": [
            "[[7 9 5]\n",
            " [6 9 7]\n",
            " [7 1 6]]\n",
            "==============\n",
            "[[1 1 1]\n",
            " [1 1 1]\n",
            " [1 1 1]]\n",
            "==============\n",
            "[[21 21 21]\n",
            " [22 22 22]\n",
            " [14 14 14]]\n",
            "==============\n",
            "[[7 7 7 7 7 7 7 7 7]\n",
            " [9 9 9 9 9 9 9 9 9]\n",
            " [5 5 5 5 5 5 5 5 5]\n",
            " [6 6 6 6 6 6 6 6 6]\n",
            " [9 9 9 9 9 9 9 9 9]\n",
            " [7 7 7 7 7 7 7 7 7]\n",
            " [7 7 7 7 7 7 7 7 7]\n",
            " [1 1 1 1 1 1 1 1 1]\n",
            " [6 6 6 6 6 6 6 6 6]]\n",
            "==============\n"
          ],
          "name": "stdout"
        }
      ]
    },
    {
      "cell_type": "markdown",
      "metadata": {
        "id": "84RlQ2Veu_64",
        "colab_type": "text"
      },
      "source": [
        "#### mean(): 평균계산"
      ]
    },
    {
      "cell_type": "code",
      "metadata": {
        "id": "Bx6mX47hvOkH",
        "colab_type": "code",
        "colab": {
          "base_uri": "https://localhost:8080/",
          "height": 176
        },
        "outputId": "a6a63c4e-c44b-4930-e368-7b41ec9597a6"
      },
      "source": [
        "print(a2)\n",
        "print('==============')\n",
        "print(np.mean(a2))\n",
        "print('==============')\n",
        "print(np.mean(a2, axis=0))\n",
        "print('==============')\n",
        "print(np.mean(a2, axis=1))\n",
        "\n",
        "\n"
      ],
      "execution_count": null,
      "outputs": [
        {
          "output_type": "stream",
          "text": [
            "[[7 9 5]\n",
            " [6 9 7]\n",
            " [7 1 6]]\n",
            "==============\n",
            "6.333333333333333\n",
            "==============\n",
            "[6.66666667 6.33333333 6.        ]\n",
            "==============\n",
            "[7.         7.33333333 4.66666667]\n"
          ],
          "name": "stdout"
        }
      ]
    },
    {
      "cell_type": "markdown",
      "metadata": {
        "id": "HXXFCUYWvbWK",
        "colab_type": "text"
      },
      "source": [
        "#### std(): 표준편차 계산"
      ]
    },
    {
      "cell_type": "code",
      "metadata": {
        "id": "YjOe_GEzwBrF",
        "colab_type": "code",
        "colab": {
          "base_uri": "https://localhost:8080/",
          "height": 176
        },
        "outputId": "e9c706b1-fcd2-4e10-ef31-06e19040367e"
      },
      "source": [
        "print(a2)\n",
        "print('==============')\n",
        "print(np.std(a2))\n",
        "print('==============')\n",
        "print(np.std(a2, axis=0))\n",
        "print('==============')\n",
        "print(np.std(a2, axis=1))\n",
        "\n",
        "\n"
      ],
      "execution_count": null,
      "outputs": [
        {
          "output_type": "stream",
          "text": [
            "[[7 9 5]\n",
            " [6 9 7]\n",
            " [7 1 6]]\n",
            "==============\n",
            "2.260776661041756\n",
            "==============\n",
            "[0.47140452 3.77123617 0.81649658]\n",
            "==============\n",
            "[1.63299316 1.24721913 2.62466929]\n"
          ],
          "name": "stdout"
        }
      ]
    },
    {
      "cell_type": "markdown",
      "metadata": {
        "id": "vrKJInxDwE7z",
        "colab_type": "text"
      },
      "source": [
        "#### var(): 분산계산"
      ]
    },
    {
      "cell_type": "code",
      "metadata": {
        "id": "ZWH9JbrZwg-v",
        "colab_type": "code",
        "colab": {
          "base_uri": "https://localhost:8080/",
          "height": 176
        },
        "outputId": "10af3b5f-589f-438e-9902-f88fa91f4d54"
      },
      "source": [
        "print(a2)\n",
        "print('==============')\n",
        "print(np.var(a2))\n",
        "print('==============')\n",
        "print(np.var(a2, axis=0))\n",
        "print('==============')\n",
        "print(np.var(a2, axis=1))\n",
        "\n",
        "\n"
      ],
      "execution_count": null,
      "outputs": [
        {
          "output_type": "stream",
          "text": [
            "[[7 9 5]\n",
            " [6 9 7]\n",
            " [7 1 6]]\n",
            "==============\n",
            "5.111111111111111\n",
            "==============\n",
            "[ 0.22222222 14.22222222  0.66666667]\n",
            "==============\n",
            "[2.66666667 1.55555556 6.88888889]\n"
          ],
          "name": "stdout"
        }
      ]
    },
    {
      "cell_type": "markdown",
      "metadata": {
        "id": "hJK3PiEHwl_t",
        "colab_type": "text"
      },
      "source": [
        "#### min(): 최소값"
      ]
    },
    {
      "cell_type": "code",
      "metadata": {
        "id": "aEbDNmfPx1K9",
        "colab_type": "code",
        "colab": {
          "base_uri": "https://localhost:8080/",
          "height": 176
        },
        "outputId": "ee2e975f-7991-4ad3-b60c-c619b75bb698"
      },
      "source": [
        "print(a2)\n",
        "print('==============')\n",
        "print(np.min(a2))\n",
        "print('==============')\n",
        "print(np.min(a2, axis=0))\n",
        "print('==============')\n",
        "print(np.min(a2, axis=1))\n",
        "\n",
        "\n"
      ],
      "execution_count": null,
      "outputs": [
        {
          "output_type": "stream",
          "text": [
            "[[7 9 5]\n",
            " [6 9 7]\n",
            " [7 1 6]]\n",
            "==============\n",
            "1\n",
            "==============\n",
            "[6 1 5]\n",
            "==============\n",
            "[5 6 1]\n"
          ],
          "name": "stdout"
        }
      ]
    },
    {
      "cell_type": "markdown",
      "metadata": {
        "id": "SY--PYKkx6XI",
        "colab_type": "text"
      },
      "source": [
        "#### min(): 최대값"
      ]
    },
    {
      "cell_type": "code",
      "metadata": {
        "id": "dpKag4tcyDPf",
        "colab_type": "code",
        "colab": {
          "base_uri": "https://localhost:8080/",
          "height": 176
        },
        "outputId": "83a3f4ed-f9e0-488f-a03d-e50a9a12e3ce"
      },
      "source": [
        "print(a2)\n",
        "print('==============')\n",
        "print(np.max(a2))\n",
        "print('==============')\n",
        "print(np.max(a2, axis=0))\n",
        "print('==============')\n",
        "print(np.max(a2, axis=1))\n",
        "\n",
        "\n"
      ],
      "execution_count": null,
      "outputs": [
        {
          "output_type": "stream",
          "text": [
            "[[7 9 5]\n",
            " [6 9 7]\n",
            " [7 1 6]]\n",
            "==============\n",
            "9\n",
            "==============\n",
            "[7 9 7]\n",
            "==============\n",
            "[9 9 7]\n"
          ],
          "name": "stdout"
        }
      ]
    },
    {
      "cell_type": "markdown",
      "metadata": {
        "id": "hHXH91eiyGDU",
        "colab_type": "text"
      },
      "source": [
        "#### argmin(): 최소값 인덱스"
      ]
    },
    {
      "cell_type": "code",
      "metadata": {
        "id": "lmUEmQINyKJh",
        "colab_type": "code",
        "colab": {
          "base_uri": "https://localhost:8080/",
          "height": 176
        },
        "outputId": "4b4a3468-ee9e-4088-bc4d-0b1e0fbcd830"
      },
      "source": [
        "print(a2)\n",
        "print('==============')\n",
        "print(np.argmin(a2))\n",
        "print('==============')\n",
        "print(np.argmin(a2, axis=0))\n",
        "print('==============')\n",
        "print(np.argmin(a2, axis=1))\n",
        "\n",
        "\n"
      ],
      "execution_count": null,
      "outputs": [
        {
          "output_type": "stream",
          "text": [
            "[[7 9 5]\n",
            " [6 9 7]\n",
            " [7 1 6]]\n",
            "==============\n",
            "7\n",
            "==============\n",
            "[1 2 0]\n",
            "==============\n",
            "[2 0 1]\n"
          ],
          "name": "stdout"
        }
      ]
    },
    {
      "cell_type": "markdown",
      "metadata": {
        "id": "KkNxx8D0yOMB",
        "colab_type": "text"
      },
      "source": [
        "#### argmax(): 최대값 인덱스"
      ]
    },
    {
      "cell_type": "code",
      "metadata": {
        "id": "loRwdcIIyezS",
        "colab_type": "code",
        "colab": {
          "base_uri": "https://localhost:8080/",
          "height": 176
        },
        "outputId": "ea0f16f6-62d7-44bf-d682-d2d1f13d55ac"
      },
      "source": [
        "print(a2)\n",
        "print('==============')\n",
        "print(np.argmax(a2))\n",
        "print('==============')\n",
        "print(np.argmax(a2, axis=0))\n",
        "print('==============')\n",
        "print(np.argmax(a2, axis=1))\n",
        "\n",
        "\n"
      ],
      "execution_count": null,
      "outputs": [
        {
          "output_type": "stream",
          "text": [
            "[[7 9 5]\n",
            " [6 9 7]\n",
            " [7 1 6]]\n",
            "==============\n",
            "1\n",
            "==============\n",
            "[0 0 1]\n",
            "==============\n",
            "[1 1 0]\n"
          ],
          "name": "stdout"
        }
      ]
    },
    {
      "cell_type": "markdown",
      "metadata": {
        "id": "wNF2pZCkyjyO",
        "colab_type": "text"
      },
      "source": [
        "#### median(): 중앙값"
      ]
    },
    {
      "cell_type": "code",
      "metadata": {
        "id": "BV-rwSusyoHV",
        "colab_type": "code",
        "colab": {
          "base_uri": "https://localhost:8080/",
          "height": 176
        },
        "outputId": "c42361b5-c9d1-4844-bed8-87e78e05027f"
      },
      "source": [
        "print(a2)\n",
        "print('==============')\n",
        "print(np.median(a2))\n",
        "print('==============')\n",
        "print(np.median(a2, axis=0))\n",
        "print('==============')\n",
        "print(np.median(a2, axis=1))\n",
        "\n",
        "\n"
      ],
      "execution_count": null,
      "outputs": [
        {
          "output_type": "stream",
          "text": [
            "[[7 9 5]\n",
            " [6 9 7]\n",
            " [7 1 6]]\n",
            "==============\n",
            "7.0\n",
            "==============\n",
            "[7. 9. 6.]\n",
            "==============\n",
            "[7. 7. 6.]\n"
          ],
          "name": "stdout"
        }
      ]
    },
    {
      "cell_type": "markdown",
      "metadata": {
        "id": "OGRJDzOBysLU",
        "colab_type": "text"
      },
      "source": [
        "#### percentile(): 백분의수 "
      ]
    },
    {
      "cell_type": "code",
      "metadata": {
        "id": "ZkouNGVFzJnH",
        "colab_type": "code",
        "colab": {
          "base_uri": "https://localhost:8080/",
          "height": 141
        },
        "outputId": "a3816118-83c8-4b41-e6f1-4609d54a6553"
      },
      "source": [
        "a1 = np.array([0,1,2,3])\n",
        "print(a1)\n",
        "print('================')\n",
        "print(np.percentile(a1, [0,20,40,60,80,100], interpolation='linear'),'linear')\n",
        "print(np.percentile(a1, [0,20,40,60,80,100], interpolation='higher'),'higher')\n",
        "print(np.percentile(a1, [0,20,40,60,80,100], interpolation='lower'),'lower')\n",
        "print(np.percentile(a1, [0,20,40,60,80,100], interpolation='nearest'),'nearest')\n",
        "print(np.percentile(a1, [0,20,40,60,80,100], interpolation='midpoint'),'midpoint')"
      ],
      "execution_count": null,
      "outputs": [
        {
          "output_type": "stream",
          "text": [
            "[0 1 2 3]\n",
            "================\n",
            "[0.  0.6 1.2 1.8 2.4 3. ] linear\n",
            "[0 1 2 2 3 3] higher\n",
            "[0 0 1 1 2 3] lower\n",
            "[0 1 1 2 2 3] nearest\n",
            "[0.  0.5 1.5 1.5 2.5 3. ] midpoint\n"
          ],
          "name": "stdout"
        }
      ]
    },
    {
      "cell_type": "markdown",
      "metadata": {
        "id": "GVAnVVmwzsaq",
        "colab_type": "text"
      },
      "source": [
        "#### any()"
      ]
    },
    {
      "cell_type": "code",
      "metadata": {
        "id": "oLukqV5o0uXe",
        "colab_type": "code",
        "colab": {
          "base_uri": "https://localhost:8080/",
          "height": 176
        },
        "outputId": "b79acc6a-9f4c-4221-9187-a6682cccf2fb"
      },
      "source": [
        "a2 = np.array([\n",
        "              [False,False,False],\n",
        "              [False,True,True],\n",
        "              [False,True,True]\n",
        "              ])\n",
        "print(a2)\n",
        "print('================')\n",
        "\n",
        "print(np.any(a2))\n",
        "print('================')\n",
        "\n",
        "print(np.any(a2, axis=0))\n",
        "print('================')\n",
        "\n",
        "print(np.any(a2, axis=1))"
      ],
      "execution_count": null,
      "outputs": [
        {
          "output_type": "stream",
          "text": [
            "[[False False False]\n",
            " [False  True  True]\n",
            " [False  True  True]]\n",
            "================\n",
            "True\n",
            "================\n",
            "[False  True  True]\n",
            "================\n",
            "[False  True  True]\n"
          ],
          "name": "stdout"
        }
      ]
    },
    {
      "cell_type": "markdown",
      "metadata": {
        "id": "LFkwJh5z0wOk",
        "colab_type": "text"
      },
      "source": [
        "#### all()"
      ]
    },
    {
      "cell_type": "code",
      "metadata": {
        "id": "sxX2i0rB0xwj",
        "colab_type": "code",
        "colab": {
          "base_uri": "https://localhost:8080/",
          "height": 176
        },
        "outputId": "8926bd96-e233-464c-f1cc-5459a7353b02"
      },
      "source": [
        "a2 = np.array([\n",
        "              [False,False,True],\n",
        "              [True,True,True],\n",
        "              [False,True,True]\n",
        "              ])\n",
        "print(a2)\n",
        "print('================')\n",
        "\n",
        "print(np.all(a2))\n",
        "print('================')\n",
        "\n",
        "print(np.all(a2, axis=0))\n",
        "print('================')\n",
        "\n",
        "print(np.all(a2, axis=1))"
      ],
      "execution_count": null,
      "outputs": [
        {
          "output_type": "stream",
          "text": [
            "[[False False  True]\n",
            " [ True  True  True]\n",
            " [False  True  True]]\n",
            "================\n",
            "False\n",
            "================\n",
            "[False False  True]\n",
            "================\n",
            "[False  True False]\n"
          ],
          "name": "stdout"
        }
      ]
    },
    {
      "cell_type": "markdown",
      "metadata": {
        "id": "94T-d8hK_7bt",
        "colab_type": "text"
      },
      "source": [
        "### 비교 연산(Comparison Operators)\n",
        "\n",
        "|연산자|비교 범용 함수|\n",
        "|---|---|\n",
        "|==|np.equal|\n",
        "|!=|np.not_equal|\n",
        "|<|np.less|\n",
        "|<=|np.less_equal|\n",
        "|>|np.greater|\n",
        "|>=|np.greater_equal|"
      ]
    },
    {
      "cell_type": "code",
      "metadata": {
        "id": "IHAD-97CBcq2",
        "colab_type": "code",
        "colab": {
          "base_uri": "https://localhost:8080/",
          "height": 247
        },
        "outputId": "74210c77-514b-4618-cb40-fe96d1632479"
      },
      "source": [
        "a1 = np.arange(1, 10)\n",
        "print(a1)\n",
        "print(a1 == 5)\n",
        "print('=======================================================')\n",
        "print(a1 != 5)\n",
        "print('=======================================================')\n",
        "print(a1 < 5)\n",
        "print('=======================================================')\n",
        "print(a1 <= 5)\n",
        "print('=======================================================')\n",
        "print(a1 > 5)\n",
        "print('=======================================================')\n",
        "print(a1 >= 5)\n",
        "print('=======================================================')\n"
      ],
      "execution_count": null,
      "outputs": [
        {
          "output_type": "stream",
          "text": [
            "[1 2 3 4 5 6 7 8 9]\n",
            "[False False False False  True False False False False]\n",
            "=======================================================\n",
            "[ True  True  True  True False  True  True  True  True]\n",
            "=======================================================\n",
            "[ True  True  True  True False False False False False]\n",
            "=======================================================\n",
            "[ True  True  True  True  True False False False False]\n",
            "=======================================================\n",
            "[False False False False False  True  True  True  True]\n",
            "=======================================================\n",
            "[False False False False  True  True  True  True  True]\n",
            "=======================================================\n"
          ],
          "name": "stdout"
        }
      ]
    },
    {
      "cell_type": "code",
      "metadata": {
        "id": "d7yrigRGCKET",
        "colab_type": "code",
        "colab": {
          "base_uri": "https://localhost:8080/",
          "height": 212
        },
        "outputId": "d462c7fa-7f00-4823-d648-be77f906ee33"
      },
      "source": [
        "a2 = np.arange(1,10).reshape(3,3)\n",
        "print(a2)\n",
        "print('=======================================================')\n",
        "print(np.sum(a2))\n",
        "print('=======================================================')\n",
        "print(np.count_nonzero(a2>5))\n",
        "print('=======================================================')\n",
        "print(np.sum(a2>5, axis=0))\n",
        "print('=======================================================')\n",
        "print(np.sum(a2>5, axis=1))\n"
      ],
      "execution_count": null,
      "outputs": [
        {
          "output_type": "stream",
          "text": [
            "[[1 2 3]\n",
            " [4 5 6]\n",
            " [7 8 9]]\n",
            "=======================================================\n",
            "45\n",
            "=======================================================\n",
            "4\n",
            "=======================================================\n",
            "[1 1 2]\n",
            "=======================================================\n",
            "[0 1 3]\n"
          ],
          "name": "stdout"
        }
      ]
    },
    {
      "cell_type": "code",
      "metadata": {
        "id": "iOtMcd8eDDYX",
        "colab_type": "code",
        "colab": {
          "base_uri": "https://localhost:8080/",
          "height": 212
        },
        "outputId": "aeda49a2-4257-4695-b575-5d4f68b893ca"
      },
      "source": [
        "a2 = np.arange(1,10).reshape(3,3)\n",
        "print(a2)\n",
        "print('=======================================================')\n",
        "print(np.any(a2))\n",
        "print('=======================================================')\n",
        "print(np.count_nonzero(a2>5))\n",
        "print('=======================================================')\n",
        "print(np.any(a2>5, axis=0))\n",
        "print('=======================================================')\n",
        "print(np.any(a2>5, axis=1))"
      ],
      "execution_count": null,
      "outputs": [
        {
          "output_type": "stream",
          "text": [
            "[[1 2 3]\n",
            " [4 5 6]\n",
            " [7 8 9]]\n",
            "=======================================================\n",
            "True\n",
            "=======================================================\n",
            "4\n",
            "=======================================================\n",
            "[ True  True  True]\n",
            "=======================================================\n",
            "[False  True  True]\n"
          ],
          "name": "stdout"
        }
      ]
    },
    {
      "cell_type": "code",
      "metadata": {
        "id": "JTWZLNr3DS0J",
        "colab_type": "code",
        "colab": {
          "base_uri": "https://localhost:8080/",
          "height": 212
        },
        "outputId": "d0f625ef-fb29-455a-dab0-e7ee216a2f9f"
      },
      "source": [
        "a2 = np.arange(1,10).reshape(3,3)\n",
        "print(a2)\n",
        "print('=======================================================')\n",
        "print(np.all(a2))\n",
        "print('=======================================================')\n",
        "print(np.count_nonzero(a2>5))\n",
        "print('=======================================================')\n",
        "print(np.all(a2>5, axis=0))\n",
        "print('=======================================================')\n",
        "print(np.all(a2>5, axis=1))"
      ],
      "execution_count": null,
      "outputs": [
        {
          "output_type": "stream",
          "text": [
            "[[1 2 3]\n",
            " [4 5 6]\n",
            " [7 8 9]]\n",
            "=======================================================\n",
            "True\n",
            "=======================================================\n",
            "4\n",
            "=======================================================\n",
            "[False False False]\n",
            "=======================================================\n",
            "[False False  True]\n"
          ],
          "name": "stdout"
        }
      ]
    },
    {
      "cell_type": "markdown",
      "metadata": {
        "id": "X9hVsAp4Clk0",
        "colab_type": "text"
      },
      "source": [
        "|비교 범용 함수|설명|\n",
        "|---|---|\n",
        "|np.isclose|배열 두개가(z*1e+02)% 내외로 가까우면 True, dkslaus False|\n",
        "|np.isinf|배열이 inf이면 True, 아니면 False|\n",
        "|np.isfinite|배열이 inf, nan이면 False, 아니면 True|\n",
        "|np.isnan|배열이 nan이면 True, 아니면 False|"
      ]
    },
    {
      "cell_type": "code",
      "metadata": {
        "id": "VYNn18sxD-rI",
        "colab_type": "code",
        "colab": {
          "base_uri": "https://localhost:8080/",
          "height": 105
        },
        "outputId": "fd6b8e67-f59d-49d2-cfb8-57ce40ec8bb7"
      },
      "source": [
        "a1 = np.array([1,2,3,4,5])\n",
        "print(a1)\n",
        "print('=======================================================')\n",
        "\n",
        "b1 = np.array([1,2,3,3,4])\n",
        "print(b1)\n",
        "print('=======================================================')\n",
        "print(np.isclose(a1,b1))\n"
      ],
      "execution_count": 135,
      "outputs": [
        {
          "output_type": "stream",
          "text": [
            "[1 2 3 4 5]\n",
            "=======================================================\n",
            "[1 2 3 3 4]\n",
            "=======================================================\n",
            "[ True  True  True False False]\n"
          ],
          "name": "stdout"
        }
      ]
    },
    {
      "cell_type": "code",
      "metadata": {
        "id": "pLNhMeaoD-Ul",
        "colab_type": "code",
        "colab": {
          "base_uri": "https://localhost:8080/",
          "height": 105
        },
        "outputId": "273d895e-144f-4c9e-e920-09395dae73c3"
      },
      "source": [
        "a1 = np.array([np.nan, 2, np.inf, 4, np.NINF])\n",
        "print(a1)\n",
        "print('=======================================================')\n",
        "print(np.isnan(a1))\n",
        "print('=======================================================')\n",
        "print(np.isfinite(a1))"
      ],
      "execution_count": 138,
      "outputs": [
        {
          "output_type": "stream",
          "text": [
            "[ nan   2.  inf   4. -inf]\n",
            "=======================================================\n",
            "[ True False False False False]\n",
            "=======================================================\n",
            "[False  True False  True False]\n"
          ],
          "name": "stdout"
        }
      ]
    },
    {
      "cell_type": "markdown",
      "metadata": {
        "id": "fmty3kGKAvMT",
        "colab_type": "text"
      },
      "source": [
        "\n",
        "#### 불리언 연산자(Boolean Operators)\n",
        "\n",
        "|연산자|비교 범용 함수|\n",
        "|---|---|\n",
        "|&|np.bitwise_and|\n",
        "|\\||np.bitwise_or|\n",
        "|^|np.bitwise_xor|\n",
        "|~|np.bitwise_not|\n"
      ]
    },
    {
      "cell_type": "code",
      "metadata": {
        "id": "xyGBaSkYFPkU",
        "colab_type": "code",
        "colab": {
          "base_uri": "https://localhost:8080/",
          "height": 212
        },
        "outputId": "6f9680d7-53f8-498d-9e16-2f9f5f4004ba"
      },
      "source": [
        "a2 = np.arange(1, 10).reshape(3,3)\n",
        "print(a2)\n",
        "print('\\n')\n",
        "print((a2 > 5) & (a2 < 8))\n",
        "print('\\n')\n",
        "\n",
        "print(a2[(a2 > 5) & (a2 < 8)])"
      ],
      "execution_count": 143,
      "outputs": [
        {
          "output_type": "stream",
          "text": [
            "[[1 2 3]\n",
            " [4 5 6]\n",
            " [7 8 9]]\n",
            "\n",
            "\n",
            "[[False False False]\n",
            " [False False  True]\n",
            " [ True False False]]\n",
            "\n",
            "\n",
            "[6 7]\n"
          ],
          "name": "stdout"
        }
      ]
    },
    {
      "cell_type": "code",
      "metadata": {
        "id": "eNUYMd6iFkqK",
        "colab_type": "code",
        "colab": {
          "base_uri": "https://localhost:8080/",
          "height": 212
        },
        "outputId": "67f2e358-143a-4154-d66a-5411d2b70b54"
      },
      "source": [
        "a2 = np.arange(1, 10).reshape(3,3)\n",
        "print(a2)\n",
        "print('\\n')\n",
        "print((a2 > 5) | (a2 < 8))\n",
        "print('\\n')\n",
        "\n",
        "print(a2[(a2 > 5) | (a2 < 8)])"
      ],
      "execution_count": 144,
      "outputs": [
        {
          "output_type": "stream",
          "text": [
            "[[1 2 3]\n",
            " [4 5 6]\n",
            " [7 8 9]]\n",
            "\n",
            "\n",
            "[[ True  True  True]\n",
            " [ True  True  True]\n",
            " [ True  True  True]]\n",
            "\n",
            "\n",
            "[1 2 3 4 5 6 7 8 9]\n"
          ],
          "name": "stdout"
        }
      ]
    },
    {
      "cell_type": "code",
      "metadata": {
        "id": "lfwyH1tVGBCa",
        "colab_type": "code",
        "colab": {
          "base_uri": "https://localhost:8080/",
          "height": 212
        },
        "outputId": "cc0cdb26-3d3e-42e3-dbf0-d8d77fc4f310"
      },
      "source": [
        "a2 = np.arange(1, 10).reshape(3,3)\n",
        "print(a2)\n",
        "print('\\n')\n",
        "print((a2 > 5) ^ (a2 < 8))\n",
        "print('\\n')\n",
        "\n",
        "print(a2[(a2 > 5) ^ (a2 < 8)])"
      ],
      "execution_count": 145,
      "outputs": [
        {
          "output_type": "stream",
          "text": [
            "[[1 2 3]\n",
            " [4 5 6]\n",
            " [7 8 9]]\n",
            "\n",
            "\n",
            "[[ True  True  True]\n",
            " [ True  True False]\n",
            " [False  True  True]]\n",
            "\n",
            "\n",
            "[1 2 3 4 5 8 9]\n"
          ],
          "name": "stdout"
        }
      ]
    },
    {
      "cell_type": "code",
      "metadata": {
        "id": "5dMaetPdGJ8F",
        "colab_type": "code",
        "colab": {
          "base_uri": "https://localhost:8080/",
          "height": 212
        },
        "outputId": "23ebe33a-1ade-4619-c64f-d7df5f2bbf23"
      },
      "source": [
        "a2 = np.arange(1, 10).reshape(3,3)\n",
        "print(a2)\n",
        "print('\\n')\n",
        "print(~(a2 > 5))\n",
        "print('\\n')\n",
        "\n",
        "print(a2[~(a2 > 5)])"
      ],
      "execution_count": 147,
      "outputs": [
        {
          "output_type": "stream",
          "text": [
            "[[1 2 3]\n",
            " [4 5 6]\n",
            " [7 8 9]]\n",
            "\n",
            "\n",
            "[[ True  True  True]\n",
            " [ True  True False]\n",
            " [False False False]]\n",
            "\n",
            "\n",
            "[1 2 3 4 5]\n"
          ],
          "name": "stdout"
        }
      ]
    },
    {
      "cell_type": "markdown",
      "metadata": {
        "id": "f2TzSnyLGTaT",
        "colab_type": "text"
      },
      "source": [
        "### 배열정렬"
      ]
    },
    {
      "cell_type": "code",
      "metadata": {
        "id": "f03wFyCEG5mF",
        "colab_type": "code",
        "colab": {}
      },
      "source": [
        "a1 = np.random.randint(1, 10, size=10)"
      ],
      "execution_count": 148,
      "outputs": []
    },
    {
      "cell_type": "code",
      "metadata": {
        "id": "Xa-UCdbPG9u7",
        "colab_type": "code",
        "colab": {
          "base_uri": "https://localhost:8080/",
          "height": 318
        },
        "outputId": "829036c1-0e30-498f-b363-468c751210fc"
      },
      "source": [
        "print(a1)\n",
        "print('\\n')\n",
        "print(np.sort(a1))\n",
        "print('\\n')\n",
        "print(a1)\n",
        "print('\\n')\n",
        "print(np.argsort(a1))\n",
        "print('\\n')\n",
        "print(a1)\n",
        "print('\\n')\n",
        "print(a1.sort())\n",
        "print(a1)"
      ],
      "execution_count": 151,
      "outputs": [
        {
          "output_type": "stream",
          "text": [
            "[4 4 5 5 5 5 5 5 7 9]\n",
            "\n",
            "\n",
            "[4 4 5 5 5 5 5 5 7 9]\n",
            "\n",
            "\n",
            "[4 4 5 5 5 5 5 5 7 9]\n",
            "\n",
            "\n",
            "[0 1 2 3 4 5 6 7 8 9]\n",
            "\n",
            "\n",
            "[4 4 5 5 5 5 5 5 7 9]\n",
            "\n",
            "\n",
            "None\n",
            "[4 4 5 5 5 5 5 5 7 9]\n"
          ],
          "name": "stdout"
        }
      ]
    },
    {
      "cell_type": "code",
      "metadata": {
        "id": "1MvyS7rRHN29",
        "colab_type": "code",
        "colab": {}
      },
      "source": [
        "a2 = np.random.randint(1,10, size=(3,3))"
      ],
      "execution_count": 152,
      "outputs": []
    },
    {
      "cell_type": "code",
      "metadata": {
        "id": "qIw5Ri-XLJTz",
        "colab_type": "code",
        "colab": {
          "base_uri": "https://localhost:8080/",
          "height": 283
        },
        "outputId": "c8089e5c-b237-43a7-e556-a2dcadb9fab0"
      },
      "source": [
        "print(a2)\n",
        "print('\\n')\n",
        "print(np.sort(a2, axis=0))\n",
        "print('\\n')\n",
        "print(np.sort(a2, axis=1))\n",
        "print('\\n')\n"
      ],
      "execution_count": 154,
      "outputs": [
        {
          "output_type": "stream",
          "text": [
            "[[3 2 5]\n",
            " [3 7 8]\n",
            " [8 2 8]]\n",
            "\n",
            "\n",
            "[[3 2 5]\n",
            " [3 2 8]\n",
            " [8 7 8]]\n",
            "\n",
            "\n",
            "[[2 3 5]\n",
            " [3 7 8]\n",
            " [2 8 8]]\n",
            "\n",
            "\n"
          ],
          "name": "stdout"
        }
      ]
    },
    {
      "cell_type": "markdown",
      "metadata": {
        "id": "71mp5BgULPAp",
        "colab_type": "text"
      },
      "source": [
        "#### 부분 정렬\n",
        "- partition(): 배열에서 k개의 작은 값을 반환"
      ]
    },
    {
      "cell_type": "code",
      "metadata": {
        "id": "VCU_Q89oLeZE",
        "colab_type": "code",
        "colab": {
          "base_uri": "https://localhost:8080/",
          "height": 52
        },
        "outputId": "84ac039c-67fe-4782-bde4-1504b1c1b86e"
      },
      "source": [
        "a1 = np.random.randint(1, 10, size=10)\n",
        "print(a1)\n",
        "print(np.partition(a1,3))"
      ],
      "execution_count": 156,
      "outputs": [
        {
          "output_type": "stream",
          "text": [
            "[4 1 1 7 3 8 3 3 8 5]\n",
            "[1 1 3 3 3 4 8 7 8 5]\n"
          ],
          "name": "stdout"
        }
      ]
    },
    {
      "cell_type": "code",
      "metadata": {
        "id": "QNmql6LhLmXq",
        "colab_type": "code",
        "colab": {
          "base_uri": "https://localhost:8080/",
          "height": 478
        },
        "outputId": "a91ccee8-9dee-425f-9bf8-b3c6a8a59129"
      },
      "source": [
        "a2 = np.random.randint(1,10, size=(5,5))\n",
        "print(a2)\n",
        "print('\\n')\n",
        "print(np.partition(a2, 3))\n",
        "print('\\n')\n",
        "\n",
        "print(np.partition(a2, 3, axis=0))\n",
        "print('\\n')\n",
        "\n",
        "print(np.partition(a2, 3, axis=1))"
      ],
      "execution_count": 159,
      "outputs": [
        {
          "output_type": "stream",
          "text": [
            "[[3 7 5 1 8]\n",
            " [7 1 2 4 2]\n",
            " [6 5 1 2 8]\n",
            " [5 8 3 9 7]\n",
            " [8 5 4 3 6]]\n",
            "\n",
            "\n",
            "[[1 3 5 7 8]\n",
            " [1 2 2 4 7]\n",
            " [2 1 5 6 8]\n",
            " [3 5 7 8 9]\n",
            " [3 4 5 6 8]]\n",
            "\n",
            "\n",
            "[[5 1 3 1 7]\n",
            " [3 5 1 2 6]\n",
            " [6 5 2 3 2]\n",
            " [7 7 4 4 8]\n",
            " [8 8 5 9 8]]\n",
            "\n",
            "\n",
            "[[1 3 5 7 8]\n",
            " [1 2 2 4 7]\n",
            " [2 1 5 6 8]\n",
            " [3 5 7 8 9]\n",
            " [3 4 5 6 8]]\n"
          ],
          "name": "stdout"
        }
      ]
    },
    {
      "cell_type": "markdown",
      "metadata": {
        "id": "EXykmYeRL7UK",
        "colab_type": "text"
      },
      "source": [
        "### 배열입출력"
      ]
    },
    {
      "cell_type": "markdown",
      "metadata": {
        "id": "A2p6Q70zMhF6",
        "colab_type": "text"
      },
      "source": [
        "|함수|설명|파일 종류|\n",
        "|---|---|---|\n",
        "|np.save()|Numpy 배열 객체 1개를 파일에 저장|바이너리|\n",
        "|npsavez()|Numpy 배열 객체 여러개를 파일에 저장|바이너리|\n",
        "|np.load()|Numpy 배열 객체 파일로부터 객체 로딩|바이너리|\n",
        "|np.loadtxt()|텍스트 파일로부터 배열 로딩|텍스트|\n",
        "|np.savetxt()|텍스트 파일에 Numpy 배열 객체 저장|텍스트|"
      ]
    },
    {
      "cell_type": "code",
      "metadata": {
        "id": "3PWn7zLWNOjc",
        "colab_type": "code",
        "colab": {
          "base_uri": "https://localhost:8080/",
          "height": 105
        },
        "outputId": "5103b21f-b943-4775-87a1-0dc18676c63d"
      },
      "source": [
        "a2 = np.random.randint(1, 10, size=(5,5))\n",
        "print(a2)\n",
        "np.save('a',a2)"
      ],
      "execution_count": 160,
      "outputs": [
        {
          "output_type": "stream",
          "text": [
            "[[9 2 4 4 5]\n",
            " [9 5 3 7 7]\n",
            " [1 1 8 2 3]\n",
            " [2 4 1 2 9]\n",
            " [1 1 5 9 2]]\n"
          ],
          "name": "stdout"
        }
      ]
    },
    {
      "cell_type": "code",
      "metadata": {
        "id": "uWtl2zP9N-Bw",
        "colab_type": "code",
        "colab": {
          "base_uri": "https://localhost:8080/",
          "height": 34
        },
        "outputId": "7b9054ac-0784-45bc-da91-03c56953260a"
      },
      "source": [
        "!ls"
      ],
      "execution_count": 161,
      "outputs": [
        {
          "output_type": "stream",
          "text": [
            "a.npy  sample_data\n"
          ],
          "name": "stdout"
        }
      ]
    },
    {
      "cell_type": "code",
      "metadata": {
        "id": "CXVFnHyZN_ZM",
        "colab_type": "code",
        "colab": {
          "base_uri": "https://localhost:8080/",
          "height": 105
        },
        "outputId": "8263ba92-013b-4355-911b-575a67bcebc3"
      },
      "source": [
        "b2 = np.random.randint(1,10, size=(5,5))\n",
        "print(b2)\n",
        "np.savez('ab',a2,b2)"
      ],
      "execution_count": 163,
      "outputs": [
        {
          "output_type": "stream",
          "text": [
            "[[6 7 5 1 4]\n",
            " [8 1 9 4 1]\n",
            " [6 3 9 9 8]\n",
            " [8 3 4 3 3]\n",
            " [6 6 7 7 7]]\n"
          ],
          "name": "stdout"
        }
      ]
    },
    {
      "cell_type": "code",
      "metadata": {
        "id": "xer4caA7OBha",
        "colab_type": "code",
        "colab": {
          "base_uri": "https://localhost:8080/",
          "height": 34
        },
        "outputId": "b214884d-13b3-46ea-f9a3-0bf6b002a593"
      },
      "source": [
        "!ls"
      ],
      "execution_count": 164,
      "outputs": [
        {
          "output_type": "stream",
          "text": [
            "ab.npz\ta.npy  sample_data\n"
          ],
          "name": "stdout"
        }
      ]
    },
    {
      "cell_type": "code",
      "metadata": {
        "id": "A3SDlKIOOYKa",
        "colab_type": "code",
        "colab": {
          "base_uri": "https://localhost:8080/",
          "height": 105
        },
        "outputId": "5570999e-5572-4032-d3e1-bb63e2796321"
      },
      "source": [
        "npy = np.load('a.npy')\n",
        "print(npy)"
      ],
      "execution_count": 165,
      "outputs": [
        {
          "output_type": "stream",
          "text": [
            "[[9 2 4 4 5]\n",
            " [9 5 3 7 7]\n",
            " [1 1 8 2 3]\n",
            " [2 4 1 2 9]\n",
            " [1 1 5 9 2]]\n"
          ],
          "name": "stdout"
        }
      ]
    },
    {
      "cell_type": "code",
      "metadata": {
        "id": "Ey3majOeOhY5",
        "colab_type": "code",
        "colab": {
          "base_uri": "https://localhost:8080/",
          "height": 34
        },
        "outputId": "fdef1f4f-7227-45f2-8660-5f2d1bea500f"
      },
      "source": [
        "npz = np.load('ab.npz')\n",
        "print(npz.files)"
      ],
      "execution_count": 166,
      "outputs": [
        {
          "output_type": "stream",
          "text": [
            "['arr_0', 'arr_1']\n"
          ],
          "name": "stdout"
        }
      ]
    },
    {
      "cell_type": "code",
      "metadata": {
        "id": "PDlTFd-KOs4p",
        "colab_type": "code",
        "colab": {
          "base_uri": "https://localhost:8080/",
          "height": 230
        },
        "outputId": "bed9b84a-8fee-4ca3-e0f8-f4d56e5a9cf0"
      },
      "source": [
        "print(npz['arr_0'])\n",
        "print('\\n')\n",
        "print(npz['arr_1'])"
      ],
      "execution_count": 169,
      "outputs": [
        {
          "output_type": "stream",
          "text": [
            "[[9 2 4 4 5]\n",
            " [9 5 3 7 7]\n",
            " [1 1 8 2 3]\n",
            " [2 4 1 2 9]\n",
            " [1 1 5 9 2]]\n",
            "\n",
            "\n",
            "[[6 7 5 1 4]\n",
            " [8 1 9 4 1]\n",
            " [6 3 9 9 8]\n",
            " [8 3 4 3 3]\n",
            " [6 6 7 7 7]]\n"
          ],
          "name": "stdout"
        }
      ]
    },
    {
      "cell_type": "code",
      "metadata": {
        "id": "3Xg1Wmd0OymZ",
        "colab_type": "code",
        "colab": {
          "base_uri": "https://localhost:8080/",
          "height": 123
        },
        "outputId": "a2fe38e6-5f19-4136-907d-2cf1d57d790e"
      },
      "source": [
        "print(a2)\n",
        "np.savetxt('a.csv', a2, delimiter=',')\n",
        "!ls"
      ],
      "execution_count": 171,
      "outputs": [
        {
          "output_type": "stream",
          "text": [
            "[[9 2 4 4 5]\n",
            " [9 5 3 7 7]\n",
            " [1 1 8 2 3]\n",
            " [2 4 1 2 9]\n",
            " [1 1 5 9 2]]\n",
            "ab.npz\ta.csv  a.npy  sample_data\n"
          ],
          "name": "stdout"
        }
      ]
    },
    {
      "cell_type": "code",
      "metadata": {
        "id": "L7UugKD0O7eE",
        "colab_type": "code",
        "colab": {
          "base_uri": "https://localhost:8080/",
          "height": 125
        },
        "outputId": "36713165-a716-49f8-8558-fe586c027102"
      },
      "source": [
        "!cat a.csv"
      ],
      "execution_count": 172,
      "outputs": [
        {
          "output_type": "stream",
          "text": [
            "9.000000000000000000e+00,2.000000000000000000e+00,4.000000000000000000e+00,4.000000000000000000e+00,5.000000000000000000e+00\n",
            "9.000000000000000000e+00,5.000000000000000000e+00,3.000000000000000000e+00,7.000000000000000000e+00,7.000000000000000000e+00\n",
            "1.000000000000000000e+00,1.000000000000000000e+00,8.000000000000000000e+00,2.000000000000000000e+00,3.000000000000000000e+00\n",
            "2.000000000000000000e+00,4.000000000000000000e+00,1.000000000000000000e+00,2.000000000000000000e+00,9.000000000000000000e+00\n",
            "1.000000000000000000e+00,1.000000000000000000e+00,5.000000000000000000e+00,9.000000000000000000e+00,2.000000000000000000e+00\n"
          ],
          "name": "stdout"
        }
      ]
    },
    {
      "cell_type": "code",
      "metadata": {
        "id": "GgE98q6dPTDG",
        "colab_type": "code",
        "colab": {}
      },
      "source": [
        "!cd sample_data/"
      ],
      "execution_count": 177,
      "outputs": []
    },
    {
      "cell_type": "code",
      "metadata": {
        "id": "Hvo2YfxiPVtp",
        "colab_type": "code",
        "colab": {
          "base_uri": "https://localhost:8080/",
          "height": 34
        },
        "outputId": "acc8fa55-e965-442b-ce52-0aa49448a0c1"
      },
      "source": [
        "%cd ../"
      ],
      "execution_count": 181,
      "outputs": [
        {
          "output_type": "stream",
          "text": [
            "/content\n"
          ],
          "name": "stdout"
        }
      ]
    },
    {
      "cell_type": "code",
      "metadata": {
        "id": "RZTD4magQLcR",
        "colab_type": "code",
        "colab": {
          "base_uri": "https://localhost:8080/",
          "height": 34
        },
        "outputId": "35d1f63e-1e5c-41d2-e187-44a909f72ac0"
      },
      "source": [
        "%pwd"
      ],
      "execution_count": 180,
      "outputs": [
        {
          "output_type": "execute_result",
          "data": {
            "application/vnd.google.colaboratory.intrinsic+json": {
              "type": "string"
            },
            "text/plain": [
              "'/content/sample_data'"
            ]
          },
          "metadata": {
            "tags": []
          },
          "execution_count": 180
        }
      ]
    },
    {
      "cell_type": "code",
      "metadata": {
        "id": "Sh6Btr7uQfx2",
        "colab_type": "code",
        "colab": {
          "base_uri": "https://localhost:8080/",
          "height": 34
        },
        "outputId": "388b055b-dc96-4d3a-c749-c1aa798611fe"
      },
      "source": [
        "%ls"
      ],
      "execution_count": 183,
      "outputs": [
        {
          "output_type": "stream",
          "text": [
            "ab.npz  a.csv  a.npy  \u001b[0m\u001b[01;34msample_data\u001b[0m/\n"
          ],
          "name": "stdout"
        }
      ]
    },
    {
      "cell_type": "code",
      "metadata": {
        "id": "1NyuWrn5QPT4",
        "colab_type": "code",
        "colab": {
          "base_uri": "https://localhost:8080/",
          "height": 105
        },
        "outputId": "a5e0d539-13c6-4f0d-90b4-9462d06c752f"
      },
      "source": [
        "csv = np.loadtxt('a.csv', delimiter=',')\n",
        "print(csv)"
      ],
      "execution_count": 184,
      "outputs": [
        {
          "output_type": "stream",
          "text": [
            "[[9. 2. 4. 4. 5.]\n",
            " [9. 5. 3. 7. 7.]\n",
            " [1. 1. 8. 2. 3.]\n",
            " [2. 4. 1. 2. 9.]\n",
            " [1. 1. 5. 9. 2.]]\n"
          ],
          "name": "stdout"
        }
      ]
    },
    {
      "cell_type": "code",
      "metadata": {
        "id": "s0td5vk7QdUc",
        "colab_type": "code",
        "colab": {
          "base_uri": "https://localhost:8080/",
          "height": 105
        },
        "outputId": "1ceeb03e-947f-480a-c7f3-aa304511a4c6"
      },
      "source": [
        "print(b2)\n",
        "np.savetxt('b.csv', b2, delimiter=',',fmt='%.2e', header='c1, c2, c3, c4, c5')"
      ],
      "execution_count": 185,
      "outputs": [
        {
          "output_type": "stream",
          "text": [
            "[[6 7 5 1 4]\n",
            " [8 1 9 4 1]\n",
            " [6 3 9 9 8]\n",
            " [8 3 4 3 3]\n",
            " [6 6 7 7 7]]\n"
          ],
          "name": "stdout"
        }
      ]
    },
    {
      "cell_type": "code",
      "metadata": {
        "id": "DJFKIzevQ4Zy",
        "colab_type": "code",
        "colab": {
          "base_uri": "https://localhost:8080/",
          "height": 123
        },
        "outputId": "2d107993-6bf2-4cd0-8155-6dbedeea474e"
      },
      "source": [
        "!cat b.csv"
      ],
      "execution_count": 186,
      "outputs": [
        {
          "output_type": "stream",
          "text": [
            "# c1, c2, c3, c4, c5\n",
            "6.00e+00,7.00e+00,5.00e+00,1.00e+00,4.00e+00\n",
            "8.00e+00,1.00e+00,9.00e+00,4.00e+00,1.00e+00\n",
            "6.00e+00,3.00e+00,9.00e+00,9.00e+00,8.00e+00\n",
            "8.00e+00,3.00e+00,4.00e+00,3.00e+00,3.00e+00\n",
            "6.00e+00,6.00e+00,7.00e+00,7.00e+00,7.00e+00\n"
          ],
          "name": "stdout"
        }
      ]
    },
    {
      "cell_type": "code",
      "metadata": {
        "id": "6TBrg04ZQ6dL",
        "colab_type": "code",
        "colab": {
          "base_uri": "https://localhost:8080/",
          "height": 105
        },
        "outputId": "8cb54905-98db-4658-8f7f-519df29c9917"
      },
      "source": [
        "csv = np.loadtxt('b.csv', delimiter=',')\n",
        "print(csv)"
      ],
      "execution_count": 188,
      "outputs": [
        {
          "output_type": "stream",
          "text": [
            "[[6. 7. 5. 1. 4.]\n",
            " [8. 1. 9. 4. 1.]\n",
            " [6. 3. 9. 9. 8.]\n",
            " [8. 3. 4. 3. 3.]\n",
            " [6. 6. 7. 7. 7.]]\n"
          ],
          "name": "stdout"
        }
      ]
    },
    {
      "cell_type": "markdown",
      "metadata": {
        "id": "9a8_jPLRRBuy",
        "colab_type": "text"
      },
      "source": [
        "## 참고문헌 \n",
        "- numpy, https://numpy.org/\n",
        "- JakeVanderPlas, \"Python Data Science Handbook\", O'Reilly\n",
        "- Wes Mckinney, \"Python for Data Analysis\", O'Reilly"
      ]
    },
    {
      "cell_type": "code",
      "metadata": {
        "id": "ozR4Vt6iRgxl",
        "colab_type": "code",
        "colab": {}
      },
      "source": [
        ""
      ],
      "execution_count": null,
      "outputs": []
    }
  ]
}