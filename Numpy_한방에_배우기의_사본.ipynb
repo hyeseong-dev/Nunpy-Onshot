{
  "nbformat": 4,
  "nbformat_minor": 0,
  "metadata": {
    "colab": {
      "name": "Numpy 한방에 배우기의 사본",
      "provenance": [],
      "collapsed_sections": [],
      "toc_visible": true,
      "include_colab_link": true
    },
    "kernelspec": {
      "name": "python3",
      "display_name": "Python 3"
    }
  },
  "cells": [
    {
      "cell_type": "markdown",
      "metadata": {
        "id": "view-in-github",
        "colab_type": "text"
      },
      "source": [
        "<a href=\"https://colab.research.google.com/github/osori-magu/Nunpy-Onshot/blob/master/Numpy_%ED%95%9C%EB%B0%A9%EC%97%90_%EB%B0%B0%EC%9A%B0%EA%B8%B0%EC%9D%98_%EC%82%AC%EB%B3%B8.ipynb\" target=\"_parent\"><img src=\"https://colab.research.google.com/assets/colab-badge.svg\" alt=\"Open In Colab\"/></a>"
      ]
    },
    {
      "cell_type": "markdown",
      "metadata": {
        "id": "Rspfoc0oe-nn",
        "colab_type": "text"
      },
      "source": [
        "# Numpy 제대로 배우기\n"
      ]
    },
    {
      "cell_type": "code",
      "metadata": {
        "id": "2LfOfvh2vbhK",
        "colab_type": "code",
        "colab": {}
      },
      "source": [
        "import numpy as np"
      ],
      "execution_count": null,
      "outputs": []
    },
    {
      "cell_type": "markdown",
      "metadata": {
        "id": "755jWmqSfJk-",
        "colab_type": "text"
      },
      "source": [
        "## NumPy 특징"
      ]
    },
    {
      "cell_type": "markdown",
      "metadata": {
        "id": "ShJsCPcafQjV",
        "colab_type": "text"
      },
      "source": [
        "## 배열생성"
      ]
    },
    {
      "cell_type": "markdown",
      "metadata": {
        "id": "IJDocv5dfcsN",
        "colab_type": "text"
      },
      "source": [
        "### 리스트로 배열 만들기"
      ]
    },
    {
      "cell_type": "markdown",
      "metadata": {
        "id": "u4p65V16exxZ",
        "colab_type": "text"
      },
      "source": [
        "### 배열 생성 및 초기화\n",
        "- zeros(): 모든 요소를 0으로 초기화"
      ]
    },
    {
      "cell_type": "code",
      "metadata": {
        "id": "0xvHkRRNe65z",
        "colab_type": "code",
        "colab": {
          "base_uri": "https://localhost:8080/",
          "height": 35
        },
        "outputId": "ee69049b-4214-44cd-c36e-7f8aca9da082"
      },
      "source": [
        "np.zeros(10)"
      ],
      "execution_count": null,
      "outputs": [
        {
          "output_type": "execute_result",
          "data": {
            "text/plain": [
              "array([0., 0., 0., 0., 0., 0., 0., 0., 0., 0.])"
            ]
          },
          "metadata": {
            "tags": []
          },
          "execution_count": 5
        }
      ]
    },
    {
      "cell_type": "markdown",
      "metadata": {
        "id": "vUHtHOVeflhA",
        "colab_type": "text"
      },
      "source": [
        "- ones(): 모든 요소를 1로 초기화"
      ]
    },
    {
      "cell_type": "code",
      "metadata": {
        "id": "iGkvrMBLOs-y",
        "colab_type": "code",
        "colab": {
          "base_uri": "https://localhost:8080/",
          "height": 70
        },
        "outputId": "4f7df36b-99f6-47d3-c1cd-e1db5286a284"
      },
      "source": [
        "np.ones((3,3))"
      ],
      "execution_count": null,
      "outputs": [
        {
          "output_type": "execute_result",
          "data": {
            "text/plain": [
              "array([[1., 1., 1.],\n",
              "       [1., 1., 1.],\n",
              "       [1., 1., 1.]])"
            ]
          },
          "metadata": {
            "tags": []
          },
          "execution_count": 3
        }
      ]
    },
    {
      "cell_type": "markdown",
      "metadata": {
        "id": "6aJx0lgFPB9D",
        "colab_type": "text"
      },
      "source": [
        "- full(): 모든 요소를 지정한 값으로 초기"
      ]
    },
    {
      "cell_type": "code",
      "metadata": {
        "id": "l3YjFp6MPH0R",
        "colab_type": "code",
        "colab": {
          "base_uri": "https://localhost:8080/",
          "height": 70
        },
        "outputId": "70cf84fa-b87e-4f5b-a5c1-b82316c95165"
      },
      "source": [
        "np.full((3,3),1.23)"
      ],
      "execution_count": null,
      "outputs": [
        {
          "output_type": "execute_result",
          "data": {
            "text/plain": [
              "array([[1.23, 1.23, 1.23],\n",
              "       [1.23, 1.23, 1.23],\n",
              "       [1.23, 1.23, 1.23]])"
            ]
          },
          "metadata": {
            "tags": []
          },
          "execution_count": 4
        }
      ]
    },
    {
      "cell_type": "markdown",
      "metadata": {
        "id": "U32cFMrUPgi8",
        "colab_type": "text"
      },
      "source": [
        "- eye(): 단위행렬(identity matrix)생성\n",
        "  - 주대각선의 원소가 모두 1이고 나머지 원소는 모두 0인 정사각 행렬"
      ]
    },
    {
      "cell_type": "code",
      "metadata": {
        "id": "Ss0IX31UPqOo",
        "colab_type": "code",
        "colab": {
          "base_uri": "https://localhost:8080/",
          "height": 70
        },
        "outputId": "9c142dd9-e346-4e5a-e04c-b5c144dad737"
      },
      "source": [
        "np.eye(3)"
      ],
      "execution_count": null,
      "outputs": [
        {
          "output_type": "execute_result",
          "data": {
            "text/plain": [
              "array([[1., 0., 0.],\n",
              "       [0., 1., 0.],\n",
              "       [0., 0., 1.]])"
            ]
          },
          "metadata": {
            "tags": []
          },
          "execution_count": 5
        }
      ]
    },
    {
      "cell_type": "markdown",
      "metadata": {
        "id": "PNJPMaxpPsgv",
        "colab_type": "text"
      },
      "source": [
        " - empty(): 초기화 되지 않은 배열 생성\n",
        "  - 초기화가 없어서 배열 생성 비용이 저렴하고 빠름\n",
        "  - 초기화되지 않아서 기존 메모리 위치에 존재하는 값이 있"
      ]
    },
    {
      "cell_type": "code",
      "metadata": {
        "id": "FM7M4-VUP8xI",
        "colab_type": "code",
        "colab": {
          "base_uri": "https://localhost:8080/",
          "height": 70
        },
        "outputId": "9be6ca56-edf2-4d1f-9cd6-4f9d05101cc1"
      },
      "source": [
        "np.empty(10)"
      ],
      "execution_count": null,
      "outputs": [
        {
          "output_type": "execute_result",
          "data": {
            "text/plain": [
              "array([3.52858601e-316, 2.07955588e-312, 2.46151512e-312, 2.01589600e-312,\n",
              "       2.35541533e-312, 2.33419537e-312, 2.44029516e-312, 2.05833592e-312,\n",
              "       2.02566915e-322, 0.00000000e+000])"
            ]
          },
          "metadata": {
            "tags": []
          },
          "execution_count": 6
        }
      ]
    },
    {
      "cell_type": "markdown",
      "metadata": {
        "id": "qQxwGwTvQC3R",
        "colab_type": "text"
      },
      "source": [
        "- _like(): 지정된 배열과 shape가 같은 행렬 생성 \n",
        "\n",
        "   - np.zeros_like()\n",
        "   - np.ones_like()\n",
        "   - np.full_like()\n",
        "   - np.empty_like()\n",
        "\n"
      ]
    },
    {
      "cell_type": "code",
      "metadata": {
        "id": "mUr6Np3mQjgU",
        "colab_type": "code",
        "colab": {
          "base_uri": "https://localhost:8080/",
          "height": 35
        },
        "outputId": "98c0734a-957e-42ba-859c-ab5ca2a98589"
      },
      "source": [
        "a1 = np.array([4,5,6,4,5])\n",
        "np.zeros_like(a1)"
      ],
      "execution_count": null,
      "outputs": [
        {
          "output_type": "execute_result",
          "data": {
            "text/plain": [
              "array([0, 0, 0, 0, 0])"
            ]
          },
          "metadata": {
            "tags": []
          },
          "execution_count": 8
        }
      ]
    },
    {
      "cell_type": "code",
      "metadata": {
        "id": "y5tzivkZQw69",
        "colab_type": "code",
        "colab": {
          "base_uri": "https://localhost:8080/",
          "height": 123
        },
        "outputId": "5b8c51c7-8f49-4e3b-8e1b-44f708d08b02"
      },
      "source": [
        "a2 = np.array([[1,2,3],[4,5,6],[7,8,9]])\n",
        "print(a2)\n",
        "\n",
        "np.ones_like(a2)"
      ],
      "execution_count": null,
      "outputs": [
        {
          "output_type": "stream",
          "text": [
            "[[1 2 3]\n",
            " [4 5 6]\n",
            " [7 8 9]]\n"
          ],
          "name": "stdout"
        },
        {
          "output_type": "execute_result",
          "data": {
            "text/plain": [
              "array([[1, 1, 1],\n",
              "       [1, 1, 1],\n",
              "       [1, 1, 1]])"
            ]
          },
          "metadata": {
            "tags": []
          },
          "execution_count": 38
        }
      ]
    },
    {
      "cell_type": "code",
      "metadata": {
        "id": "mv7hl0HdRqBc",
        "colab_type": "code",
        "colab": {
          "base_uri": "https://localhost:8080/",
          "height": 212
        },
        "outputId": "6ef41427-7060-41f9-b7d0-00d69fa25bb7"
      },
      "source": [
        "a3 = np.array([\n",
        "               [[1,2,3,], [4,5,6,], [7,8,9] ],\n",
        "               [[1,2,3,], [4,5,6,], [7,8,9] ],\n",
        "               [[1,2,3,], [4,5,6,], [7,8,9] ]\n",
        "               ])\n",
        "\n",
        "np.full_like(a3, 10)"
      ],
      "execution_count": null,
      "outputs": [
        {
          "output_type": "execute_result",
          "data": {
            "text/plain": [
              "array([[[10, 10, 10],\n",
              "        [10, 10, 10],\n",
              "        [10, 10, 10]],\n",
              "\n",
              "       [[10, 10, 10],\n",
              "        [10, 10, 10],\n",
              "        [10, 10, 10]],\n",
              "\n",
              "       [[10, 10, 10],\n",
              "        [10, 10, 10],\n",
              "        [10, 10, 10]]])"
            ]
          },
          "metadata": {
            "tags": []
          },
          "execution_count": 116
        }
      ]
    },
    {
      "cell_type": "markdown",
      "metadata": {
        "id": "2rnRPzS-Rn9z",
        "colab_type": "text"
      },
      "source": [
        "벡터화 연산은 비교 연산과 논리 연산을 포함한 모든 종류의 수학 연산에 대해 적용된다. 선형 대수에 적용되는 벡터화 연산에 대해서는 나중에 보다 자세히 설명한다."
      ]
    },
    {
      "cell_type": "code",
      "metadata": {
        "id": "ta_jn6-cRi01",
        "colab_type": "code",
        "colab": {}
      },
      "source": [
        ""
      ],
      "execution_count": null,
      "outputs": []
    },
    {
      "cell_type": "code",
      "metadata": {
        "id": "b29e6mPgQUeD",
        "colab_type": "code",
        "colab": {}
      },
      "source": [
        ""
      ],
      "execution_count": null,
      "outputs": []
    },
    {
      "cell_type": "markdown",
      "metadata": {
        "id": "FoVJ8Xj-QJsx",
        "colab_type": "text"
      },
      "source": [
        "### 생성한 값으로 배열 생성"
      ]
    },
    {
      "cell_type": "markdown",
      "metadata": {
        "id": "WHNQ1Zk_CE6F",
        "colab_type": "text"
      },
      "source": [
        "- arange(): 정수 범위로 배열 생성"
      ]
    },
    {
      "cell_type": "code",
      "metadata": {
        "id": "PtZBDFzRCt9m",
        "colab_type": "code",
        "colab": {
          "base_uri": "https://localhost:8080/",
          "height": 34
        },
        "outputId": "bf3c9b1f-c96c-44a6-fced-8bd5ca4c6e09"
      },
      "source": [
        "np.arange(0, 30, 2)"
      ],
      "execution_count": null,
      "outputs": [
        {
          "output_type": "execute_result",
          "data": {
            "text/plain": [
              "array([ 0,  2,  4,  6,  8, 10, 12, 14, 16, 18, 20, 22, 24, 26, 28])"
            ]
          },
          "metadata": {
            "tags": []
          },
          "execution_count": 3
        }
      ]
    },
    {
      "cell_type": "markdown",
      "metadata": {
        "id": "elCNt1ICCIoU",
        "colab_type": "text"
      },
      "source": [
        " - linspace(): 범위 내에서 균등 간격의 배열 생성\n"
      ]
    },
    {
      "cell_type": "code",
      "metadata": {
        "id": "cHP796rECuOf",
        "colab_type": "code",
        "colab": {
          "base_uri": "https://localhost:8080/",
          "height": 34
        },
        "outputId": "e6a7939f-037b-4ca0-8e70-54d98d9e8eec"
      },
      "source": [
        "np.linspace(0, 1, 5)"
      ],
      "execution_count": null,
      "outputs": [
        {
          "output_type": "execute_result",
          "data": {
            "text/plain": [
              "array([0.  , 0.25, 0.5 , 0.75, 1.  ])"
            ]
          },
          "metadata": {
            "tags": []
          },
          "execution_count": 6
        }
      ]
    },
    {
      "cell_type": "markdown",
      "metadata": {
        "id": "jivVpf7yCnV_",
        "colab_type": "text"
      },
      "source": [
        " - logspace(): 범위 내에서 균등간격으로 로그 스케일로 배열 생성\n"
      ]
    },
    {
      "cell_type": "code",
      "metadata": {
        "id": "dLrAy_9NCs9Y",
        "colab_type": "code",
        "colab": {
          "base_uri": "https://localhost:8080/",
          "height": 87
        },
        "outputId": "f09685b5-166c-4766-f243-11486bf1441f"
      },
      "source": [
        "np.logspace(0.1, 1, 20)"
      ],
      "execution_count": null,
      "outputs": [
        {
          "output_type": "execute_result",
          "data": {
            "text/plain": [
              "array([ 1.25892541,  1.40400425,  1.565802  ,  1.74624535,  1.94748304,\n",
              "        2.1719114 ,  2.42220294,  2.70133812,  3.0126409 ,  3.35981829,\n",
              "        3.74700446,  4.17881006,  4.66037703,  5.19743987,  5.79639395,\n",
              "        6.46437163,  7.2093272 ,  8.04013161,  8.9666781 , 10.        ])"
            ]
          },
          "metadata": {
            "tags": []
          },
          "execution_count": 7
        }
      ]
    },
    {
      "cell_type": "markdown",
      "metadata": {
        "id": "waWnGIiWQTWI",
        "colab_type": "text"
      },
      "source": [
        "### 랜덤값으로 배열 생성 \n",
        "\n",
        "|함수|설명   |\n",
        "|---|---|\n",
        "|seed|난수 발생을 위한 시드 지정|\n",
        "|permutation|순서를 임의로 바꾸거나 임의의 순열 반환|\n",
        "|shuffle   |리스트나 배열의 순서를 뒤썩음   |\n",
        "|random   |랜덤한 수의 배열 생성   |\n",
        "|rand   |균등분포에서 표본 추출   |\n",
        "|randint   |주어진 최소/최대 범위의 난수 추출   |\n",
        "|bionomial|표준편차가1, 평균값 0인 정규분포의 표본 추출|\n",
        "|normal   |정규분포(가우시안)에서 표본추출   |\n",
        "|beta   |베타분포에서 표본 추출   |\n",
        "|chisquare   |카이제곱분포에서 표본 추출   |\n",
        "|gamma   |감마분포에서 표본 추출  |\n",
        "|uniform   |균등(0,1)분포에서 포본추출  |"
      ]
    },
    {
      "cell_type": "markdown",
      "metadata": {
        "id": "oRud1_1IFBuI",
        "colab_type": "text"
      },
      "source": [
        " - random.random(): 랜덤한 수의 배열 생성"
      ]
    },
    {
      "cell_type": "code",
      "metadata": {
        "id": "uY94T5aAFKIh",
        "colab_type": "code",
        "colab": {
          "base_uri": "https://localhost:8080/",
          "height": 70
        },
        "outputId": "89a3a69d-8239-40e0-f82b-ea993286d99e"
      },
      "source": [
        "np.random.random((3,3))"
      ],
      "execution_count": null,
      "outputs": [
        {
          "output_type": "execute_result",
          "data": {
            "text/plain": [
              "array([[0.63051738, 0.30520104, 0.65202138],\n",
              "       [0.37103748, 0.31553952, 0.93609849],\n",
              "       [0.70203418, 0.45671637, 0.93951267]])"
            ]
          },
          "metadata": {
            "tags": []
          },
          "execution_count": 8
        }
      ]
    },
    {
      "cell_type": "markdown",
      "metadata": {
        "id": "WnxctapaFNEv",
        "colab_type": "text"
      },
      "source": [
        " - np.random.randint(): 일정한 구간의 랜덤 정수의 배열 생성"
      ]
    },
    {
      "cell_type": "code",
      "metadata": {
        "id": "ouBGtK7EFbMe",
        "colab_type": "code",
        "colab": {
          "base_uri": "https://localhost:8080/",
          "height": 70
        },
        "outputId": "16508653-a2e1-4768-93aa-1c30ebcb2e2b"
      },
      "source": [
        "np.random.randint(0,10, (3,3))"
      ],
      "execution_count": null,
      "outputs": [
        {
          "output_type": "execute_result",
          "data": {
            "text/plain": [
              "array([[6, 4, 4],\n",
              "       [8, 8, 9],\n",
              "       [8, 3, 8]])"
            ]
          },
          "metadata": {
            "tags": []
          },
          "execution_count": 9
        }
      ]
    },
    {
      "cell_type": "markdown",
      "metadata": {
        "id": "249akXv4FfBO",
        "colab_type": "text"
      },
      "source": [
        ""
      ]
    },
    {
      "cell_type": "markdown",
      "metadata": {
        "id": "FpoQOjnbFZY5",
        "colab_type": "text"
      },
      "source": [
        " - random.normal(): 정규분포(normal distribution)를 고려한 랜덤한 수의 배열 생성 \n",
        " - 평균 = 0, 표준편차=1, 3 x 3 배열\n",
        " "
      ]
    },
    {
      "cell_type": "code",
      "metadata": {
        "id": "0yQ_EIf1Fzi5",
        "colab_type": "code",
        "colab": {
          "base_uri": "https://localhost:8080/",
          "height": 70
        },
        "outputId": "41a12de5-4f56-46dc-c031-bc814faa9808"
      },
      "source": [
        "#np.random.normal(0,1, (3,3))\n",
        "np.random.normal(0,1, size=(3,3))"
      ],
      "execution_count": null,
      "outputs": [
        {
          "output_type": "execute_result",
          "data": {
            "text/plain": [
              "array([[-0.9943463 , -0.70194723,  0.19868181],\n",
              "       [ 0.63117294, -0.02486868, -1.96901825],\n",
              "       [ 0.18270469,  0.94544757,  0.25415279]])"
            ]
          },
          "metadata": {
            "tags": []
          },
          "execution_count": 13
        }
      ]
    },
    {
      "cell_type": "markdown",
      "metadata": {
        "id": "0Y6XlvsoGBcu",
        "colab_type": "text"
      },
      "source": [
        " - random.rand(): 균등분포(uniform distribution)를 고려한 랜덤한 수의 배열 생"
      ]
    },
    {
      "cell_type": "code",
      "metadata": {
        "id": "-tH1hz6wGVnj",
        "colab_type": "code",
        "colab": {
          "base_uri": "https://localhost:8080/",
          "height": 70
        },
        "outputId": "510abe4d-30db-484c-e61c-bf9ab19d7d5a"
      },
      "source": [
        "np.random.rand(3,3)"
      ],
      "execution_count": null,
      "outputs": [
        {
          "output_type": "execute_result",
          "data": {
            "text/plain": [
              "array([[0.16034721, 0.5369134 , 0.80400412],\n",
              "       [0.76391048, 0.00165631, 0.02335572],\n",
              "       [0.07565457, 0.42856592, 0.9319569 ]])"
            ]
          },
          "metadata": {
            "tags": []
          },
          "execution_count": 14
        }
      ]
    },
    {
      "cell_type": "markdown",
      "metadata": {
        "id": "Q_IBS0vUGZKW",
        "colab_type": "text"
      },
      "source": [
        " - random.rand():표준정규분포(standard normal distribution)를 고려한 랜덤한 수의 배열 생성\n",
        " "
      ]
    },
    {
      "cell_type": "code",
      "metadata": {
        "id": "W45BnJ1JGkGb",
        "colab_type": "code",
        "colab": {
          "base_uri": "https://localhost:8080/",
          "height": 70
        },
        "outputId": "8a14b862-b209-43e8-9686-2f1b60778846"
      },
      "source": [
        "np.random.randn(3,3)"
      ],
      "execution_count": null,
      "outputs": [
        {
          "output_type": "execute_result",
          "data": {
            "text/plain": [
              "array([[-0.93825111, -1.202357  ,  0.46148983],\n",
              "       [-0.68032374, -0.87394398,  1.46967569],\n",
              "       [ 1.18870113,  0.64953186,  1.6155991 ]])"
            ]
          },
          "metadata": {
            "tags": []
          },
          "execution_count": 15
        }
      ]
    },
    {
      "cell_type": "markdown",
      "metadata": {
        "id": "KpQ9_RvjGqEn",
        "colab_type": "text"
      },
      "source": [
        "### 표준 데이터 타입\n",
        "\n",
        "|데이터타입|설명|\n",
        "|---|---|\n",
        "|bool_|바이트로 저장된 Boolean으로 True or False값을 가짐|\n",
        "|int_|Integer type|\n",
        "|intc|C언어에서 사용되는 int와 동일(일반적으로 int32 또는 int64)|\n",
        "|intp|인덱싱에 사용되는 정수(C언어에서 sszie_t와 동일; 일반적으로 int32 또는 int64)|\n",
        "|int8|Byte(-128 to127)|\n",
        "|int16|Integer(-32768 to 32767)|\n",
        "|int32|Integer(-2147483648 to 2147483647)\n",
        "|int64|Integer(-9223372036854775808 to 9223372036854775807)|\n",
        "|uint8|부호 없는 정수/Unsigned integer (0 to 255)|\n",
        "|uint16|부호 없는 정수/Unsigned integer (0 to 65535)|\n",
        "|uint32|부호 없는 정수/Unsigned integer (0 to 4294967295)|\n",
        "|uint64|부호 없는 정수/Unsigned integer (0 to 18446744073709551615)|\n",
        "|float16|반정밀 부동 소수점(Half precision float):부호비트, 5비트 지수, 10비트 가수|\n",
        "|float32|단정밀 부동 소수점(Single precision float):부호비트 8비트 지수, 23비트 가수|\n",
        "|float64|배정밀 부동 소수점(Double precision float): 부호비트, 11비트 지수, 52비트 가수|\n",
        "|float_|float64를 줄여서 표현|\n",
        "|complex64|복소수(Complex number), 두 개의 32비트 부동 소수점으로 표현|\n",
        "|complex128|복소, 두 개의 64비트 부동 소수점으로 표현|\n",
        "|complex_|complex128를 줄여서 표현|\n"
      ]
    },
    {
      "cell_type": "code",
      "metadata": {
        "id": "PJJTFk1lMOfP",
        "colab_type": "code",
        "colab": {
          "base_uri": "https://localhost:8080/",
          "height": 34
        },
        "outputId": "260b36cc-06ad-4b6a-e98c-e8778939ea13"
      },
      "source": [
        "np.zeros(20, dtype=int)"
      ],
      "execution_count": null,
      "outputs": [
        {
          "output_type": "execute_result",
          "data": {
            "text/plain": [
              "array([0, 0, 0, 0, 0, 0, 0, 0, 0, 0, 0, 0, 0, 0, 0, 0, 0, 0, 0, 0])"
            ]
          },
          "metadata": {
            "tags": []
          },
          "execution_count": 16
        }
      ]
    },
    {
      "cell_type": "code",
      "metadata": {
        "id": "ZFanoFLmMUeP",
        "colab_type": "code",
        "colab": {
          "base_uri": "https://localhost:8080/",
          "height": 70
        },
        "outputId": "20bb3a91-940f-4d8f-9c72-b2e32e235a57"
      },
      "source": [
        "np.ones((3,3), dtype=bool)"
      ],
      "execution_count": null,
      "outputs": [
        {
          "output_type": "execute_result",
          "data": {
            "text/plain": [
              "array([[ True,  True,  True],\n",
              "       [ True,  True,  True],\n",
              "       [ True,  True,  True]])"
            ]
          },
          "metadata": {
            "tags": []
          },
          "execution_count": 18
        }
      ]
    },
    {
      "cell_type": "code",
      "metadata": {
        "id": "r9QuKC_jMaPl",
        "colab_type": "code",
        "colab": {
          "base_uri": "https://localhost:8080/",
          "height": 70
        },
        "outputId": "c81021d2-054b-4a12-9e84-0a741e7c75c2"
      },
      "source": [
        "np.full((3,3), 1.0, dtype=float)"
      ],
      "execution_count": null,
      "outputs": [
        {
          "output_type": "execute_result",
          "data": {
            "text/plain": [
              "array([[1., 1., 1.],\n",
              "       [1., 1., 1.],\n",
              "       [1., 1., 1.]])"
            ]
          },
          "metadata": {
            "tags": []
          },
          "execution_count": 19
        }
      ]
    },
    {
      "cell_type": "markdown",
      "metadata": {
        "id": "zgEpV81sMhvn",
        "colab_type": "text"
      },
      "source": [
        "### 날짜/시간 배열 생성 \n",
        "\n",
        "|코드|의미|상대적 시간범위|절대적 시간범위|\n",
        "|---|---|---|---|\n",
        "|```Y``` |연     |±9.2e18 years    |[9.2e18 BC, 9.2e18 AD]    |\n",
        "|```M``` |월     |±7.6e17 years    |[7.6e17 BC, 7.6e17 AD]    |\n",
        "|```W``` |주     |±1.7e17 years    |[1.7e17 BC, 1.7e17 AD]    |\n",
        "|```D``` |일     |±2.5e16 years    |[2.5e16 BC, 2.5e16 AD]    |\n",
        "|```h``` |시     |±1.0e15 years    |[1.0e15 BC, 1.0e15 AD]    |\n",
        "|```m``` |분     |±1.7e13 years    |[1.7e13 BC, 1.7e13 AD]    |\n",
        "|```s``` |초     |±2.9e11 years    |[2.9e11 BC, 2.9e11 AD]    |\n",
        "|```ms```|밀리초|±2.9e8 years   |[ 2.9e8 BC, 2.9e8 AD]    |\n",
        "|```us```|마이크로초|±2.9e5 years    |[ 290301 BC, 294241 AD]    |\n",
        "|```ns```|나노초|±292 years    |[ 1678 AD, 2262 AD]    |\n",
        "|```ps```|피코초|±106 days    |[ 1969 AD, 1970 AD]    |\n",
        "|```fc```|펨토초|±2.6 hours    |[ 1969 AD, 1970 AD]    |\n",
        "|```as```|아토초|±9.2 seconds    |[ 1969 AD, 1970 AD]   |"
      ]
    },
    {
      "cell_type": "code",
      "metadata": {
        "id": "fgB08eRaRozu",
        "colab_type": "code",
        "colab": {
          "base_uri": "https://localhost:8080/",
          "height": 34
        },
        "outputId": "346ee2ff-d9e6-4584-c97b-5b478616a041"
      },
      "source": [
        "date = np.array('2020-01-01', dtype=np.datetime64)\n",
        "date"
      ],
      "execution_count": null,
      "outputs": [
        {
          "output_type": "execute_result",
          "data": {
            "text/plain": [
              "array('2020-01-01', dtype='datetime64[D]')"
            ]
          },
          "metadata": {
            "tags": []
          },
          "execution_count": 24
        }
      ]
    },
    {
      "cell_type": "code",
      "metadata": {
        "id": "DkP5r5vNSBXw",
        "colab_type": "code",
        "colab": {
          "base_uri": "https://localhost:8080/",
          "height": 34
        },
        "outputId": "2e0bf9f9-9fe5-4f86-f105-e3b09306b83d"
      },
      "source": [
        "date + np.arange(3)"
      ],
      "execution_count": null,
      "outputs": [
        {
          "output_type": "execute_result",
          "data": {
            "text/plain": [
              "array(['2020-01-01', '2020-01-02', '2020-01-03'], dtype='datetime64[D]')"
            ]
          },
          "metadata": {
            "tags": []
          },
          "execution_count": 25
        }
      ]
    },
    {
      "cell_type": "code",
      "metadata": {
        "id": "FpHQPe99SWL-",
        "colab_type": "code",
        "colab": {
          "base_uri": "https://localhost:8080/",
          "height": 34
        },
        "outputId": "5ab3fd7a-6783-4a7b-a706-c4f5804f6c7f"
      },
      "source": [
        "datetime = np.datetime64('2020-06-01 12:00')\n",
        "datetime"
      ],
      "execution_count": null,
      "outputs": [
        {
          "output_type": "execute_result",
          "data": {
            "text/plain": [
              "numpy.datetime64('2020-06-01T12:00')"
            ]
          },
          "metadata": {
            "tags": []
          },
          "execution_count": 26
        }
      ]
    },
    {
      "cell_type": "code",
      "metadata": {
        "id": "IvkQRO-HSfbP",
        "colab_type": "code",
        "colab": {
          "base_uri": "https://localhost:8080/",
          "height": 34
        },
        "outputId": "2da79c06-115b-4692-ea08-aed5e10b7dd2"
      },
      "source": [
        "datetime = np.datetime64('2020-01-01 12:00:12.34', 'ns')\n",
        "datetime"
      ],
      "execution_count": null,
      "outputs": [
        {
          "output_type": "execute_result",
          "data": {
            "text/plain": [
              "numpy.datetime64('2020-01-01T12:00:12.340000000')"
            ]
          },
          "metadata": {
            "tags": []
          },
          "execution_count": 31
        }
      ]
    },
    {
      "cell_type": "markdown",
      "metadata": {
        "id": "-QB4b2saS-SS",
        "colab_type": "text"
      },
      "source": [
        "## 배열조희\n"
      ]
    },
    {
      "cell_type": "markdown",
      "metadata": {
        "id": "Ag9SJkD4WBNj",
        "colab_type": "text"
      },
      "source": [
        "### 배열 속성 정보 "
      ]
    },
    {
      "cell_type": "code",
      "metadata": {
        "id": "06djkrtVTTme",
        "colab_type": "code",
        "colab": {}
      },
      "source": [
        "def array_info(array):\n",
        "  print(array)\n",
        "  print('ndim:', array.ndim)\n",
        "  print('shape:', array.shape)\n",
        "  print('dtype:', array.dtype)\n",
        "  print('size:', array.size)\n",
        "  print('itemsize:', array.itemsize)\n",
        "  print('nbytes:', array.nbytes)\n",
        "  print('strides:', array.strides)"
      ],
      "execution_count": null,
      "outputs": []
    },
    {
      "cell_type": "code",
      "metadata": {
        "id": "8ZKR6pTITn8O",
        "colab_type": "code",
        "colab": {
          "base_uri": "https://localhost:8080/",
          "height": 158
        },
        "outputId": "5372d300-0c99-429b-9393-d5bb141ac618"
      },
      "source": [
        "a1 = np.array([4,5,6,4,5])\n",
        "array_info(a1)\n",
        "# ndim은 차원의 개수\n",
        "# shape은 5개의 element가 있다는것/ 1행 5열(1row 5columns)\n",
        "# dtype int인 정수값 사용\n",
        "# size는 5개의 element를 말하조.\n",
        "# itemsize는 각 하나의 item의 byte크기를 말함 즉, 8byte\n",
        "# nbytes는 40의미가 각 itemsize 8 * 5개\n",
        "# 한개 elements를 넘어가기 위해서는 8byte가 필요함 / 3차원->2차원->1차원 넘어갈때 필요한 bytes크기"
      ],
      "execution_count": null,
      "outputs": [
        {
          "output_type": "stream",
          "text": [
            "[4 5 6 4 5]\n",
            "ndim: 1\n",
            "shape: (5,)\n",
            "dtype: int64\n",
            "size: 5\n",
            "itemsize: 8\n",
            "nbytes: 40\n",
            "strides: (8,)\n"
          ],
          "name": "stdout"
        }
      ]
    },
    {
      "cell_type": "code",
      "metadata": {
        "id": "0rFn_-RDUA_Q",
        "colab_type": "code",
        "colab": {
          "base_uri": "https://localhost:8080/",
          "height": 194
        },
        "outputId": "55a049bd-4e62-4cb2-8827-db5b3e8b43ba"
      },
      "source": [
        "array_info(a2)\n",
        "# strides 다음 row로 넘어갈때 필요한게 24bytes\n",
        "# 3차원->2차원->1차원 넘어갈때 필요한 bytes크기"
      ],
      "execution_count": null,
      "outputs": [
        {
          "output_type": "stream",
          "text": [
            "[[1 2 3]\n",
            " [4 5 6]\n",
            " [7 8 9]]\n",
            "ndim: 2\n",
            "shape: (3, 3)\n",
            "dtype: int64\n",
            "size: 9\n",
            "itemsize: 8\n",
            "nbytes: 72\n",
            "strides: (24, 8)\n"
          ],
          "name": "stdout"
        }
      ]
    },
    {
      "cell_type": "code",
      "metadata": {
        "id": "d8RwKxInT7Dw",
        "colab_type": "code",
        "colab": {
          "base_uri": "https://localhost:8080/",
          "height": 265
        },
        "outputId": "7f198eb7-768c-4ee0-cb07-3884df6aceb2"
      },
      "source": [
        "array_info(a3)"
      ],
      "execution_count": null,
      "outputs": [
        {
          "output_type": "stream",
          "text": [
            "[[[ 1  2  3  4]\n",
            "  [ 5  6  7  8]\n",
            "  [ 9 10 11 12]]\n",
            "\n",
            " [[11 12 13 14]\n",
            "  [15 16 17 18]\n",
            "  [19 20 21 22]]]\n",
            "ndim: 3\n",
            "shape: (2, 3, 4)\n",
            "dtype: int64\n",
            "size: 24\n",
            "itemsize: 8\n",
            "nbytes: 192\n",
            "strides: (96, 32, 8)\n"
          ],
          "name": "stdout"
        }
      ]
    },
    {
      "cell_type": "markdown",
      "metadata": {
        "id": "4xAJnIAzTwge",
        "colab_type": "text"
      },
      "source": [
        "### 인덱싱(Indexing)"
      ]
    },
    {
      "cell_type": "code",
      "metadata": {
        "id": "bgYmn7BTTq7-",
        "colab_type": "code",
        "colab": {
          "base_uri": "https://localhost:8080/",
          "height": 105
        },
        "outputId": "89d04a38-8d8f-4f02-d4c9-5e9a9aa4633a"
      },
      "source": [
        "print(a1)\n",
        "print(a1[0])\n",
        "print(a1[2])\n",
        "print(a1[-1])\n",
        "print(a1[-2])"
      ],
      "execution_count": null,
      "outputs": [
        {
          "output_type": "stream",
          "text": [
            "[4 5 6 4 5]\n",
            "4\n",
            "6\n",
            "5\n",
            "4\n"
          ],
          "name": "stdout"
        }
      ]
    },
    {
      "cell_type": "code",
      "metadata": {
        "id": "g6YxY494TRlU",
        "colab_type": "code",
        "colab": {
          "base_uri": "https://localhost:8080/",
          "height": 141
        },
        "outputId": "c4b2b2c8-8c6a-4268-bc31-03ba163e4e87"
      },
      "source": [
        "print(a2)\n",
        "print(a2[0,0])\n",
        "print(a2[0,2])\n",
        "print(a2[1,-1])\n",
        "print(a2[2,-2])"
      ],
      "execution_count": null,
      "outputs": [
        {
          "output_type": "stream",
          "text": [
            "[[1 2 3]\n",
            " [4 5 6]\n",
            " [7 8 9]]\n",
            "1\n",
            "3\n",
            "6\n",
            "8\n"
          ],
          "name": "stdout"
        }
      ]
    },
    {
      "cell_type": "code",
      "metadata": {
        "id": "zckCOP3iWav0",
        "colab_type": "code",
        "colab": {
          "base_uri": "https://localhost:8080/",
          "height": 212
        },
        "outputId": "94cad862-0e7d-4651-c95b-bc8931820d87"
      },
      "source": [
        "print(a3)\n",
        "print(a3[0,0,0])\n",
        "print(a3[1,1,1])\n",
        "print(a3[1,2,2])\n",
        "print(a3[1,-1,-2])"
      ],
      "execution_count": null,
      "outputs": [
        {
          "output_type": "stream",
          "text": [
            "[[[ 1  2  3  4]\n",
            "  [ 5  6  7  8]\n",
            "  [ 9 10 11 12]]\n",
            "\n",
            " [[11 12 13 14]\n",
            "  [15 16 17 18]\n",
            "  [19 20 21 22]]]\n",
            "1\n",
            "16\n",
            "21\n",
            "21\n"
          ],
          "name": "stdout"
        }
      ]
    },
    {
      "cell_type": "markdown",
      "metadata": {
        "id": "a4ozF7F_TNEm",
        "colab_type": "text"
      },
      "source": [
        "### 슬라이싱(Slicing)"
      ]
    },
    {
      "cell_type": "markdown",
      "metadata": {
        "id": "jsLCJfgpS6_m",
        "colab_type": "text"
      },
      "source": [
        " - 슬라이싱 구문: **```a[start:stop:step]```**\n",
        " - 기본값: start =0, stop =ndim, step=1\n"
      ]
    },
    {
      "cell_type": "code",
      "metadata": {
        "id": "jtAIgxE1SxH2",
        "colab_type": "code",
        "colab": {
          "base_uri": "https://localhost:8080/",
          "height": 123
        },
        "outputId": "e51cbf1c-9a7c-401e-c4fa-3edd3a8f8554"
      },
      "source": [
        "print(a1)\n",
        "print(a1[0:2])\n",
        "print(a1[0:])\n",
        "print(a1[:1])\n",
        "print(a1[::2])\n",
        "print(a1[::-1])"
      ],
      "execution_count": null,
      "outputs": [
        {
          "output_type": "stream",
          "text": [
            "[4 5 6 4 5]\n",
            "[4 5]\n",
            "[4 5 6 4 5]\n",
            "[4]\n",
            "[4 6 5]\n",
            "[5 4 6 5 4]\n"
          ],
          "name": "stdout"
        }
      ]
    },
    {
      "cell_type": "code",
      "metadata": {
        "id": "4-Yyhp6SSn2O",
        "colab_type": "code",
        "colab": {
          "base_uri": "https://localhost:8080/",
          "height": 318
        },
        "outputId": "209ab3ba-9f93-4255-85f5-b488133da1f4"
      },
      "source": [
        "print(a2)\n",
        "print('-----')\n",
        "print(a2[1])\n",
        "print('-----')\n",
        "\n",
        "print(a2[1, :])\n",
        "\n",
        "print('-----')\n",
        "print(a2[:2, :2])\n",
        "\n",
        "print('-----')\n",
        "print(a2[1:,  ::-1])\n",
        "\n",
        "print('-----')\n",
        "print(a2[::-1, ::-1])"
      ],
      "execution_count": null,
      "outputs": [
        {
          "output_type": "stream",
          "text": [
            "[[1 2 3]\n",
            " [4 5 6]\n",
            " [7 8 9]]\n",
            "-----\n",
            "[4 5 6]\n",
            "-----\n",
            "[4 5 6]\n",
            "-----\n",
            "[[1 2]\n",
            " [4 5]]\n",
            "-----\n",
            "[[6 5 4]\n",
            " [9 8 7]]\n",
            "-----\n",
            "[[9 8 7]\n",
            " [6 5 4]\n",
            " [3 2 1]]\n"
          ],
          "name": "stdout"
        }
      ]
    },
    {
      "cell_type": "markdown",
      "metadata": {
        "id": "wlk63YOzSNp5",
        "colab_type": "text"
      },
      "source": [
        "### Boolean Indexing\n",
        "- 배열 각 요소의 선택 여부를 True or False로 지정\n",
        "- True 값인 인덱스의 값만 조회"
      ]
    },
    {
      "cell_type": "code",
      "metadata": {
        "id": "2ACJ8msnSLX3",
        "colab_type": "code",
        "colab": {
          "base_uri": "https://localhost:8080/",
          "height": 70
        },
        "outputId": "829afcb8-6f8f-428a-9590-50fbc4db2d80"
      },
      "source": [
        "print(a1)\n",
        "bi = [False, True, True, False, True]\n",
        "print(a1[bi])\n",
        "bi = [True, False, True, True, False]\n",
        "print(a1[bi])"
      ],
      "execution_count": null,
      "outputs": [
        {
          "output_type": "stream",
          "text": [
            "[4 5 6 4 5]\n",
            "[5 6 5]\n",
            "[4 6 4]\n"
          ],
          "name": "stdout"
        }
      ]
    },
    {
      "cell_type": "code",
      "metadata": {
        "id": "AhWVir9QZKqG",
        "colab_type": "code",
        "colab": {
          "base_uri": "https://localhost:8080/",
          "height": 141
        },
        "outputId": "a0d93c08-7772-40f1-9ac2-4e1748cfe1fa"
      },
      "source": [
        "print(a2)\n",
        "bi = np.random.randint(0,2, (3,3), dtype=bool)\n",
        "print(bi)\n",
        "print(a2[bi])"
      ],
      "execution_count": null,
      "outputs": [
        {
          "output_type": "stream",
          "text": [
            "[[1 2 3]\n",
            " [4 5 6]\n",
            " [7 8 9]]\n",
            "[[False False  True]\n",
            " [ True  True False]\n",
            " [ True  True False]]\n",
            "[3 4 5 7 8]\n"
          ],
          "name": "stdout"
        }
      ]
    },
    {
      "cell_type": "markdown",
      "metadata": {
        "id": "PN2LEVS6jYQP",
        "colab_type": "text"
      },
      "source": [
        "### Fancy Indexing"
      ]
    },
    {
      "cell_type": "code",
      "metadata": {
        "id": "doQFXCJEZdsO",
        "colab_type": "code",
        "colab": {
          "base_uri": "https://localhost:8080/",
          "height": 105
        },
        "outputId": "1aa5ebd5-0209-4645-efaa-e976484a5e63"
      },
      "source": [
        "print(a1)\n",
        "print(a1[0],a1[2])\n",
        "ind = [0,2]\n",
        "print(a1[ind])\n",
        "ind = np.array([\n",
        "                [0,1],\n",
        "                [2,0]\n",
        "              ])\n",
        "print(a1[ind])"
      ],
      "execution_count": null,
      "outputs": [
        {
          "output_type": "stream",
          "text": [
            "[4 5 6 4 5]\n",
            "4 6\n",
            "[4 6]\n",
            "[[4 5]\n",
            " [6 4]]\n"
          ],
          "name": "stdout"
        }
      ]
    },
    {
      "cell_type": "code",
      "metadata": {
        "id": "Yn13BKBsm88V",
        "colab_type": "code",
        "colab": {
          "base_uri": "https://localhost:8080/",
          "height": 407
        },
        "outputId": "9b7cbdcf-8f2e-45f2-a578-e281c991cdbf"
      },
      "source": [
        "print(a2)\n",
        "row = np.array([0,2])\n",
        "col = np.array([1,2])\n",
        "print('=======')\n",
        "\n",
        "print(a2[row, col])\n",
        "\n",
        "print('=======')\n",
        "print(a2[row, :])\n",
        "print('=======')\n",
        "print(a2[:, col])\n",
        "print('=======')\n",
        "\n",
        "\n",
        "print(a2[row, 1])\n",
        "\n",
        "print('=======')\n",
        "print(a2[2, col])\n",
        "print('=======')\n",
        "print(a2[row, 1:])\n",
        "print('=======')\n",
        "print(a2[1:, col])"
      ],
      "execution_count": null,
      "outputs": [
        {
          "output_type": "stream",
          "text": [
            "[[1 2 3]\n",
            " [4 5 6]\n",
            " [7 8 9]]\n",
            "=======\n",
            "[2 9]\n",
            "=======\n",
            "[[1 2 3]\n",
            " [7 8 9]]\n",
            "=======\n",
            "[[2 3]\n",
            " [5 6]\n",
            " [8 9]]\n",
            "=======\n",
            "[2 8]\n",
            "=======\n",
            "[8 9]\n",
            "=======\n",
            "[[2 3]\n",
            " [8 9]]\n",
            "=======\n",
            "[[5 6]\n",
            " [8 9]]\n"
          ],
          "name": "stdout"
        }
      ]
    },
    {
      "cell_type": "markdown",
      "metadata": {
        "id": "GCURbZKVpF2H",
        "colab_type": "text"
      },
      "source": [
        "## 배열 값 삽입/수정/삭제/복"
      ]
    },
    {
      "cell_type": "markdown",
      "metadata": {
        "id": "zprrNcUBppXU",
        "colab_type": "text"
      },
      "source": [
        "### 배열 값 삽입 "
      ]
    },
    {
      "cell_type": "markdown",
      "metadata": {
        "id": "koNEhDTHpuxN",
        "colab_type": "text"
      },
      "source": [
        " - ```insert():```: 배열의 특정 위치에 값 삽입 \n",
        " - axis를 지정하지 않으면 1차원 배열로 변환\n",
        " - 추가할 방향을 axis로 지정\n",
        " - 원본 배열 변경없이 새로운 배열 반환\n",
        " "
      ]
    },
    {
      "cell_type": "code",
      "metadata": {
        "id": "5ahT6gYNqA1F",
        "colab_type": "code",
        "colab": {
          "base_uri": "https://localhost:8080/",
          "height": 87
        },
        "outputId": "07e43236-6275-40a6-f73d-9f08f065e2f4"
      },
      "source": [
        "print(a1)\n",
        "b1 = np.insert(a1, 0, 10)\n",
        "print(b1)\n",
        "print(a1)\n",
        "c1 = np.insert(a1, 2, 10)\n",
        "print(c1)"
      ],
      "execution_count": null,
      "outputs": [
        {
          "output_type": "stream",
          "text": [
            "[4 5 6 4 5]\n",
            "[10  4  5  6  4  5]\n",
            "[4 5 6 4 5]\n",
            "[ 4  5 10  6  4  5]\n"
          ],
          "name": "stdout"
        }
      ]
    },
    {
      "cell_type": "code",
      "metadata": {
        "id": "W23I8EsOqMYX",
        "colab_type": "code",
        "colab": {
          "base_uri": "https://localhost:8080/",
          "height": 230
        },
        "outputId": "9dd33153-8bda-478d-b2de-73adc45eaeb0"
      },
      "source": [
        "print(a2)\n",
        "print('===')\n",
        "b2 = np.insert(a2, 1,10, axis=0)\n",
        "print(b2)\n",
        "print('===')\n",
        "c2 = np.insert(a2,1, 10, axis=1)\n",
        "print(c2)"
      ],
      "execution_count": null,
      "outputs": [
        {
          "output_type": "stream",
          "text": [
            "[[1 2 3]\n",
            " [4 5 6]\n",
            " [7 8 9]]\n",
            "===\n",
            "[[ 1  2  3]\n",
            " [10 10 10]\n",
            " [ 4  5  6]\n",
            " [ 7  8  9]]\n",
            "===\n",
            "[[ 1 10  2  3]\n",
            " [ 4 10  5  6]\n",
            " [ 7 10  8  9]]\n"
          ],
          "name": "stdout"
        }
      ]
    },
    {
      "cell_type": "markdown",
      "metadata": {
        "id": "63lLJ54isaHN",
        "colab_type": "text"
      },
      "source": [
        "### 배열 값 수정 \n",
        " - 배열의 인덱싱으로 접근하여 값 수정"
      ]
    },
    {
      "cell_type": "code",
      "metadata": {
        "id": "UqmN7Idjp3kN",
        "colab_type": "code",
        "colab": {
          "base_uri": "https://localhost:8080/",
          "height": 70
        },
        "outputId": "3dc74988-ea0d-48e6-df62-d1f23f437c11"
      },
      "source": [
        "print(a1)\n",
        "a1[0] = 1\n",
        "a1[1] = 2\n",
        "a1[2] = 3\n",
        "print(a1)\n",
        "a1[:1] = 9\n",
        "print(a1)\n"
      ],
      "execution_count": null,
      "outputs": [
        {
          "output_type": "stream",
          "text": [
            "[9 2 3 4 5]\n",
            "[1 2 3 4 5]\n",
            "[9 2 3 4 5]\n"
          ],
          "name": "stdout"
        }
      ]
    },
    {
      "cell_type": "code",
      "metadata": {
        "id": "u_f2McjvpsS1",
        "colab_type": "code",
        "colab": {
          "base_uri": "https://localhost:8080/",
          "height": 34
        },
        "outputId": "edc0f040-64db-4a6c-ab19-320e0f971980"
      },
      "source": [
        "i = np.array([1,3,4])\n",
        "a1[i] = 0\n",
        "a1[i] += 4\n",
        "\n",
        "print(a1)"
      ],
      "execution_count": null,
      "outputs": [
        {
          "output_type": "stream",
          "text": [
            "[9 4 3 4 4]\n"
          ],
          "name": "stdout"
        }
      ]
    },
    {
      "cell_type": "code",
      "metadata": {
        "id": "BzjcvkkQzVC8",
        "colab_type": "code",
        "colab": {
          "base_uri": "https://localhost:8080/",
          "height": 354
        },
        "outputId": "de43b8a3-9476-4578-e18f-f55ef7626fe1"
      },
      "source": [
        "a2 = np.array([[1,2,3],[4,5,6],[7,8,9]])\n",
        "print(a2)\n",
        "a2[0,0]=1\n",
        "print('===')\n",
        "a2[1,1]=2\n",
        "print(a2)\n",
        "a2[2,2]=3\n",
        "print('===')\n",
        "\n",
        "a2[0]=1\n",
        "print(a2)\n",
        "print('===')\n",
        "a2[1:, 2] = 9\n",
        "print(a2)\n",
        "print('===')\n",
        "a2[row, col] = 0\n",
        "print(a2)"
      ],
      "execution_count": null,
      "outputs": [
        {
          "output_type": "stream",
          "text": [
            "[[1 2 3]\n",
            " [4 5 6]\n",
            " [7 8 9]]\n",
            "===\n",
            "[[1 2 3]\n",
            " [4 2 6]\n",
            " [7 8 9]]\n",
            "===\n",
            "[[1 1 1]\n",
            " [4 2 6]\n",
            " [7 8 3]]\n",
            "===\n",
            "[[1 1 1]\n",
            " [4 2 9]\n",
            " [7 8 9]]\n",
            "===\n",
            "[[1 0 1]\n",
            " [4 2 9]\n",
            " [7 8 0]]\n"
          ],
          "name": "stdout"
        }
      ]
    },
    {
      "cell_type": "markdown",
      "metadata": {
        "id": "9kzFq2SnzP2L",
        "colab_type": "text"
      },
      "source": [
        "### 배열 값 삭제 \n",
        "- delete(): 배열의 특정 위치에 값 삭제\n",
        "- axis를 지정하지 않으면 1차원 배열로 변환\n",
        "- 삭제할 방향을 axis로 지정\n",
        "- 원본 배열 변경없이 새로운 배열 반환\n"
      ]
    },
    {
      "cell_type": "code",
      "metadata": {
        "id": "d1dwjq3Wy8Fa",
        "colab_type": "code",
        "colab": {
          "base_uri": "https://localhost:8080/",
          "height": 70
        },
        "outputId": "705cbd66-2c0d-4b0c-c46d-d1bece4d4e42"
      },
      "source": [
        "print(a1)\n",
        "b1 = np.delete(a1,1)\n",
        "print(b1)\n",
        "print(a1)"
      ],
      "execution_count": null,
      "outputs": [
        {
          "output_type": "stream",
          "text": [
            "[9 4 3 4 4]\n",
            "[9 3 4 4]\n",
            "[9 4 3 4 4]\n"
          ],
          "name": "stdout"
        }
      ]
    },
    {
      "cell_type": "code",
      "metadata": {
        "id": "n8YnW1e8n3W8",
        "colab_type": "code",
        "colab": {
          "base_uri": "https://localhost:8080/",
          "height": 212
        },
        "outputId": "260d87bd-241a-42e1-9db2-adb9c21e4e8b"
      },
      "source": [
        "print(a2)\n",
        "print('===')\n",
        "print()\n",
        "b2 = np.delete(a2, 1, axis=0)\n",
        "print(b2)\n",
        "print('===')\n",
        "c2 = np.delete(a2, 1, axis=1)\n",
        "print(c2)"
      ],
      "execution_count": null,
      "outputs": [
        {
          "output_type": "stream",
          "text": [
            "[[1 0 1]\n",
            " [4 2 9]\n",
            " [7 8 0]]\n",
            "===\n",
            "\n",
            "[[1 0 1]\n",
            " [7 8 0]]\n",
            "===\n",
            "[[1 1]\n",
            " [4 9]\n",
            " [7 0]]\n"
          ],
          "name": "stdout"
        }
      ]
    },
    {
      "cell_type": "markdown",
      "metadata": {
        "id": "IH1wCRTmnv2C",
        "colab_type": "text"
      },
      "source": [
        "### 배열 복사\n",
        "- 리스트 자료형과 달리 배열의 슬라이스는 복사본이 아님 \n"
      ]
    },
    {
      "cell_type": "code",
      "metadata": {
        "id": "le-6N5Oj2tSD",
        "colab_type": "code",
        "colab": {
          "base_uri": "https://localhost:8080/",
          "height": 301
        },
        "outputId": "92db551c-3094-4120-dfc3-f35a3c08bdad"
      },
      "source": [
        "print(a2)\n",
        "print('===')\n",
        "print(a2[:2, :2])\n",
        "a2_sub = a2[:2, :2]\n",
        "print('===')\n",
        "print(a2_sub)\n",
        "print('===')\n",
        "a2_sub[:, 1] = 0\n",
        "print(a2_sub)\n",
        "print('===')\n",
        "print(a2)\n"
      ],
      "execution_count": null,
      "outputs": [
        {
          "output_type": "stream",
          "text": [
            "[[1 0 1]\n",
            " [4 0 9]\n",
            " [7 8 0]]\n",
            "===\n",
            "[[1 0]\n",
            " [4 0]]\n",
            "===\n",
            "[[1 0]\n",
            " [4 0]]\n",
            "===\n",
            "[[1 0]\n",
            " [4 0]]\n",
            "===\n",
            "[[1 0 1]\n",
            " [4 0 9]\n",
            " [7 8 0]]\n"
          ],
          "name": "stdout"
        }
      ]
    },
    {
      "cell_type": "markdown",
      "metadata": {
        "id": "g-GGCsMOmp13",
        "colab_type": "text"
      },
      "source": [
        " - copy(): 배열이나 하위 배열 내의 값을 명시적으로 복사"
      ]
    },
    {
      "cell_type": "code",
      "metadata": {
        "id": "W84wU99HZa63",
        "colab_type": "code",
        "colab": {
          "base_uri": "https://localhost:8080/",
          "height": 230
        },
        "outputId": "67ac7571-20ed-435b-d5e0-01af446e1947"
      },
      "source": [
        "print(a2)\n",
        "print('===')\n",
        "a2_sub_copy = a2[:2, :2].copy()\n",
        "print(a2_sub_copy)\n",
        "a2_sub_copy[:, 1]=1\n",
        "print('===')\n",
        "print(a2_sub_copy)\n",
        "print(a2)"
      ],
      "execution_count": null,
      "outputs": [
        {
          "output_type": "stream",
          "text": [
            "[[1 0 1]\n",
            " [4 0 9]\n",
            " [7 8 0]]\n",
            "===\n",
            "[[1 0]\n",
            " [4 0]]\n",
            "===\n",
            "[[1 1]\n",
            " [4 1]]\n",
            "[[1 0 1]\n",
            " [4 0 9]\n",
            " [7 8 0]]\n"
          ],
          "name": "stdout"
        }
      ]
    },
    {
      "cell_type": "markdown",
      "metadata": {
        "id": "lIpqLDIsY_P2",
        "colab_type": "text"
      },
      "source": [
        "## 배열 변환 \n"
      ]
    },
    {
      "cell_type": "markdown",
      "metadata": {
        "id": "hOiYcxYfY4QA",
        "colab_type": "text"
      },
      "source": [
        "### 배열 전치 및 축 변경"
      ]
    },
    {
      "cell_type": "code",
      "metadata": {
        "id": "ta84EN1QR__y",
        "colab_type": "code",
        "colab": {
          "base_uri": "https://localhost:8080/",
          "height": 141
        },
        "outputId": "e3659333-d7ca-4fea-cb78-2cf4c9248ba4"
      },
      "source": [
        "print(a2)\n",
        "print('===')\n",
        "print(a2.T)"
      ],
      "execution_count": null,
      "outputs": [
        {
          "output_type": "stream",
          "text": [
            "[[1 0 1]\n",
            " [4 0 9]\n",
            " [7 8 0]]\n",
            "===\n",
            "[[1 4 7]\n",
            " [0 0 8]\n",
            " [1 9 0]]\n"
          ],
          "name": "stdout"
        }
      ]
    },
    {
      "cell_type": "code",
      "metadata": {
        "id": "fO8jcudgRiCk",
        "colab_type": "code",
        "colab": {
          "base_uri": "https://localhost:8080/",
          "height": 425
        },
        "outputId": "497c242b-f512-4c10-be5e-33af8ed06138"
      },
      "source": [
        "print(a3)\n",
        "print('==================')\n",
        "print(a3.T)"
      ],
      "execution_count": null,
      "outputs": [
        {
          "output_type": "stream",
          "text": [
            "[[[ 1  2  3  4]\n",
            "  [ 5  6  7  8]\n",
            "  [ 9 10 11 12]]\n",
            "\n",
            " [[11 12 13 14]\n",
            "  [15 16 17 18]\n",
            "  [19 20 21 22]]]\n",
            "==================\n",
            "[[[ 1 11]\n",
            "  [ 5 15]\n",
            "  [ 9 19]]\n",
            "\n",
            " [[ 2 12]\n",
            "  [ 6 16]\n",
            "  [10 20]]\n",
            "\n",
            " [[ 3 13]\n",
            "  [ 7 17]\n",
            "  [11 21]]\n",
            "\n",
            " [[ 4 14]\n",
            "  [ 8 18]\n",
            "  [12 22]]]\n"
          ],
          "name": "stdout"
        }
      ]
    },
    {
      "cell_type": "code",
      "metadata": {
        "id": "mg8EqUMXPq9y",
        "colab_type": "code",
        "colab": {
          "base_uri": "https://localhost:8080/",
          "height": 141
        },
        "outputId": "a5b96948-8437-4ef2-a499-8afccd9aeeae"
      },
      "source": [
        "print(a2)\n",
        "print('==================')\n",
        "print(a2.swapaxes(1,0))"
      ],
      "execution_count": null,
      "outputs": [
        {
          "output_type": "stream",
          "text": [
            "[[1 0 1]\n",
            " [4 0 9]\n",
            " [7 8 0]]\n",
            "==================\n",
            "[[1 4 7]\n",
            " [0 0 8]\n",
            " [1 9 0]]\n"
          ],
          "name": "stdout"
        }
      ]
    },
    {
      "cell_type": "code",
      "metadata": {
        "id": "YI-_qSJZO2yf",
        "colab_type": "code",
        "colab": {
          "base_uri": "https://localhost:8080/",
          "height": 638
        },
        "outputId": "095311e4-1adb-43f7-b39e-cad53a61b5da"
      },
      "source": [
        "print(a3)\n",
        "print('==================')\n",
        "print(a3.swapaxes(0,1))\n",
        "print('==================')\n",
        "print(a3.swapaxes(1,2))"
      ],
      "execution_count": null,
      "outputs": [
        {
          "output_type": "stream",
          "text": [
            "[[[1 2 3]\n",
            "  [4 5 6]\n",
            "  [7 8 9]]\n",
            "\n",
            " [[1 2 3]\n",
            "  [4 5 6]\n",
            "  [7 8 9]]\n",
            "\n",
            " [[1 2 3]\n",
            "  [4 5 6]\n",
            "  [7 8 9]]]\n",
            "==================\n",
            "[[[1 2 3]\n",
            "  [1 2 3]\n",
            "  [1 2 3]]\n",
            "\n",
            " [[4 5 6]\n",
            "  [4 5 6]\n",
            "  [4 5 6]]\n",
            "\n",
            " [[7 8 9]\n",
            "  [7 8 9]\n",
            "  [7 8 9]]]\n",
            "==================\n",
            "[[[1 4 7]\n",
            "  [2 5 8]\n",
            "  [3 6 9]]\n",
            "\n",
            " [[1 4 7]\n",
            "  [2 5 8]\n",
            "  [3 6 9]]\n",
            "\n",
            " [[1 4 7]\n",
            "  [2 5 8]\n",
            "  [3 6 9]]]\n"
          ],
          "name": "stdout"
        }
      ]
    },
    {
      "cell_type": "markdown",
      "metadata": {
        "id": "7GfRk_64Mm0F",
        "colab_type": "text"
      },
      "source": [
        "### 배열 재구조화"
      ]
    },
    {
      "cell_type": "markdown",
      "metadata": {
        "id": "3WahpkxVMlJ9",
        "colab_type": "text"
      },
      "source": [
        "- reshape(): 배열의 형상을 변경"
      ]
    },
    {
      "cell_type": "code",
      "metadata": {
        "id": "RGDg3f-aMWue",
        "colab_type": "code",
        "colab": {
          "base_uri": "https://localhost:8080/",
          "height": 87
        },
        "outputId": "c4ceb013-032a-49d4-84c5-56b5644507e2"
      },
      "source": [
        "n1 = np.arange(1, 10)\n",
        "print(n1)\n",
        "print(n1.reshape(3,3))"
      ],
      "execution_count": null,
      "outputs": [
        {
          "output_type": "stream",
          "text": [
            "[1 2 3 4 5 6 7 8 9]\n",
            "[[1 2 3]\n",
            " [4 5 6]\n",
            " [7 8 9]]\n"
          ],
          "name": "stdout"
        }
      ]
    },
    {
      "cell_type": "markdown",
      "metadata": {
        "id": "bSpcgvxBK4dn",
        "colab_type": "text"
      },
      "source": [
        "- newaxis(): 새로운 축 추가"
      ]
    },
    {
      "cell_type": "code",
      "metadata": {
        "id": "Ej7mmiT6Fx6m",
        "colab_type": "code",
        "colab": {
          "base_uri": "https://localhost:8080/",
          "height": 176
        },
        "outputId": "fc3bf836-b2bc-4863-9d83-bf579e24522e"
      },
      "source": [
        "print(n1)\n",
        "print('==================')\n",
        "\n",
        "print(n1[np.newaxis, :5])\n",
        "print('==================')\n",
        "\n",
        "print(n1[:5, np.newaxis])"
      ],
      "execution_count": null,
      "outputs": [
        {
          "output_type": "stream",
          "text": [
            "[1 2 3 4 5 6 7 8 9]\n",
            "==================\n",
            "[[1 2 3 4 5]]\n",
            "==================\n",
            "[[1]\n",
            " [2]\n",
            " [3]\n",
            " [4]\n",
            " [5]]\n"
          ],
          "name": "stdout"
        }
      ]
    },
    {
      "cell_type": "markdown",
      "metadata": {
        "id": "VIZtoVvDFwzJ",
        "colab_type": "text"
      },
      "source": [
        "### 배열 크기 변경"
      ]
    },
    {
      "cell_type": "markdown",
      "metadata": {
        "id": "ArGdifkhFqMh",
        "colab_type": "text"
      },
      "source": [
        "- 배열 모양만 변경"
      ]
    },
    {
      "cell_type": "code",
      "metadata": {
        "id": "Ggu-p4L8FI32",
        "colab_type": "code",
        "colab": {
          "base_uri": "https://localhost:8080/",
          "height": 158
        },
        "outputId": "235b2133-9445-4633-fef7-a1ab29da7e58"
      },
      "source": [
        "n2 = np.random.randint(0, 3, (2,5))\n",
        "print(n2)\n",
        "print('==================')\n",
        "n2.resize((5,2))\n",
        "print((n2))"
      ],
      "execution_count": null,
      "outputs": [
        {
          "output_type": "stream",
          "text": [
            "[[1 2 0 2 0]\n",
            " [1 2 1 0 1]]\n",
            "==================\n",
            "[[1 2]\n",
            " [0 2]\n",
            " [0 1]\n",
            " [2 1]\n",
            " [0 1]]\n"
          ],
          "name": "stdout"
        }
      ]
    },
    {
      "cell_type": "markdown",
      "metadata": {
        "id": "bv9Ju79qD6wu",
        "colab_type": "text"
      },
      "source": [
        " - 배열 크기 증가\n",
        " - 남은 공간은 0으로 채워짐"
      ]
    },
    {
      "cell_type": "code",
      "metadata": {
        "id": "H-wh7FNjcWDA",
        "colab_type": "code",
        "colab": {
          "base_uri": "https://localhost:8080/",
          "height": 105
        },
        "outputId": "c648347b-7817-4feb-8a5e-458cec2db4ae"
      },
      "source": [
        "n2.resize((5,5))\n",
        "print((n2))"
      ],
      "execution_count": null,
      "outputs": [
        {
          "output_type": "stream",
          "text": [
            "[[1 2 0 2 0]\n",
            " [1 2 1 0 1]\n",
            " [0 0 0 0 0]\n",
            " [0 0 0 0 0]\n",
            " [0 0 0 0 0]]\n"
          ],
          "name": "stdout"
        }
      ]
    },
    {
      "cell_type": "markdown",
      "metadata": {
        "id": "wwPW4UuRc4Lm",
        "colab_type": "text"
      },
      "source": [
        "- 배열 크기 감소\n",
        "- 포함되지 않은 값은 삭제됨\n"
      ]
    },
    {
      "cell_type": "code",
      "metadata": {
        "id": "sjrtaxAVdCag",
        "colab_type": "code",
        "colab": {
          "base_uri": "https://localhost:8080/",
          "height": 158
        },
        "outputId": "92739a50-888f-4296-9d7e-019aa5480f93"
      },
      "source": [
        "n2.resize((4,4))\n",
        "print(n2)\n",
        "print('==================')\n",
        "n2.resize((3,3))\n",
        "print(n2)"
      ],
      "execution_count": null,
      "outputs": [
        {
          "output_type": "stream",
          "text": [
            "[[1 2 0 2]\n",
            " [0 1 2 1]\n",
            " [0 0 0 0]\n",
            " [0 0 0 0]]\n",
            "==================\n",
            "[[1 2 0]\n",
            " [2 0 1]\n",
            " [2 1 0]]\n"
          ],
          "name": "stdout"
        }
      ]
    },
    {
      "cell_type": "markdown",
      "metadata": {
        "id": "B6jmuQ3hdHNQ",
        "colab_type": "text"
      },
      "source": [
        "### 배열추가"
      ]
    },
    {
      "cell_type": "markdown",
      "metadata": {
        "id": "RFnUmJeqd24r",
        "colab_type": "text"
      },
      "source": [
        "- append(): 배열의 끝에 값 추가"
      ]
    },
    {
      "cell_type": "code",
      "metadata": {
        "id": "V0IV2QPdd6_h",
        "colab_type": "code",
        "colab": {
          "base_uri": "https://localhost:8080/",
          "height": 141
        },
        "outputId": "ec170596-501f-4f42-db25-a6a3f0feeb20"
      },
      "source": [
        "a2 = np.arange(1,10).reshape(3,3)\n",
        "print(a2)\n",
        "print('==================')\n",
        "b2 = np.arange(10,19).reshape(3,3)\n",
        "print(b2)"
      ],
      "execution_count": null,
      "outputs": [
        {
          "output_type": "stream",
          "text": [
            "[[1 2 3]\n",
            " [4 5 6]\n",
            " [7 8 9]]\n",
            "==================\n",
            "[[10 11 12]\n",
            " [13 14 15]\n",
            " [16 17 18]]\n"
          ],
          "name": "stdout"
        }
      ]
    },
    {
      "cell_type": "markdown",
      "metadata": {
        "id": "ZdLRqL0feNBx",
        "colab_type": "text"
      },
      "source": [
        "- axis 지정이 없으면 1차원 배열 형태로 변형되어 결"
      ]
    },
    {
      "cell_type": "code",
      "metadata": {
        "id": "e-8NsXhueRO2",
        "colab_type": "code",
        "colab": {
          "base_uri": "https://localhost:8080/",
          "height": 52
        },
        "outputId": "45908ea4-5d78-4b1b-df7e-5978e7cf85fb"
      },
      "source": [
        "c2 = np.append(a2, b2)\n",
        "print('==================')\n",
        "print(c2)"
      ],
      "execution_count": null,
      "outputs": [
        {
          "output_type": "stream",
          "text": [
            "==================\n",
            "[ 1  2  3  4  5  6  7  8  9 10 11 12 13 14 15 16 17 18]\n"
          ],
          "name": "stdout"
        }
      ]
    },
    {
      "cell_type": "markdown",
      "metadata": {
        "id": "c7g6cXEQeXOE",
        "colab_type": "text"
      },
      "source": [
        "- axis를 0으로 지정\n",
        "- shape[0]을 제외한 나머지 shape는 같아야 "
      ]
    },
    {
      "cell_type": "code",
      "metadata": {
        "id": "InZr3Q7GeqZ_",
        "colab_type": "code",
        "colab": {
          "base_uri": "https://localhost:8080/",
          "height": 123
        },
        "outputId": "64286ebf-e94f-4d5f-b605-12cffa06325a"
      },
      "source": [
        "c2 = np.append(a2, b2, axis=0)\n",
        "print(c2)"
      ],
      "execution_count": null,
      "outputs": [
        {
          "output_type": "stream",
          "text": [
            "[[ 1  2  3]\n",
            " [ 4  5  6]\n",
            " [ 7  8  9]\n",
            " [10 11 12]\n",
            " [13 14 15]\n",
            " [16 17 18]]\n"
          ],
          "name": "stdout"
        }
      ]
    },
    {
      "cell_type": "markdown",
      "metadata": {
        "id": "C83oAdJue8jm",
        "colab_type": "text"
      },
      "source": [
        "- axis를 1로 지정\n",
        "- shape[1]을 제외한 나머지 shape은 같아야 함 "
      ]
    },
    {
      "cell_type": "code",
      "metadata": {
        "id": "QIzldfrCevCT",
        "colab_type": "code",
        "colab": {
          "base_uri": "https://localhost:8080/",
          "height": 70
        },
        "outputId": "7d302f49-69e0-49e9-8dea-c4f169cde820"
      },
      "source": [
        "c2 = np.append(a2, b2, axis=1)\n",
        "print(c2)"
      ],
      "execution_count": null,
      "outputs": [
        {
          "output_type": "stream",
          "text": [
            "[[ 1  2  3 10 11 12]\n",
            " [ 4  5  6 13 14 15]\n",
            " [ 7  8  9 16 17 18]]\n"
          ],
          "name": "stdout"
        }
      ]
    },
    {
      "cell_type": "markdown",
      "metadata": {
        "id": "Cm2xpbyQen2k",
        "colab_type": "text"
      },
      "source": [
        "### 배열 연결 "
      ]
    },
    {
      "cell_type": "markdown",
      "metadata": {
        "id": "tOST8YP0fYXF",
        "colab_type": "text"
      },
      "source": [
        "- concatenate(): 튜플이나 배열의 리스트를 인수로 사용해 배열 연결"
      ]
    },
    {
      "cell_type": "code",
      "metadata": {
        "id": "MOGVAP4hffoq",
        "colab_type": "code",
        "colab": {
          "base_uri": "https://localhost:8080/",
          "height": 34
        },
        "outputId": "a418ebb4-d673-416e-d8e9-fed0a7ea3d06"
      },
      "source": [
        "a1 = np.array([1,3,5])\n",
        "b1 = np.array([2,4,6])\n",
        "np.concatenate([a1,b1])\n"
      ],
      "execution_count": null,
      "outputs": [
        {
          "output_type": "execute_result",
          "data": {
            "text/plain": [
              "array([1, 3, 5, 2, 4, 6])"
            ]
          },
          "metadata": {
            "tags": []
          },
          "execution_count": 147
        }
      ]
    },
    {
      "cell_type": "code",
      "metadata": {
        "id": "lau3dM3Pfuhi",
        "colab_type": "code",
        "colab": {
          "base_uri": "https://localhost:8080/",
          "height": 34
        },
        "outputId": "6e3b61ab-3dac-449b-ab24-95be957342f2"
      },
      "source": [
        "c1 = np.array([7,8,9])\n",
        "np.concatenate([a1,b1,c1])"
      ],
      "execution_count": null,
      "outputs": [
        {
          "output_type": "execute_result",
          "data": {
            "text/plain": [
              "array([1, 3, 5, 2, 4, 6, 7, 8, 9])"
            ]
          },
          "metadata": {
            "tags": []
          },
          "execution_count": 148
        }
      ]
    },
    {
      "cell_type": "code",
      "metadata": {
        "id": "vL_nu9lcgA-a",
        "colab_type": "code",
        "colab": {}
      },
      "source": [
        ""
      ],
      "execution_count": null,
      "outputs": []
    },
    {
      "cell_type": "code",
      "metadata": {
        "id": "IA-YBckif2KE",
        "colab_type": "code",
        "colab": {
          "base_uri": "https://localhost:8080/",
          "height": 105
        },
        "outputId": "c258fd34-1f4b-4169-b4d6-372ba14f4d9f"
      },
      "source": [
        "a2 = np.array([\n",
        "              [1,2,3],\n",
        "              [4,5,6]])\n",
        "np.concatenate([a2,b2], axis=0)"
      ],
      "execution_count": null,
      "outputs": [
        {
          "output_type": "execute_result",
          "data": {
            "text/plain": [
              "array([[ 1,  2,  3],\n",
              "       [ 4,  5,  6],\n",
              "       [10, 11, 12],\n",
              "       [13, 14, 15],\n",
              "       [16, 17, 18]])"
            ]
          },
          "metadata": {
            "tags": []
          },
          "execution_count": 154
        }
      ]
    },
    {
      "cell_type": "markdown",
      "metadata": {
        "id": "vPW9aa6jgOdb",
        "colab_type": "text"
      },
      "source": [
        "- vstack(): 수직 스택(vertical stack), 1차원으로 연결 "
      ]
    },
    {
      "cell_type": "code",
      "metadata": {
        "id": "tSzWHTppghMd",
        "colab_type": "code",
        "colab": {
          "base_uri": "https://localhost:8080/",
          "height": 87
        },
        "outputId": "a3eb16e8-ba74-4c09-94e9-757d4ae891c5"
      },
      "source": [
        "np.vstack([a2,a2])"
      ],
      "execution_count": null,
      "outputs": [
        {
          "output_type": "execute_result",
          "data": {
            "text/plain": [
              "array([[1, 2, 3],\n",
              "       [4, 5, 6],\n",
              "       [1, 2, 3],\n",
              "       [4, 5, 6]])"
            ]
          },
          "metadata": {
            "tags": []
          },
          "execution_count": 155
        }
      ]
    },
    {
      "cell_type": "markdown",
      "metadata": {
        "id": "C_JmJsQPgkQ9",
        "colab_type": "text"
      },
      "source": [
        "- hstack(): 수평 스택(horizontal stack), 2차원으로 연"
      ]
    },
    {
      "cell_type": "code",
      "metadata": {
        "id": "1E1fwVrugs4s",
        "colab_type": "code",
        "colab": {
          "base_uri": "https://localhost:8080/",
          "height": 52
        },
        "outputId": "58692e9d-9d97-40a1-cf7a-705c2f8d3390"
      },
      "source": [
        "np.hstack([a2,a2])"
      ],
      "execution_count": null,
      "outputs": [
        {
          "output_type": "execute_result",
          "data": {
            "text/plain": [
              "array([[1, 2, 3, 1, 2, 3],\n",
              "       [4, 5, 6, 4, 5, 6]])"
            ]
          },
          "metadata": {
            "tags": []
          },
          "execution_count": 156
        }
      ]
    },
    {
      "cell_type": "markdown",
      "metadata": {
        "id": "fTIiYDfYgv0D",
        "colab_type": "text"
      },
      "source": [
        "- dstack(): 깊이 스택(depth stack), 3차원으로 연결\n",
        "\n",
        "\n",
        "---\n",
        "\n"
      ]
    },
    {
      "cell_type": "code",
      "metadata": {
        "id": "e3x1Mrosg3wu",
        "colab_type": "code",
        "colab": {
          "base_uri": "https://localhost:8080/",
          "height": 141
        },
        "outputId": "d74beba1-7430-4287-8238-edb99d6bb847"
      },
      "source": [
        "np.dstack([a2, a2])"
      ],
      "execution_count": null,
      "outputs": [
        {
          "output_type": "execute_result",
          "data": {
            "text/plain": [
              "array([[[1, 1],\n",
              "        [2, 2],\n",
              "        [3, 3]],\n",
              "\n",
              "       [[4, 4],\n",
              "        [5, 5],\n",
              "        [6, 6]]])"
            ]
          },
          "metadata": {
            "tags": []
          },
          "execution_count": 157
        }
      ]
    },
    {
      "cell_type": "markdown",
      "metadata": {
        "id": "mDZ3vm0Dg6gx",
        "colab_type": "text"
      },
      "source": [
        "- stack(): 새로운 차원으로 연결 \n"
      ]
    },
    {
      "cell_type": "code",
      "metadata": {
        "id": "VJACS3t5hVaQ",
        "colab_type": "code",
        "colab": {
          "base_uri": "https://localhost:8080/",
          "height": 105
        },
        "outputId": "ca3ce611-8d1b-488e-d071-7d9c8bd33a65"
      },
      "source": [
        "np.stack([a2,a2])"
      ],
      "execution_count": null,
      "outputs": [
        {
          "output_type": "execute_result",
          "data": {
            "text/plain": [
              "array([[[1, 2, 3],\n",
              "        [4, 5, 6]],\n",
              "\n",
              "       [[1, 2, 3],\n",
              "        [4, 5, 6]]])"
            ]
          },
          "metadata": {
            "tags": []
          },
          "execution_count": 158
        }
      ]
    },
    {
      "cell_type": "markdown",
      "metadata": {
        "id": "zFo7qDeChYCc",
        "colab_type": "text"
      },
      "source": [
        "## 배열분"
      ]
    },
    {
      "cell_type": "markdown",
      "metadata": {
        "id": "hDRNG9qphgcf",
        "colab_type": "text"
      },
      "source": [
        "- split(): 배열분할 "
      ]
    },
    {
      "cell_type": "code",
      "metadata": {
        "id": "dYjrk3iDhkjK",
        "colab_type": "code",
        "colab": {
          "base_uri": "https://localhost:8080/",
          "height": 70
        },
        "outputId": "1ea3be7a-bd41-4f5f-b168-e08f503dcf32"
      },
      "source": [
        "a1 = np.arange(0,10)\n",
        "print(a1)\n",
        "b1, c1 = np.split(a1, [5])\n",
        "print('---------------')\n",
        "print(b1,c1)\n",
        "print('---------------')\n",
        "b1, c1 = np.split(a1, [2,4,6,8])\n"
      ],
      "execution_count": null,
      "outputs": [
        {
          "output_type": "stream",
          "text": [
            "[0 1 2 3 4 5 6 7 8 9]\n",
            "---------------\n",
            "[0 1 2 3 4] [5 6 7 8 9]\n"
          ],
          "name": "stdout"
        }
      ]
    },
    {
      "cell_type": "markdown",
      "metadata": {
        "id": "Su2maH5UhmN9",
        "colab_type": "text"
      },
      "source": [
        "- vsplit(): 수직분할, 1차원으로 분"
      ]
    },
    {
      "cell_type": "code",
      "metadata": {
        "id": "Kd_btWYzhpoN",
        "colab_type": "code",
        "colab": {}
      },
      "source": [
        ""
      ],
      "execution_count": null,
      "outputs": []
    },
    {
      "cell_type": "markdown",
      "metadata": {
        "id": "FqZ6b_FwhqGx",
        "colab_type": "text"
      },
      "source": [
        "- hsplit(): 수평분할, 2차원으로 분"
      ]
    },
    {
      "cell_type": "code",
      "metadata": {
        "id": "4bY0BBU9hu6b",
        "colab_type": "code",
        "colab": {}
      },
      "source": [
        ""
      ],
      "execution_count": null,
      "outputs": []
    },
    {
      "cell_type": "markdown",
      "metadata": {
        "id": "I54IYsoIhvXN",
        "colab_type": "text"
      },
      "source": [
        "- dsplit(): 깊이 분할, 3차원으로 분할"
      ]
    },
    {
      "cell_type": "code",
      "metadata": {
        "id": "aPco2uq7hSHm",
        "colab_type": "code",
        "colab": {}
      },
      "source": [
        ""
      ],
      "execution_count": null,
      "outputs": []
    },
    {
      "cell_type": "code",
      "metadata": {
        "id": "y0-RjkOfgMg3",
        "colab_type": "code",
        "colab": {}
      },
      "source": [
        ""
      ],
      "execution_count": null,
      "outputs": []
    },
    {
      "cell_type": "code",
      "metadata": {
        "id": "MmfsA5P_gJMu",
        "colab_type": "code",
        "colab": {}
      },
      "source": [
        ""
      ],
      "execution_count": null,
      "outputs": []
    },
    {
      "cell_type": "code",
      "metadata": {
        "id": "_EQBzhSifgYg",
        "colab_type": "code",
        "colab": {}
      },
      "source": [
        ""
      ],
      "execution_count": null,
      "outputs": []
    },
    {
      "cell_type": "code",
      "metadata": {
        "id": "pw_ViqoJfghk",
        "colab_type": "code",
        "colab": {}
      },
      "source": [
        ""
      ],
      "execution_count": null,
      "outputs": []
    },
    {
      "cell_type": "code",
      "metadata": {
        "id": "OFxZwlXXfiBX",
        "colab_type": "code",
        "colab": {}
      },
      "source": [
        ""
      ],
      "execution_count": null,
      "outputs": []
    }
  ]
}